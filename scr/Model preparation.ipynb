
{
 "cells": [
  {
   "cell_type": "markdown",
   "metadata": {},
   "source": [
    "# Model Preparation\n"
   ]
  },
  {
   "cell_type": "markdown",
   "metadata": {},
   "source": [
    "First we import all the necessary packages and scripts"
   ]
  },
  {
   "cell_type": "code",
   "execution_count": 17,
   "metadata": {
    "ExecuteTime": {
     "end_time": "2023-12-02T11:06:31.254936400Z",
     "start_time": "2023-12-02T11:06:31.252941900Z"
    }
   },
   "outputs": [],
   "source": [
    "import numpy as np\n",
    "import pandas as pd\n",
    "\n",
    "from collections import OrderedDict\n",
    "from itertools import chain\n",
    "from rdkit import Chem\n",
    "from rdkit.Chem import Descriptors\n",
    "from sklearn.utils import shuffle\n",
    "from matplotlib import pyplot as plt\n",
    "import seaborn as sns\n",
    "import tensorflow as tf\n",
    "from tensorflow.keras.preprocessing.text import Tokenizer\n",
    "from tensorflow.keras.preprocessing.sequence import pad_sequences\n",
    "from tensorflow.keras.models import Sequential, Model\n",
    "from tensorflow.keras.layers import Dense\n",
    "from tensorflow.keras.layers import Dropout\n",
    "from tensorflow.keras.layers import LSTM\n",
    "from colorama import Fore, Style"
   ]
  },
  {
   "cell_type": "markdown",
   "metadata": {},
   "source": [
    "#### Generate a subset of SMILES so its faster to test code"
   ]
  },
  {
   "cell_type": "code",
   "execution_count": 18,
   "metadata": {
    "ExecuteTime": {
     "end_time": "2023-12-02T10:29:05.598695700Z",
     "start_time": "2023-12-02T10:29:01.841466200Z"
    }
   },
   "outputs": [
    {
     "ename": "FileNotFoundError",
     "evalue": "[Errno 2] No such file or directory: 'ChEMBL33.csv'",
     "output_type": "error",
     "traceback": [
      "\u001b[1;31m---------------------------------------------------------------------------\u001b[0m",
      "\u001b[1;31mFileNotFoundError\u001b[0m                         Traceback (most recent call last)",
      "\u001b[1;32m<ipython-input-18-df75faa81b2a>\u001b[0m in \u001b[0;36m<module>\u001b[1;34m\u001b[0m\n\u001b[0;32m     14\u001b[0m \u001b[0mcsv_file_path\u001b[0m \u001b[1;33m=\u001b[0m \u001b[1;34m'ChEMBL33.csv'\u001b[0m\u001b[1;33m\u001b[0m\u001b[1;33m\u001b[0m\u001b[0m\n\u001b[0;32m     15\u001b[0m \u001b[0moutput_csv_file\u001b[0m \u001b[1;33m=\u001b[0m \u001b[1;34m'subset_smiles.csv'\u001b[0m\u001b[1;33m\u001b[0m\u001b[1;33m\u001b[0m\u001b[0m\n\u001b[1;32m---> 16\u001b[1;33m \u001b[0mextract_smiles\u001b[0m\u001b[1;33m(\u001b[0m\u001b[0mcsv_file_path\u001b[0m\u001b[1;33m,\u001b[0m \u001b[0moutput_csv_file\u001b[0m\u001b[1;33m)\u001b[0m\u001b[1;33m\u001b[0m\u001b[1;33m\u001b[0m\u001b[0m\n\u001b[0m",
      "\u001b[1;32m<ipython-input-18-df75faa81b2a>\u001b[0m in \u001b[0;36mextract_smiles\u001b[1;34m(csv_file_path, output_csv_file, limit)\u001b[0m\n\u001b[0;32m      1\u001b[0m \u001b[1;32mdef\u001b[0m \u001b[0mextract_smiles\u001b[0m\u001b[1;33m(\u001b[0m\u001b[0mcsv_file_path\u001b[0m\u001b[1;33m,\u001b[0m \u001b[0moutput_csv_file\u001b[0m\u001b[1;33m,\u001b[0m \u001b[0mlimit\u001b[0m\u001b[1;33m=\u001b[0m\u001b[1;36m1000\u001b[0m\u001b[1;33m)\u001b[0m\u001b[1;33m:\u001b[0m\u001b[1;33m\u001b[0m\u001b[1;33m\u001b[0m\u001b[0m\n\u001b[0;32m      2\u001b[0m     \u001b[1;31m# Read the CSV file\u001b[0m\u001b[1;33m\u001b[0m\u001b[1;33m\u001b[0m\u001b[1;33m\u001b[0m\u001b[0m\n\u001b[1;32m----> 3\u001b[1;33m     \u001b[0mdata\u001b[0m \u001b[1;33m=\u001b[0m \u001b[0mpd\u001b[0m\u001b[1;33m.\u001b[0m\u001b[0mread_csv\u001b[0m\u001b[1;33m(\u001b[0m\u001b[0mcsv_file_path\u001b[0m\u001b[1;33m)\u001b[0m\u001b[1;33m\u001b[0m\u001b[1;33m\u001b[0m\u001b[0m\n\u001b[0m\u001b[0;32m      4\u001b[0m \u001b[1;33m\u001b[0m\u001b[0m\n\u001b[0;32m      5\u001b[0m     \u001b[1;31m# Extract the first 'limit' number of SMILES\u001b[0m\u001b[1;33m\u001b[0m\u001b[1;33m\u001b[0m\u001b[1;33m\u001b[0m\u001b[0m\n",
      "\u001b[1;32m~\\AppData\\Local\\anaconda3\\envs\\8qc00\\lib\\site-packages\\pandas\\io\\parsers.py\u001b[0m in \u001b[0;36mread_csv\u001b[1;34m(filepath_or_buffer, sep, delimiter, header, names, index_col, usecols, squeeze, prefix, mangle_dupe_cols, dtype, engine, converters, true_values, false_values, skipinitialspace, skiprows, skipfooter, nrows, na_values, keep_default_na, na_filter, verbose, skip_blank_lines, parse_dates, infer_datetime_format, keep_date_col, date_parser, dayfirst, cache_dates, iterator, chunksize, compression, thousands, decimal, lineterminator, quotechar, quoting, doublequote, escapechar, comment, encoding, dialect, error_bad_lines, warn_bad_lines, delim_whitespace, low_memory, memory_map, float_precision)\u001b[0m\n\u001b[0;32m    686\u001b[0m     )\n\u001b[0;32m    687\u001b[0m \u001b[1;33m\u001b[0m\u001b[0m\n\u001b[1;32m--> 688\u001b[1;33m     \u001b[1;32mreturn\u001b[0m \u001b[0m_read\u001b[0m\u001b[1;33m(\u001b[0m\u001b[0mfilepath_or_buffer\u001b[0m\u001b[1;33m,\u001b[0m \u001b[0mkwds\u001b[0m\u001b[1;33m)\u001b[0m\u001b[1;33m\u001b[0m\u001b[1;33m\u001b[0m\u001b[0m\n\u001b[0m\u001b[0;32m    689\u001b[0m \u001b[1;33m\u001b[0m\u001b[0m\n\u001b[0;32m    690\u001b[0m \u001b[1;33m\u001b[0m\u001b[0m\n",
      "\u001b[1;32m~\\AppData\\Local\\anaconda3\\envs\\8qc00\\lib\\site-packages\\pandas\\io\\parsers.py\u001b[0m in \u001b[0;36m_read\u001b[1;34m(filepath_or_buffer, kwds)\u001b[0m\n\u001b[0;32m    452\u001b[0m \u001b[1;33m\u001b[0m\u001b[0m\n\u001b[0;32m    453\u001b[0m     \u001b[1;31m# Create the parser.\u001b[0m\u001b[1;33m\u001b[0m\u001b[1;33m\u001b[0m\u001b[1;33m\u001b[0m\u001b[0m\n\u001b[1;32m--> 454\u001b[1;33m     \u001b[0mparser\u001b[0m \u001b[1;33m=\u001b[0m \u001b[0mTextFileReader\u001b[0m\u001b[1;33m(\u001b[0m\u001b[0mfp_or_buf\u001b[0m\u001b[1;33m,\u001b[0m \u001b[1;33m**\u001b[0m\u001b[0mkwds\u001b[0m\u001b[1;33m)\u001b[0m\u001b[1;33m\u001b[0m\u001b[1;33m\u001b[0m\u001b[0m\n\u001b[0m\u001b[0;32m    455\u001b[0m \u001b[1;33m\u001b[0m\u001b[0m\n\u001b[0;32m    456\u001b[0m     \u001b[1;32mif\u001b[0m \u001b[0mchunksize\u001b[0m \u001b[1;32mor\u001b[0m \u001b[0miterator\u001b[0m\u001b[1;33m:\u001b[0m\u001b[1;33m\u001b[0m\u001b[1;33m\u001b[0m\u001b[0m\n",
      "\u001b[1;32m~\\AppData\\Local\\anaconda3\\envs\\8qc00\\lib\\site-packages\\pandas\\io\\parsers.py\u001b[0m in \u001b[0;36m__init__\u001b[1;34m(self, f, engine, **kwds)\u001b[0m\n\u001b[0;32m    946\u001b[0m             \u001b[0mself\u001b[0m\u001b[1;33m.\u001b[0m\u001b[0moptions\u001b[0m\u001b[1;33m[\u001b[0m\u001b[1;34m\"has_index_names\"\u001b[0m\u001b[1;33m]\u001b[0m \u001b[1;33m=\u001b[0m \u001b[0mkwds\u001b[0m\u001b[1;33m[\u001b[0m\u001b[1;34m\"has_index_names\"\u001b[0m\u001b[1;33m]\u001b[0m\u001b[1;33m\u001b[0m\u001b[1;33m\u001b[0m\u001b[0m\n\u001b[0;32m    947\u001b[0m \u001b[1;33m\u001b[0m\u001b[0m\n\u001b[1;32m--> 948\u001b[1;33m         \u001b[0mself\u001b[0m\u001b[1;33m.\u001b[0m\u001b[0m_make_engine\u001b[0m\u001b[1;33m(\u001b[0m\u001b[0mself\u001b[0m\u001b[1;33m.\u001b[0m\u001b[0mengine\u001b[0m\u001b[1;33m)\u001b[0m\u001b[1;33m\u001b[0m\u001b[1;33m\u001b[0m\u001b[0m\n\u001b[0m\u001b[0;32m    949\u001b[0m \u001b[1;33m\u001b[0m\u001b[0m\n\u001b[0;32m    950\u001b[0m     \u001b[1;32mdef\u001b[0m \u001b[0mclose\u001b[0m\u001b[1;33m(\u001b[0m\u001b[0mself\u001b[0m\u001b[1;33m)\u001b[0m\u001b[1;33m:\u001b[0m\u001b[1;33m\u001b[0m\u001b[1;33m\u001b[0m\u001b[0m\n",
      "\u001b[1;32m~\\AppData\\Local\\anaconda3\\envs\\8qc00\\lib\\site-packages\\pandas\\io\\parsers.py\u001b[0m in \u001b[0;36m_make_engine\u001b[1;34m(self, engine)\u001b[0m\n\u001b[0;32m   1178\u001b[0m     \u001b[1;32mdef\u001b[0m \u001b[0m_make_engine\u001b[0m\u001b[1;33m(\u001b[0m\u001b[0mself\u001b[0m\u001b[1;33m,\u001b[0m \u001b[0mengine\u001b[0m\u001b[1;33m=\u001b[0m\u001b[1;34m\"c\"\u001b[0m\u001b[1;33m)\u001b[0m\u001b[1;33m:\u001b[0m\u001b[1;33m\u001b[0m\u001b[1;33m\u001b[0m\u001b[0m\n\u001b[0;32m   1179\u001b[0m         \u001b[1;32mif\u001b[0m \u001b[0mengine\u001b[0m \u001b[1;33m==\u001b[0m \u001b[1;34m\"c\"\u001b[0m\u001b[1;33m:\u001b[0m\u001b[1;33m\u001b[0m\u001b[1;33m\u001b[0m\u001b[0m\n\u001b[1;32m-> 1180\u001b[1;33m             \u001b[0mself\u001b[0m\u001b[1;33m.\u001b[0m\u001b[0m_engine\u001b[0m \u001b[1;33m=\u001b[0m \u001b[0mCParserWrapper\u001b[0m\u001b[1;33m(\u001b[0m\u001b[0mself\u001b[0m\u001b[1;33m.\u001b[0m\u001b[0mf\u001b[0m\u001b[1;33m,\u001b[0m \u001b[1;33m**\u001b[0m\u001b[0mself\u001b[0m\u001b[1;33m.\u001b[0m\u001b[0moptions\u001b[0m\u001b[1;33m)\u001b[0m\u001b[1;33m\u001b[0m\u001b[1;33m\u001b[0m\u001b[0m\n\u001b[0m\u001b[0;32m   1181\u001b[0m         \u001b[1;32melse\u001b[0m\u001b[1;33m:\u001b[0m\u001b[1;33m\u001b[0m\u001b[1;33m\u001b[0m\u001b[0m\n\u001b[0;32m   1182\u001b[0m             \u001b[1;32mif\u001b[0m \u001b[0mengine\u001b[0m \u001b[1;33m==\u001b[0m \u001b[1;34m\"python\"\u001b[0m\u001b[1;33m:\u001b[0m\u001b[1;33m\u001b[0m\u001b[1;33m\u001b[0m\u001b[0m\n",
      "\u001b[1;32m~\\AppData\\Local\\anaconda3\\envs\\8qc00\\lib\\site-packages\\pandas\\io\\parsers.py\u001b[0m in \u001b[0;36m__init__\u001b[1;34m(self, src, **kwds)\u001b[0m\n\u001b[0;32m   2008\u001b[0m         \u001b[0mkwds\u001b[0m\u001b[1;33m[\u001b[0m\u001b[1;34m\"usecols\"\u001b[0m\u001b[1;33m]\u001b[0m \u001b[1;33m=\u001b[0m \u001b[0mself\u001b[0m\u001b[1;33m.\u001b[0m\u001b[0musecols\u001b[0m\u001b[1;33m\u001b[0m\u001b[1;33m\u001b[0m\u001b[0m\n\u001b[0;32m   2009\u001b[0m \u001b[1;33m\u001b[0m\u001b[0m\n\u001b[1;32m-> 2010\u001b[1;33m         \u001b[0mself\u001b[0m\u001b[1;33m.\u001b[0m\u001b[0m_reader\u001b[0m \u001b[1;33m=\u001b[0m \u001b[0mparsers\u001b[0m\u001b[1;33m.\u001b[0m\u001b[0mTextReader\u001b[0m\u001b[1;33m(\u001b[0m\u001b[0msrc\u001b[0m\u001b[1;33m,\u001b[0m \u001b[1;33m**\u001b[0m\u001b[0mkwds\u001b[0m\u001b[1;33m)\u001b[0m\u001b[1;33m\u001b[0m\u001b[1;33m\u001b[0m\u001b[0m\n\u001b[0m\u001b[0;32m   2011\u001b[0m         \u001b[0mself\u001b[0m\u001b[1;33m.\u001b[0m\u001b[0munnamed_cols\u001b[0m \u001b[1;33m=\u001b[0m \u001b[0mself\u001b[0m\u001b[1;33m.\u001b[0m\u001b[0m_reader\u001b[0m\u001b[1;33m.\u001b[0m\u001b[0munnamed_cols\u001b[0m\u001b[1;33m\u001b[0m\u001b[1;33m\u001b[0m\u001b[0m\n\u001b[0;32m   2012\u001b[0m \u001b[1;33m\u001b[0m\u001b[0m\n",
      "\u001b[1;32mpandas\\_libs\\parsers.pyx\u001b[0m in \u001b[0;36mpandas._libs.parsers.TextReader.__cinit__\u001b[1;34m()\u001b[0m\n",
      "\u001b[1;32mpandas\\_libs\\parsers.pyx\u001b[0m in \u001b[0;36mpandas._libs.parsers.TextReader._setup_parser_source\u001b[1;34m()\u001b[0m\n",
      "\u001b[1;31mFileNotFoundError\u001b[0m: [Errno 2] No such file or directory: 'ChEMBL33.csv'"
     ]
    }
   ],
   "source": [
    "def extract_smiles(csv_file_path, output_csv_file, limit=1000):\n",
    "    # Read the CSV file\n",
    "    data = pd.read_csv(csv_file_path)\n",
    "\n",
    "    # Extract the first 'limit' number of SMILES\n",
    "    subset = data.iloc[:limit]\n",
    "\n",
    "    # Save the subset to a new CSV file\n",
    "    subset.to_csv(output_csv_file, index=False)\n",
    "\n",
    "    print(f\"Saved {limit} SMILES to {output_csv_file}\")\n",
    "\n",
    "# Usage\n",
    "csv_file_path = 'ChEMBL33.csv'\n",
    "output_csv_file = 'subset_smiles.csv'\n",
    "extract_smiles(csv_file_path, output_csv_file)"
   ]
  },
  {
   "cell_type": "markdown",
   "metadata": {},
   "source": [
    "### Removing unwanted data and cannonicalizing\n",
    "This involves removing invalid data, duplicates, salts, stereochems. Finally it cannonicalizes the smiles."
   ]
  },
  {
   "cell_type": "code",
   "execution_count": 7,
   "metadata": {
    "ExecuteTime": {
     "end_time": "2023-12-02T10:31:44.724952200Z",
     "start_time": "2023-12-02T10:31:43.236931600Z"
    }
   },
   "outputs": [
    {
     "name": "stdout",
     "output_type": "stream",
     "text": [
      "\u001b[32mPre-processing of \"subset_smiles\" started.\n",
      "\u001b[32m invalid SMILES - removed.\n",
      "\u001b[0m\n",
      "\u001b[32m duplicate SMILES - removed.\n",
      "\u001b[0m\n",
      "\u001b[32m salts - removed.\n",
      "\u001b[0m\n",
      "\u001b[32m stereochemistry - removed.\n",
      "\u001b[0m\n",
      "\u001b[32m canonicalized SMILES.\n",
      "\u001b[0m\n",
      "['Brc1cccc(Nc2ncnc3ccncc23)c1NCCN1CCOCC1' 'C#CC(C)(O)CC'\n",
      " 'C#CC1CCC(C#N)N1C(=O)CNC12CC3CC(CC(O)(C3)C1)C2'\n",
      " 'C#CC=CCCCCCCCCCCC=CCCCCCC'\n",
      " 'C#CC=CCCCCCCCCCCCCCCC=CCCCCC(O)C=CCCCC#CC(O)C#CCCCCCCC=CC(O)C#C']\n"
     ]
    }
   ],
   "source": [
    "def remove_unwanted_data(filename_in='', filename_out='',  invalid=True, duplicates=True, salts=True, stereochem=True, canonicalize=True):\n",
    "    \"\"\"Pre-processing of SMILES based on the user-defined parameters\n",
    "            :param filename_in     path to the file containing the SMILES to pretreat (SMILES only) -- default = ChEMBL\n",
    "            :param filename_out    path for file export -- default = ../data/\n",
    "            :param invalid         if True (default), removes invalid SMILES\n",
    "            :param duplicates      if True (default), removes duplicates\n",
    "            :param salts           if True (default), removes salts\n",
    "            :param stereochem      if True (default), removes stereochemistry\n",
    "            :param canonicalize    if True (default), produces canonical SMILES\n",
    "    \"\"\"\n",
    "\n",
    "    from preprocessor import Preprocessor\n",
    "    p = Preprocessor(filename_in)\n",
    "\n",
    "    print(Fore.GREEN + 'Pre-processing of \"' + filename_in + '\" started.')\n",
    "\n",
    "\n",
    "    # user-defined pretreatment\n",
    "    if invalid:\n",
    "        p.remove_not_valid()\n",
    "        print(Fore.GREEN + ' invalid SMILES - removed.')\n",
    "        print(Style.RESET_ALL)\n",
    "\n",
    "    if duplicates:\n",
    "        p.remove_duplicates()\n",
    "        print(Fore.GREEN + ' duplicate SMILES - removed.')\n",
    "        print(Style.RESET_ALL)\n",
    "\n",
    "    if salts:\n",
    "        p.remove_salts()\n",
    "        print(Fore.GREEN + ' salts - removed.')\n",
    "        print(Style.RESET_ALL)\n",
    "\n",
    "    if stereochem:\n",
    "        p.remove_stereochem()\n",
    "        print(Fore.GREEN + ' stereochemistry - removed.')\n",
    "        print(Style.RESET_ALL)\n",
    "\n",
    "    if canonicalize:\n",
    "        p.canonicalize()\n",
    "        print(Fore.GREEN + ' canonicalized SMILES.')\n",
    "        print(Style.RESET_ALL)\n",
    "\n",
    "    #save data to file\n",
    "    p.save_data(filename_out)\n",
    "\n",
    "    data = p.get_data()\n",
    "    print(data[:5])\n",
    "\n",
    "\n",
    "remove_unwanted_data(filename_in='subset_smiles', filename_out='testPreprocessed_Data.csv')\n"
   ]
  },
  {
   "cell_type": "markdown",
   "metadata": {},
   "source": [
    "### Calculate Lipinski rule of 5\n",
    "Here we will calculate the descriptors that are within the rule of 5: HBD, HBA, MW and LogP. This will be used to compare the subsets of data later."
   ]
  },
  {
   "cell_type": "code",
   "execution_count": 20,
   "metadata": {},
   "outputs": [
    {
     "data": {
      "image/png": "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\n",
      "text/plain": [
       "<Figure size 1080x576 with 4 Axes>"
      ]
     },
     "metadata": {
      "needs_background": "light"
     },
     "output_type": "display_data"
    }
   ],
   "source": [
    "# Load the preprocessed data\n",
    "data = pd.read_csv(\"example_smiles.csv\")\n",
    "\n",
    "# Function to calculate Lipinski descriptors\n",
    "def lipinski_descriptors(smiles):\n",
    "    \"\"\"Calculates the descriptors that are within the Lipinski rule of 5 and returns them as a dictionary\"\"\"\n",
    "    mol = Chem.MolFromSmiles(smiles)\n",
    "    hbd = Descriptors.NumHDonors(mol)\n",
    "    hba = Descriptors.NumHAcceptors(mol)\n",
    "    mw = Descriptors.MolWt(mol)\n",
    "    logp = Descriptors.MolLogP(mol)\n",
    "    return {'Hydrogen Bond Donors': hbd, 'Hydrogen Bond Acceptors': hba, 'Molecular Weight': mw, 'LogP': logp}\n",
    "\n",
    "def visualisation_distributions(data, output_filename):\n",
    "    descriptor_list = [] #by creating list of dictionaries, we can easily set up dataframe in panda. \n",
    "    for smiles in data['canonical_smiles']:\n",
    "        descriptor_list.append(lipinski_descriptors(smiles))\n",
    "    data_with_descriptors = pd.concat([data, pd.DataFrame(descriptor_list)], axis=1)\n",
    "    \n",
    "    descriptor_columns = list(data_with_descriptors.columns)[1:]\n",
    "    plt.figure(figsize=(15, 8))\n",
    "    plt.suptitle('Density Distributions of Lipinski Descriptors', fontsize=16, fontweight='bold')\n",
    "    for i, descriptor in enumerate(descriptor_columns, 1):\n",
    "        plt.subplot(2, 2, i)\n",
    "        sns.kdeplot(data_with_descriptors[descriptor], fill=True, color=f'C{i}', lw=2)\n",
    "        plt.xlabel(descriptor)\n",
    "        plt.ylabel('Density')\n",
    "    \n",
    "    data_with_descriptors.to_csv(output_filename, index=False)\n",
    "\n",
    "output_filename = 'example_smiles_descr.csv'\n",
    "visualisation_distributions(data, output_filename)"
   ]
  },
  {
   "cell_type": "markdown",
   "metadata": {},
   "source": [
    "### One Hot Encoding"
   ]
  },
  {
   "cell_type": "code",
   "execution_count": 9,
   "metadata": {
    "ExecuteTime": {
     "end_time": "2023-12-02T11:07:16.672563200Z",
     "start_time": "2023-12-02T11:07:16.594742100Z"
    }
   },
   "outputs": [
    {
     "data": {
      "text/plain": [
       "array([[0., 1., 1., 1., 1., 0., 0., 0., 0., 0., 0., 0., 0., 0., 0., 0.,\n",
       "        0., 0., 0., 0., 0., 0., 0., 0., 0., 1., 0., 0., 0., 0., 0.],\n",
       "       [0., 1., 1., 1., 1., 1., 1., 1., 1., 1., 0., 0., 0., 0., 0., 0.,\n",
       "        0., 0., 0., 0., 0., 0., 0., 0., 0., 1., 0., 0., 0., 0., 0.],\n",
       "       [0., 1., 0., 0., 0., 0., 1., 0., 0., 0., 0., 0., 0., 0., 0., 0.,\n",
       "        0., 0., 0., 0., 0., 0., 0., 0., 0., 1., 0., 0., 0., 0., 0.],\n",
       "       [0., 1., 1., 1., 1., 0., 1., 0., 0., 0., 0., 0., 0., 0., 0., 0.,\n",
       "        0., 0., 0., 0., 0., 0., 0., 0., 0., 1., 0., 0., 0., 0., 0.],\n",
       "       [0., 1., 1., 1., 0., 1., 0., 0., 0., 0., 0., 0., 0., 1., 1., 0.,\n",
       "        0., 0., 0., 0., 0., 0., 1., 0., 0., 1., 0., 0., 0., 0., 0.]])"
      ]
     },
     "execution_count": 9,
     "metadata": {},
     "output_type": "execute_result"
    }
   ],
   "source": [
    "def one_hot_encode_smiles(csv_file_path):\n",
    "    \"\"\"Converts SMILES to one-hot encoded sequences.\"\"\"\n",
    "    Smiles_data = pd.read_csv(csv_file_path)\n",
    "    smiles_list = Smiles_data.iloc[:, 0].tolist()\n",
    "    tokenizer = Tokenizer(char_level=True)\n",
    "    tokenizer.fit_on_texts(smiles_list)\n",
    "\n",
    "    sequences = tokenizer.texts_to_sequences(smiles_list)\n",
    "    one_hot = tokenizer.sequences_to_matrix(sequences, mode='binary')\n",
    "\n",
    "    return one_hot, tokenizer\n",
    "\n",
    "csv_file_path = 'testPreprocessed_Data.csv'\n",
    "one_hot_encoded_smiles, tokenizer = one_hot_encode_smiles(csv_file_path)\n",
    "\n",
    "one_hot_encoded_smiles[0:5]"
   ]
  },
  {
   "cell_type": "markdown",
   "metadata": {},
   "source": [
    "### Padding sequence"
   ]
  },
  {
   "cell_type": "code",
   "execution_count": 10,
   "metadata": {
    "ExecuteTime": {
     "end_time": "2023-12-02T11:07:35.061378300Z",
     "start_time": "2023-12-02T11:07:35.057388900Z"
    }
   },
   "outputs": [
    {
     "data": {
      "text/plain": [
       "array([[0, 1, 1, 1, 1, 0, 0, 0, 0, 0, 0, 0, 0, 0, 0, 0, 0, 0, 0, 0, 0, 0,\n",
       "        0, 0, 0, 1, 0, 0, 0, 0, 0],\n",
       "       [0, 1, 1, 1, 1, 1, 1, 1, 1, 1, 0, 0, 0, 0, 0, 0, 0, 0, 0, 0, 0, 0,\n",
       "        0, 0, 0, 1, 0, 0, 0, 0, 0],\n",
       "       [0, 1, 0, 0, 0, 0, 1, 0, 0, 0, 0, 0, 0, 0, 0, 0, 0, 0, 0, 0, 0, 0,\n",
       "        0, 0, 0, 1, 0, 0, 0, 0, 0],\n",
       "       [0, 1, 1, 1, 1, 0, 1, 0, 0, 0, 0, 0, 0, 0, 0, 0, 0, 0, 0, 0, 0, 0,\n",
       "        0, 0, 0, 1, 0, 0, 0, 0, 0],\n",
       "       [0, 1, 1, 1, 0, 1, 0, 0, 0, 0, 0, 0, 0, 1, 1, 0, 0, 0, 0, 0, 0, 0,\n",
       "        1, 0, 0, 1, 0, 0, 0, 0, 0]])"
      ]
     },
     "execution_count": 10,
     "metadata": {},
     "output_type": "execute_result"
    }
   ],
   "source": [
    "def pad_smiles_sequences(encoded_sequences, max_length=None):\n",
    "    \"\"\"Ensures all encoded sequences are of the same length by padding shorter sequences with zeros. You can choose a suitable maximum length or leave max_length set to None to let the function determine it based on the longest sequence in the data.\"\"\"\n",
    "    if max_length is None:\n",
    "        max_length = max(len(seq) for seq in encoded_sequences)\n",
    "\n",
    "    padded_sequences = pad_sequences(encoded_sequences, maxlen=max_length, padding='post')\n",
    "\n",
    "    return padded_sequences\n",
    "\n",
    "\n",
    "padded_smiles = pad_smiles_sequences(one_hot_encoded_smiles, max_length=None)\n",
    "padded_smiles[0:5]"
   ]
  },
  {
   "cell_type": "markdown",
   "metadata": {},
   "source": [
    "### Splitting into subsets"
   ]
  },
  {
   "cell_type": "markdown",
   "metadata": {},
   "source": [
    "method from skinnider paper, but adapted"
   ]
  },
  {
   "cell_type": "code",
   "execution_count": 98,
   "metadata": {},
   "outputs": [],
   "source": [
    "#HELE BASALE CODE, MOET NOG VERBETERD WORDEN.\n",
    "train_data = np.genfromtxt('testPreprocessed_Data.csv', dtype=\"U\")\n",
    "\n",
    "def subset_splitting(datafile, num_subsets=6, step_size=25000): \n",
    "    sample_sizes = [50000 + (i * step_size) for i in range(num_subsets)]\n",
    "    \n",
    "    #remove all subset sizes > than datafile size, as we cannot generate these\n",
    "    #sample_sizes = [size for size in sample_sizes if size < len(datafile)]\n",
    "    return sample_sizes\n",
    "    \n",
    "groups = subset_splitting(train_data)\n",
    "\n",
    "def subset_creation(datafile, group_num, groups):\n",
    "    df = pd.DataFrame(datafile)\n",
    "    if group_num < len(groups):\n",
    "        subset_size = groups[group_num]\n",
    "        dataset = df.sample(subset_size, replace=True, random_state=42)\n",
    "        return dataset\n",
    "    else:\n",
    "        print(\"Invalid group_num\")\n",
    "\n",
    "random_subset = subset_creation(train_data, 1, groups) #returns dataset from bigger file containing x amount of SMILES which are randomly sampled."
   ]
  },
  {
   "cell_type": "markdown",
   "metadata": {},
   "source": [
    "### Compare subsets based on rule of 5"
   ]
  },
  {
   "cell_type": "code",
   "execution_count": null,
   "metadata": {},
   "outputs": [],
   "source": []
  },
  {
   "cell_type": "markdown",
   "metadata": {},
   "source": [
    "### Split each subset into test/train/validation"
   ]
  },
  {
   "cell_type": "code",
   "execution_count": 100,
   "metadata": {},
   "outputs": [
    {
     "name": "stdout",
     "output_type": "stream",
     "text": [
      "Original Data Set Length: 992\n",
      "Updated Training Set Length: 793\n",
      "Validation Set Length: 199\n"
     ]
    }
   ],
   "source": [
    "validation_fraction = 0.2\n",
    "\n",
    "# Print the length of the original data set\n",
    "print(f\"Original Data Set Length: {len(train_data)}\")\n",
    "\n",
    "# Split the data into training and validation sets\n",
    "training, val_data = train_test_split(train_data, test_size=validation_fraction, random_state=42)\n",
    "\n",
    "# Print the length of the updated training set\n",
    "print(f\"Updated Training Set Length: {len(training)}\")\n",
    "\n",
    "# Print the length of the validation set\n",
    "print(f\"Validation Set Length: {len(val_data)}\")"
   ]
  }
 ],
 "metadata": {
  "kernelspec": {
   "display_name": "Python 3",
   "language": "python",
   "name": "python3"
  },
  "language_info": {
   "codemirror_mode": {
    "name": "ipython",
    "version": 3
   },
   "file_extension": ".py",
   "mimetype": "text/x-python",
   "name": "python",
   "nbconvert_exporter": "python",
   "pygments_lexer": "ipython3",
   "version": "3.6.13"
  }
 },
 "nbformat": 4,
 "nbformat_minor": 1
}

{
 "cells": [
  {
   "cell_type": "markdown",
   "source": [
    "# Model Preparation\n"
   ],
   "metadata": {
    "collapsed": false
   }
  },
  {
   "cell_type": "markdown",
   "source": [
    "First we import all the necessary packages and scripts"
   ],
   "metadata": {
    "collapsed": false
   }
  },
  {
   "cell_type": "code",
   "execution_count": 7,
   "outputs": [],
   "source": [
    "import numpy as np\n",
    "import pandas as pd\n",
    "from collections import OrderedDict\n",
    "from itertools import chain\n",
    "from rdkit import Chem\n",
    "from rdkit.Chem import Descriptors\n",
    "from sklearn.utils import shuffle\n",
    "from matplotlib import pyplot as plt\n",
    "import tensorflow as tf\n",
    "from tensorflow.keras.preprocessing.text import Tokenizer\n",
    "from tensorflow.keras.preprocessing.sequence import pad_sequences\n",
    "from tensorflow.keras.models import Sequential, Model\n",
    "from tensorflow.keras.layers import Dense\n",
    "from tensorflow.keras.layers import Dropout\n",
    "from tensorflow.keras.layers import LSTM\n",
    "from colorama import Fore, Style"
   ],
   "metadata": {
    "collapsed": false,
    "ExecuteTime": {
     "end_time": "2023-12-02T11:06:31.254936400Z",
     "start_time": "2023-12-02T11:06:31.252941900Z"
    }
   }
  },
  {
   "cell_type": "markdown",
   "source": [
    "#### Generate a subset of SMILES so its faster to test code"
   ],
   "metadata": {
    "collapsed": false
   }
  },
  {
   "cell_type": "code",
   "execution_count": 2,
   "outputs": [
    {
     "name": "stdout",
     "output_type": "stream",
     "text": [
      "Saved 1000 SMILES to subset_smiles.csv\n"
     ]
    }
   ],
   "source": [
    "def extract_smiles(csv_file_path, output_csv_file, limit=1000):\n",
    "    # Read the CSV file\n",
    "    data = pd.read_csv(csv_file_path)\n",
    "\n",
    "    # Extract the first 'limit' number of SMILES\n",
    "    subset = data.iloc[:limit]\n",
    "\n",
    "    # Save the subset to a new CSV file\n",
    "    subset.to_csv(output_csv_file, index=False)\n",
    "\n",
    "    print(f\"Saved {limit} SMILES to {output_csv_file}\")\n",
    "\n",
    "# Usage\n",
    "csv_file_path = 'ChEMBL33.csv'\n",
    "output_csv_file = 'subset_smiles.csv'\n",
    "extract_smiles(csv_file_path, output_csv_file)"
   ],
   "metadata": {
    "collapsed": false,
    "ExecuteTime": {
     "end_time": "2023-12-02T10:29:05.598695700Z",
     "start_time": "2023-12-02T10:29:01.841466200Z"
    }
   }
  },
  {
   "cell_type": "markdown",
   "source": [
    "### Removing unwanted data and cannonicalizing\n",
    "This involves removing invalid data, duplicates, salts, stereochems. Finally it cannonicalizes the smiles."
   ],
   "metadata": {
    "collapsed": false
   }
  },
  {
   "cell_type": "code",
   "execution_count": 4,
   "outputs": [
    {
     "name": "stdout",
     "output_type": "stream",
     "text": [
      "\u001B[32mPre-processing of \"subset_smiles\" started.\n"
     ]
    },
    {
     "name": "stderr",
     "output_type": "stream",
     "text": [
      "[11:31:43] SMILES Parse Error: syntax error while parsing: canonical_smiles\n",
      "[11:31:43] SMILES Parse Error: Failed parsing SMILES 'canonical_smiles' for input: 'canonical_smiles'\n"
     ]
    },
    {
     "name": "stdout",
     "output_type": "stream",
     "text": [
      "\u001B[32m invalid SMILES - removed.\n",
      "\u001B[0m\n",
      "\u001B[32m duplicate SMILES - removed.\n",
      "\u001B[0m\n",
      "\u001B[32m salts - removed.\n",
      "\u001B[0m\n",
      "\u001B[32m stereochemistry - removed.\n",
      "\u001B[0m\n",
      "\u001B[32m canonicalized SMILES.\n",
      "\u001B[0m\n",
      "['Brc1cccc(Nc2ncnc3ccncc23)c1NCCN1CCOCC1' 'C#CC(C)(O)CC'\n",
      " 'C#CC1CCC(C#N)N1C(=O)CNC12CC3CC(CC(O)(C3)C1)C2'\n",
      " 'C#CC=CCCCCCCCCCCC=CCCCCCC'\n",
      " 'C#CC=CCCCCCCCCCCCCCCC=CCCCCC(O)C=CCCCC#CC(O)C#CCCCCCCC=CC(O)C#C']\n"
     ]
    }
   ],
   "source": [
    "\n",
    "def remove_unwanted_data(filename_in='', filename_out='',  invalid=True, duplicates=True, salts=True, stereochem=True, canonicalize=True):\n",
    "    \"\"\"Pre-processing of SMILES based on the user-defined parameters\n",
    "            :param filename_in     path to the file containing the SMILES to pretreat (SMILES only) -- default = ChEMBL\n",
    "            :param filename_out    path for file export -- default = ../data/\n",
    "            :param invalid         if True (default), removes invalid SMILES\n",
    "            :param duplicates      if True (default), removes duplicates\n",
    "            :param salts           if True (default), removes salts\n",
    "            :param stereochem      if True (default), removes stereochemistry\n",
    "            :param canonicalize    if True (default), produces canonical SMILES\n",
    "    \"\"\"\n",
    "\n",
    "    from preprocessor import Preprocessor\n",
    "    p = Preprocessor(filename_in)\n",
    "\n",
    "    print(Fore.GREEN + 'Pre-processing of \"' + filename_in + '\" started.')\n",
    "\n",
    "\n",
    "    # user-defined pretreatment\n",
    "    if invalid:\n",
    "        p.remove_not_valid()\n",
    "        print(Fore.GREEN + ' invalid SMILES - removed.')\n",
    "        print(Style.RESET_ALL)\n",
    "\n",
    "    if duplicates:\n",
    "        p.remove_duplicates()\n",
    "        print(Fore.GREEN + ' duplicate SMILES - removed.')\n",
    "        print(Style.RESET_ALL)\n",
    "\n",
    "    if salts:\n",
    "        p.remove_salts()\n",
    "        print(Fore.GREEN + ' salts - removed.')\n",
    "        print(Style.RESET_ALL)\n",
    "\n",
    "    if stereochem:\n",
    "        p.remove_stereochem()\n",
    "        print(Fore.GREEN + ' stereochemistry - removed.')\n",
    "        print(Style.RESET_ALL)\n",
    "\n",
    "    if canonicalize:\n",
    "        p.canonicalize()\n",
    "        print(Fore.GREEN + ' canonicalized SMILES.')\n",
    "        print(Style.RESET_ALL)\n",
    "\n",
    "    #save data to file\n",
    "    p.save_data(filename_out)\n",
    "\n",
    "    data = p.get_data()\n",
    "    print(data[:5])\n",
    "\n",
    "\n",
    "remove_unwanted_data(filename_in='subset_smiles', filename_out='testPreprocessed_Data.csv')\n"
   ],
   "metadata": {
    "collapsed": false,
    "ExecuteTime": {
     "end_time": "2023-12-02T10:31:44.724952200Z",
     "start_time": "2023-12-02T10:31:43.236931600Z"
    }
   }
  },
  {
   "cell_type": "markdown",
   "source": [
    "### Calculate Lipinski rule of 5\n",
    "Here we will calculate the descriptors that are within the rule of 5: HBD, HBA, MW and LogP. This will be used to compare the subsets of data later."
   ],
   "metadata": {
    "collapsed": false
   }
  },
  {
   "cell_type": "code",
   "execution_count": null,
   "outputs": [],
   "source": [
    "# Load the preprocessed data\n",
    "data = pd.read_csv('preprocessed_ChEMBL33.csv')\n",
    "\n",
    "# Function to calculate Lipinski descriptors\n",
    "def lipinski_descriptors(smiles):\n",
    "    \"\"\"Calculates the descriptors that are within the Lipinski rule of 5 and adds them as separate columns to the data.\"\"\"\n",
    "    mol = Chem.MolFromSmiles(smiles)\n",
    "    hbd = Descriptors.NumHDonors(mol)\n",
    "    hba = Descriptors.NumHAcceptors(mol)\n",
    "    mw = Descriptors.MolWt(mol)\n",
    "    logp = Descriptors.MolLogP(mol)\n",
    "    return hbd, hba, mw, logp\n",
    "\n",
    "# Apply the function to each row in the DataFrame\n",
    "data[['HBD', 'HBA', 'MW', 'LogP']] = data.apply(\n",
    "    lambda row: lipinski_descriptors(row['standardized_smiles']), axis=1, result_type='expand')\n",
    "\n",
    "# Save the data with descriptors\n",
    "data.to_csv('ChEMBL33_with_descriptors.csv', index=False)"
   ],
   "metadata": {
    "collapsed": false
   }
  },
  {
   "cell_type": "markdown",
   "source": [
    "### One Hot Encoding"
   ],
   "metadata": {
    "collapsed": false
   }
  },
  {
   "cell_type": "code",
   "execution_count": 10,
   "outputs": [
    {
     "data": {
      "text/plain": "array([[0., 1., 1., 1., 1., 0., 0., 0., 0., 0., 0., 0., 0., 0., 0., 0.,\n        0., 0., 0., 0., 0., 0., 0., 0., 0., 1., 0., 0., 0., 0., 0.],\n       [0., 1., 1., 1., 1., 1., 1., 1., 1., 1., 0., 0., 0., 0., 0., 0.,\n        0., 0., 0., 0., 0., 0., 0., 0., 0., 1., 0., 0., 0., 0., 0.],\n       [0., 1., 0., 0., 0., 0., 1., 0., 0., 0., 0., 0., 0., 0., 0., 0.,\n        0., 0., 0., 0., 0., 0., 0., 0., 0., 1., 0., 0., 0., 0., 0.],\n       [0., 1., 1., 1., 1., 0., 1., 0., 0., 0., 0., 0., 0., 0., 0., 0.,\n        0., 0., 0., 0., 0., 0., 0., 0., 0., 1., 0., 0., 0., 0., 0.],\n       [0., 1., 1., 1., 0., 1., 0., 0., 0., 0., 0., 0., 0., 1., 1., 0.,\n        0., 0., 0., 0., 0., 0., 1., 0., 0., 1., 0., 0., 0., 0., 0.]])"
     },
     "execution_count": 10,
     "metadata": {},
     "output_type": "execute_result"
    }
   ],
   "source": [
    "def one_hot_encode_smiles(csv_file_path):\n",
    "    \"\"\"Converts SMILES to one-hot encoded sequences.\"\"\"\n",
    "    Smiles_data = pd.read_csv(csv_file_path)\n",
    "    smiles_list = Smiles_data.iloc[:, 0].tolist()\n",
    "    tokenizer = Tokenizer(char_level=True)\n",
    "    tokenizer.fit_on_texts(smiles_list)\n",
    "\n",
    "    sequences = tokenizer.texts_to_sequences(smiles_list)\n",
    "    one_hot = tokenizer.sequences_to_matrix(sequences, mode='binary')\n",
    "\n",
    "    return one_hot, tokenizer\n",
    "\n",
    "csv_file_path = 'testPreprocessed_Data.csv'\n",
    "one_hot_encoded_smiles, tokenizer = one_hot_encode_smiles(csv_file_path)\n",
    "\n",
    "one_hot_encoded_smiles[0:5]"
   ],
   "metadata": {
    "collapsed": false,
    "ExecuteTime": {
     "end_time": "2023-12-02T11:07:16.672563200Z",
     "start_time": "2023-12-02T11:07:16.594742100Z"
    }
   }
  },
  {
   "cell_type": "markdown",
   "source": [
    "### Padding sequence"
   ],
   "metadata": {
    "collapsed": false
   }
  },
  {
   "cell_type": "code",
   "execution_count": 11,
   "outputs": [
    {
     "data": {
      "text/plain": "array([[0, 1, 1, 1, 1, 0, 0, 0, 0, 0, 0, 0, 0, 0, 0, 0, 0, 0, 0, 0, 0, 0,\n        0, 0, 0, 1, 0, 0, 0, 0, 0],\n       [0, 1, 1, 1, 1, 1, 1, 1, 1, 1, 0, 0, 0, 0, 0, 0, 0, 0, 0, 0, 0, 0,\n        0, 0, 0, 1, 0, 0, 0, 0, 0],\n       [0, 1, 0, 0, 0, 0, 1, 0, 0, 0, 0, 0, 0, 0, 0, 0, 0, 0, 0, 0, 0, 0,\n        0, 0, 0, 1, 0, 0, 0, 0, 0],\n       [0, 1, 1, 1, 1, 0, 1, 0, 0, 0, 0, 0, 0, 0, 0, 0, 0, 0, 0, 0, 0, 0,\n        0, 0, 0, 1, 0, 0, 0, 0, 0],\n       [0, 1, 1, 1, 0, 1, 0, 0, 0, 0, 0, 0, 0, 1, 1, 0, 0, 0, 0, 0, 0, 0,\n        1, 0, 0, 1, 0, 0, 0, 0, 0]])"
     },
     "execution_count": 11,
     "metadata": {},
     "output_type": "execute_result"
    }
   ],
   "source": [
    "def pad_smiles_sequences(encoded_sequences, max_length=None):\n",
    "    \"\"\"Ensures all encoded sequences are of the same length by padding shorter sequences with zeros. You can choose a suitable maximum length or leave max_length set to None to let the function determine it based on the longest sequence in the data.\"\"\"\n",
    "    if max_length is None:\n",
    "        max_length = max(len(seq) for seq in encoded_sequences)\n",
    "\n",
    "    padded_sequences = pad_sequences(encoded_sequences, maxlen=max_length, padding='post')\n",
    "\n",
    "    return padded_sequences\n",
    "\n",
    "\n",
    "padded_smiles = pad_smiles_sequences(one_hot_encoded_smiles, max_length=None)\n",
    "padded_smiles[0:5]"
   ],
   "metadata": {
    "collapsed": false,
    "ExecuteTime": {
     "end_time": "2023-12-02T11:07:35.061378300Z",
     "start_time": "2023-12-02T11:07:35.057388900Z"
    }
   }
  },
  {
   "cell_type": "markdown",
   "source": [
    "### Splitting into subsets"
   ],
   "metadata": {
    "collapsed": false
   }
  },
  {
   "cell_type": "code",
   "execution_count": null,
   "outputs": [],
   "source": [],
   "metadata": {
    "collapsed": false
   }
  },
  {
   "cell_type": "markdown",
   "source": [
    "### Compare subsets based on rule of 5"
   ],
   "metadata": {
    "collapsed": false
   }
  },
  {
   "cell_type": "code",
   "execution_count": null,
   "outputs": [],
   "source": [],
   "metadata": {
    "collapsed": false
   }
  },
  {
   "cell_type": "markdown",
   "source": [
    "### Split each subset into test/train/validation"
   ],
   "metadata": {
    "collapsed": false
   }
  },
  {
   "cell_type": "code",
   "execution_count": null,
   "outputs": [],
   "source": [],
   "metadata": {
    "collapsed": false
   }
  }
 ],
 "metadata": {
  "kernelspec": {
   "display_name": "Python 3",
   "language": "python",
   "name": "python3"
  },
  "language_info": {
   "codemirror_mode": {
    "name": "ipython",
    "version": 2
   },
   "file_extension": ".py",
   "mimetype": "text/x-python",
   "name": "python",
   "nbconvert_exporter": "python",
   "pygments_lexer": "ipython2",
   "version": "2.7.6"
  }
 },
 "nbformat": 4,
 "nbformat_minor": 0
}

