{
 "cells": [
  {
   "cell_type": "markdown",
   "id": "e9d8669c",
   "metadata": {},
   "source": [
    "# MODEL CODE - UNIDIRECTIONAL RNN WITH LSTM CELLS"
   ]
  },
  {
   "cell_type": "markdown",
   "id": "b231a6d1",
   "metadata": {},
   "source": [
    "### Importing packages "
   ]
  },
  {
   "cell_type": "code",
   "execution_count": 1,
   "id": "d5a0eef6",
   "metadata": {},
   "outputs": [],
   "source": [
    "import numpy as np\n",
    "from collections import OrderedDict\n",
    "from itertools import chain\n",
    "from rdkit import Chem\n",
    "from sklearn.utils import shuffle\n",
    "import tensorflow as tf\n",
    "import pandas as pd"
   ]
  },
  {
   "cell_type": "markdown",
   "id": "26c23a7d",
   "metadata": {},
   "source": [
    "### Example data"
   ]
  },
  {
   "cell_type": "markdown",
   "id": "ccf3e685",
   "metadata": {},
   "source": [
    "Code is run with non-preprocessed data"
   ]
  },
  {
   "cell_type": "code",
   "execution_count": 2,
   "id": "c01fe7ae",
   "metadata": {},
   "outputs": [
    {
     "data": {
      "text/plain": [
       "67"
      ]
     },
     "execution_count": 2,
     "metadata": {},
     "output_type": "execute_result"
    }
   ],
   "source": [
    "#example dataset file\n",
    "train_data = np.genfromtxt('example_dataset.csv',dtype='U')\n",
    "len(train_data)"
   ]
  },
  {
   "cell_type": "code",
   "execution_count": 3,
   "id": "d4dc0a00",
   "metadata": {},
   "outputs": [
    {
     "data": {
      "image/png": "[encoded data removed]",
      "text/plain": [
       "<rdkit.Chem.rdchem.Mol at 0x18bde66ee90>"
      ]
     },
     "execution_count": 3,
     "metadata": {},
     "output_type": "execute_result"
    }
   ],
   "source": [
    "Chem.MolFromSmiles(train_data[6])"
   ]
  },
  {
   "cell_type": "markdown",
   "id": "db501cbe",
   "metadata": {},
   "source": [
    "### Creating dictionary"
   ]
  },
  {
   "cell_type": "markdown",
   "id": "c825f5d7",
   "metadata": {},
   "source": [
    "In this part a dictionary is made that maps each unique character to an unique integer. "
   ]
  },
  {
   "cell_type": "code",
   "execution_count": 4,
   "id": "022bf3d0",
   "metadata": {},
   "outputs": [],
   "source": [
    "unique_chars = sorted(list(OrderedDict.fromkeys(chain.from_iterable(train_data)))) #list of all unique characters found in SMILES data\n",
    "\n",
    "char_to_int = dict((c, i) for i, c in enumerate(unique_chars)) #dict from character to integer. \n",
    "int_to_char = dict((i, c) for i, c in enumerate(unique_chars)) #dict from integer to character.\n",
    "\n",
    "\n",
    "#Addition of end and begin characters in dictionaries.\n",
    "char_to_int.update({\"E\" : len(char_to_int)})\n",
    "char_to_int.update({\"G\" : len(char_to_int)})\n",
    "\n",
    "int_to_char.update({len(int_to_char) : \"E\"})\n",
    "int_to_char.update({len(int_to_char) : \"G\"})"
   ]
  },
  {
   "cell_type": "markdown",
   "id": "82c50f90",
   "metadata": {},
   "source": [
    "### One-hot encoding"
   ]
  },
  {
   "cell_type": "markdown",
   "id": "62e77a9b",
   "metadata": {},
   "source": [
    "The encoder makes a 3D Numpy array which contains 2D one-hot encoded representations of the SMILES. This representation encodes each character in one-hot representation and adds 'endchar' symbol. It then returns two arrays; one for input sequence and the other for corresponding output.\n",
    "\n",
    "The decoder is used to convert a 3D numpy array of 2D one-hot encoded sequences, to a list of SMILES."
   ]
  },
  {
   "cell_type": "code",
   "execution_count": 5,
   "id": "937e33b2",
   "metadata": {},
   "outputs": [],
   "source": [
    "def encoder(data, char_to_int, max_seq):\n",
    "    \"\"\"\n",
    "    Encodes SMILES sequences into one-hot encoding.\n",
    "\n",
    "    Parameters:\n",
    "        data (numpy.ndarray): Array containing SMILES sequences.\n",
    "        char_to_int (dict): Mapping from characters to integer indices.\n",
    "        max_seq (int): Length of the longest sequence in the dataset for padding.\n",
    "\n",
    "    Returns:\n",
    "        tuple: Tuple containing input and output one-hot encoded arrays.\n",
    "    \"\"\"\n",
    "    #3D array to store one-hot encoded sequences\n",
    "    one_hot =  np.zeros((data.shape[0], embed+2, len(char_to_int)),dtype=np.int8) #embedded+2 to account for begin and end characters\n",
    "    \n",
    "    #loop through each SMILES sequence in data set and convert.\n",
    "    for i,smile in enumerate(data):\n",
    "        one_hot[i,0,char_to_int[\"G\"]] = 1\n",
    "        for j,c in enumerate(smile):\n",
    "            one_hot[i,j+1,char_to_int[c]] = 1\n",
    "        one_hot[i,len(smile)+1,char_to_int[\"E\"]] = 1\n",
    "        \n",
    "    #return input+output arrays\n",
    "    return one_hot[:,0:-1,:], one_hot[:,1:,:]\n",
    "\n",
    "def decoder(array_data, int_to_char):\n",
    "    \"\"\"\n",
    "    Decodes one-hot encoded sequences into SMILES strings.\n",
    "\n",
    "    Parameters:\n",
    "        array_data (numpy.ndarray): 3D array with 2D one-hot encoded array to be decoded.\n",
    "        int_to_char (dict): Mapping from integer indices to characters.\n",
    "\n",
    "    Returns:\n",
    "        list: list of decoded SMILES strings.\n",
    "    \"\"\"\n",
    "    gen_mol = []\n",
    "    \n",
    "    #iterates through each sequence in one-hot encoded array\n",
    "    for i in range(array_data.shape[0]):\n",
    "        decoded_seq = \"\"\n",
    "        for j in range(array_data.shape[1]):\n",
    "            char_index = np.argmax(array_data[i, j, :])\n",
    "            decoded_char = int_to_char[char_index]\n",
    "            \n",
    "            #append char to decoded_seq untill it is end char.\n",
    "            if decoded_char != \"E\":\n",
    "                decoded_seq += decoded_char\n",
    "            else:\n",
    "                break\n",
    "    \n",
    "    #append the fully decoded sequence to the list\n",
    "    gen_mol.append(decoded_seq)\n",
    "    \n",
    "    return gen_mol"
   ]
  },
  {
   "cell_type": "code",
   "execution_count": 7,
   "id": "95e57632",
   "metadata": {},
   "outputs": [],
   "source": [
    "#set parameters\n",
    "embed = max([len(seq) for seq in train_data])\n",
    "\n",
    "#X: contains all characters except last of sequences & Y: contains all characters except first of sequences\n",
    "X, Y = encoder(train_data, char_to_int, embed) \n",
    "X, Y = shuffle(X, Y) #shuffled for randomization"
   ]
  },
  {
   "cell_type": "markdown",
   "id": "148fb64b",
   "metadata": {},
   "source": [
    "### RNN model with LSTM cells"
   ]
  },
  {
   "cell_type": "markdown",
   "id": "4c9c539f",
   "metadata": {},
   "source": [
    "Model is built with two LSTM layers with dropout for sequence processing. Batch normalization is applied to input and intermediate layers to enhance training stability. We also use a softmax activation function in the output layer. The model structure is mimicked to be like that of the MORET PAPER."
   ]
  },
  {
   "cell_type": "code",
   "execution_count": 8,
   "id": "66f24802",
   "metadata": {},
   "outputs": [
    {
     "name": "stdout",
     "output_type": "stream",
     "text": [
      "Model: \"sequential\"\n",
      "_________________________________________________________________\n",
      "Layer (type)                 Output Shape              Param #   \n",
      "=================================================================\n",
      "batch_normalization (BatchNo (None, None, 35)          140       \n",
      "_________________________________________________________________\n",
      "lstm (LSTM)                  (None, None, 512)         1122304   \n",
      "_________________________________________________________________\n",
      "dropout (Dropout)            (None, None, 512)         0         \n",
      "_________________________________________________________________\n",
      "lstm_1 (LSTM)                (None, None, 256)         787456    \n",
      "_________________________________________________________________\n",
      "dropout_1 (Dropout)          (None, None, 256)         0         \n",
      "_________________________________________________________________\n",
      "batch_normalization_1 (Batch (None, None, 256)         1024      \n",
      "_________________________________________________________________\n",
      "dense (Dense)                (None, None, 35)          8995      \n",
      "=================================================================\n",
      "Total params: 1,919,919\n",
      "Trainable params: 1,919,337\n",
      "Non-trainable params: 582\n",
      "_________________________________________________________________\n",
      "None\n"
     ]
    }
   ],
   "source": [
    "from tensorflow.keras.models import Sequential, Model\n",
    "from tensorflow.keras.layers import Dense, BatchNormalization\n",
    "from tensorflow.keras.layers import Dropout\n",
    "from tensorflow.keras.layers import LSTM\n",
    "\n",
    "model = Sequential()\n",
    "\n",
    "#batch normalization for input data normalization\n",
    "model.add(BatchNormalization(input_shape=(None, X.shape[2])))\n",
    "\n",
    "model.add(LSTM(512, return_sequences = True))\n",
    "model.add(Dropout(0.25)) #to prevent overfitting\n",
    "\n",
    "model.add(LSTM(256, return_sequences = True))\n",
    "model.add(Dropout(0.25))\n",
    "\n",
    "#normalization for regularization\n",
    "model.add(BatchNormalization())\n",
    "\n",
    "#Dense layer with softmax activation for output prediction\n",
    "model.add(Dense(Y.shape[-1], activation='softmax'))\n",
    "\n",
    "print (model.summary())"
   ]
  },
  {
   "cell_type": "markdown",
   "id": "ac86b8c0",
   "metadata": {},
   "source": [
    "We then compile model using cross-entropy as loss function with Adam optimizer with learning rate of 0.001. and accuracy as the evaluation metric. STILL NEED TO SEE HOW ACCURACY WILL BE TAKEN INTO ACCOUNT. "
   ]
  },
  {
   "cell_type": "code",
   "execution_count": 9,
   "id": "1836aa41",
   "metadata": {},
   "outputs": [],
   "source": [
    "from tensorflow.keras.losses import categorical_crossentropy\n",
    "from tensorflow.keras.optimizers import Adam\n",
    "\n",
    "#set parameters\n",
    "learning_rate = 0.001\n",
    "\n",
    "#Adam optimizer is used as it is popular for optimizing neural networks. \n",
    "model.compile(loss=categorical_crossentropy, optimizer=Adam(learning_rate=learning_rate), metrics=['accuracy'])"
   ]
  },
  {
   "cell_type": "markdown",
   "id": "20e78898",
   "metadata": {},
   "source": [
    "We then train the model and employ Early stopping to monitor trainin loss and minimize overfitting. The training is performed for a maximum of x epochs with a batch size of 256."
   ]
  },
  {
   "cell_type": "code",
   "execution_count": 10,
   "id": "7e7a6775",
   "metadata": {},
   "outputs": [
    {
     "name": "stdout",
     "output_type": "stream",
     "text": [
      "Original X Data Set Length: 67\n",
      "Original Y Data Set Length: 67\n",
      "X Training Set Length: 53\n",
      "Y Training Set Length: 53\n",
      "X Validation Set Length: 14\n",
      "Y Validation Set Length: 14\n",
      "Epoch 1/12\n",
      "1/1 [==============================] - 26s 26s/step - loss: 1.1881 - accuracy: 0.0083 - val_loss: 0.6938 - val_accuracy: 0.0473\n",
      "Epoch 2/12\n",
      "1/1 [==============================] - 19s 19s/step - loss: 0.9157 - accuracy: 0.0521 - val_loss: 0.6934 - val_accuracy: 0.0539\n",
      "Epoch 3/12\n",
      "1/1 [==============================] - 20s 20s/step - loss: 0.8584 - accuracy: 0.0398 - val_loss: 0.6936 - val_accuracy: 0.8259\n",
      "Epoch 4/12\n",
      "1/1 [==============================] - 21s 21s/step - loss: 0.7814 - accuracy: 0.0456 - val_loss: 0.6928 - val_accuracy: 0.8358\n",
      "Epoch 5/12\n",
      "1/1 [==============================] - 22s 22s/step - loss: 0.7270 - accuracy: 0.0618 - val_loss: 0.6917 - val_accuracy: 0.8435\n",
      "Epoch 6/12\n",
      "1/1 [==============================] - 21s 21s/step - loss: 0.6673 - accuracy: 0.0724 - val_loss: 0.6901 - val_accuracy: 0.8406\n",
      "Epoch 7/12\n",
      "1/1 [==============================] - 23s 23s/step - loss: 0.6398 - accuracy: 0.0734 - val_loss: 0.6882 - val_accuracy: 0.8363\n",
      "Epoch 8/12\n",
      "1/1 [==============================] - 23s 23s/step - loss: 0.6128 - accuracy: 0.0746 - val_loss: 0.6863 - val_accuracy: 0.8304\n",
      "Epoch 9/12\n",
      "1/1 [==============================] - 21s 21s/step - loss: 0.5962 - accuracy: 0.0794 - val_loss: 0.6847 - val_accuracy: 0.8141\n",
      "Epoch 10/12\n",
      "1/1 [==============================] - 23s 23s/step - loss: 0.5956 - accuracy: 0.0781 - val_loss: 0.6836 - val_accuracy: 0.8089\n",
      "Epoch 11/12\n",
      "1/1 [==============================] - 22s 22s/step - loss: 0.5726 - accuracy: 0.0852 - val_loss: 0.6831 - val_accuracy: 0.8271\n",
      "Epoch 12/12\n",
      "1/1 [==============================] - 25s 25s/step - loss: 0.5535 - accuracy: 0.0884 - val_loss: 0.6825 - val_accuracy: 0.8412\n"
     ]
    }
   ],
   "source": [
    "from keras.callbacks import EarlyStopping #, ModelCheckpoint, ReduceLROnPlateau (willen we dit nog gebruiken?)\n",
    "from sklearn.model_selection import train_test_split\n",
    "\n",
    "#set parameters\n",
    "validation_fraction = 0.2\n",
    "patience = 5\n",
    "epochs = 12 #epochs in Moret is 40\n",
    "batch_size = 256\n",
    "\n",
    "\n",
    "print(f\"Original X Data Set Length: {len(X)}\")\n",
    "print(f\"Original Y Data Set Length: {len(X)}\")\n",
    "\n",
    "#split train and validation data\n",
    "X_train, X_val, Y_train, Y_val = train_test_split(X,Y, test_size=validation_fraction, random_state=42)\n",
    "\n",
    "print(f\"X Training Set Length: {len(X_train)}\")\n",
    "print(f\"Y Training Set Length: {len(Y_train)}\")\n",
    "print(f\"X Validation Set Length: {len(X_val)}\")\n",
    "print(f\"Y Validation Set Length: {len(Y_val)}\")\n",
    "\n",
    "#You monitor the loss of the model. Training will stop if validation loss does not increase for 5 epochs. \n",
    "early_stopping = EarlyStopping(monitor='val_loss', patience=patience, restore_best_weights=True)\n",
    "\n",
    "#save training history\n",
    "history = model.fit(X_train, Y_train, epochs=epochs, batch_size = 256, callbacks=[early_stopping], validation_data=(X_val, Y_val))"
   ]
  },
  {
   "cell_type": "markdown",
   "id": "9738697e",
   "metadata": {},
   "source": [
    "### Plot cross-entropy loss"
   ]
  },
  {
   "cell_type": "code",
   "execution_count": 11,
   "id": "2b2e66d9",
   "metadata": {},
   "outputs": [
    {
     "data": {
      "image/png": "[encoded data removed]",
      "text/plain": [
       "<Figure size 432x288 with 1 Axes>"
      ]
     },
     "metadata": {
      "needs_background": "light"
     },
     "output_type": "display_data"
    }
   ],
   "source": [
    "from matplotlib import pyplot as plt\n",
    "\n",
    "# Plotting the training loss over epochs\n",
    "plt.plot(history.history[\"loss\"], '-o', label=\"Loss\")\n",
    "\n",
    "plt.xlabel('Epochs')\n",
    "plt.ylabel('Loss')\n",
    "plt.title('Training Loss Over Epochs')\n",
    "plt.legend()\n",
    "plt.show()"
   ]
  },
  {
   "cell_type": "markdown",
   "id": "bfb88a41",
   "metadata": {},
   "source": [
    "### Sampling from trained model"
   ]
  },
  {
   "cell_type": "markdown",
   "id": "61dcd66c",
   "metadata": {},
   "source": [
    "Two functions are defined. One does the temperature sampling from the predictions from the trained model. The other function is responsible for actual generating of the sampled SMILES."
   ]
  },
  {
   "cell_type": "code",
   "execution_count": 12,
   "id": "db1b3749",
   "metadata": {},
   "outputs": [],
   "source": [
    "#set parameters\n",
    "max_length = 30\n",
    "temperature = 0.7\n",
    "num_samples = embed\n",
    "\n",
    "\n",
    "def sampling(model, start_char=\"G\", max_length=50, temperature=1.0):\n",
    "    \"\"\"\n",
    "    Generate SMILES sequences using trained model.\n",
    "\n",
    "    Parameters:\n",
    "        model (keras.Model): The trained model for SMILES generation.\n",
    "        start_char (str): The starting character for SMILES generation.\n",
    "        max_length (int): Maximum length of the generated SMILES sequence.\n",
    "        temperature (float): Controls the randomness of sampling.\n",
    "\n",
    "    Returns:\n",
    "        numpy.ndarray: One-hot encoded array representing the generated SMILES sequence.\n",
    "    \"\"\"\n",
    "    input_sequence = np.zeros((1, 1, len(char_to_int)))\n",
    "    input_sequence[0, 0, char_to_int[start_char]] = 1\n",
    "    \n",
    "    #generate SMILES sequence in one-hot encoding format. \n",
    "    for _ in range(max_length):\n",
    "        #temperature sampling\n",
    "        predictions = model.predict(input_sequence)\n",
    "        predictions = np.log(predictions) / temperature\n",
    "        exp_predictions = np.exp(predictions)\n",
    "        normalized_predictions = exp_predictions / np.sum(exp_predictions)\n",
    "\n",
    "        #Sampling the next char using temperature sampling.\n",
    "        pred_char_index = np.random.choice(len(char_to_int), p=normalized_predictions[0, -1, :] / np.sum(normalized_predictions[0, -1, :]))\n",
    "        pred_char = int_to_char[pred_char_index]\n",
    "        \n",
    "        #if E is predicted, break\n",
    "        if pred_char == \"E\":\n",
    "            break\n",
    "        else:\n",
    "            #add next char to 2D array. \n",
    "            input_vector = np.zeros((1, 1, len(char_to_int)))\n",
    "            input_vector[0, 0, char_to_int[pred_char]] = 1\n",
    "            input_sequence = np.concatenate([input_sequence, input_vector], axis=1)\n",
    "            \n",
    "    return input_sequence\n",
    "\n",
    "\n",
    "def generate_smiles(model, num_samples=1000, max_length=50, temperature=1.0):\n",
    "    \"\"\"\n",
    "    Generate multiple SMILES sequences using sampling function\n",
    "\n",
    "    Parameters:\n",
    "        model (keras.Model): The trained model for SMILES generation.\n",
    "        num_samples (int): Number of SMILES sequences to generate.\n",
    "        max_length (int): Maximum length of each generated SMILES sequence.\n",
    "        temperature (float): Controls the randomness of character sampling.\n",
    "\n",
    "    Returns:\n",
    "        list: List of generated SMILES sequences.\n",
    "    \"\"\"\n",
    "    generated_sequences = []\n",
    "\n",
    "    for _ in range(num_samples):\n",
    "        #sample\n",
    "        one_hot = sampling(model, start_char=\"G\", max_length=max_length, temperature=temperature)\n",
    "        \n",
    "        #decode one-hot sequence into SMILES string\n",
    "        generated_sequence = decoder(one_hot, int_to_char)\n",
    "        \n",
    "        #append generated SMILES string to list\n",
    "        generated_sequences.append(generated_sequence)\n",
    "        \n",
    "    return generated_sequences"
   ]
  },
  {
   "cell_type": "code",
   "execution_count": 13,
   "id": "316f7a22",
   "metadata": {},
   "outputs": [],
   "source": [
    "# Example usage\n",
    "x = generate_smiles(model, num_samples=50, max_length=30, temperature=0.7)"
   ]
  }
 ],
 "metadata": {
  "kernelspec": {
   "display_name": "Python 3",
   "language": "python",
   "name": "python3"
  },
  "language_info": {
   "codemirror_mode": {
    "name": "ipython",
    "version": 3
   },
   "file_extension": ".py",
   "mimetype": "text/x-python",
   "name": "python",
   "nbconvert_exporter": "python",
   "pygments_lexer": "ipython3",
   "version": "3.6.13"
  }
 },
 "nbformat": 4,
 "nbformat_minor": 5
}
