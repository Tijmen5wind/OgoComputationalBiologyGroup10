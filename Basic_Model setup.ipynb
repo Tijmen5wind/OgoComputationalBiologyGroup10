{
 "cells": [
  {
   "cell_type": "markdown",
   "id": "e9d8669c",
   "metadata": {},
   "source": [
    "# MODEL CODE - UNIDIRECTIONAL RNN WITH LSTM CELLS"
   ]
  },
  {
   "cell_type": "markdown",
   "id": "b231a6d1",
   "metadata": {},
   "source": [
    "### Importing packages "
   ]
  },
  {
   "cell_type": "code",
   "execution_count": 19,
   "id": "d5a0eef6",
   "metadata": {},
   "outputs": [],
   "source": [
    "import numpy as np\n",
    "from collections import OrderedDict\n",
    "from itertools import chain\n",
    "from rdkit import Chem\n",
    "from sklearn.utils import shuffle\n",
    "from matplotlib import pyplot as plt\n",
    "import tensorflow as tf\n",
    "import pandas as pd"
   ]
  },
  {
   "cell_type": "markdown",
   "id": "26c23a7d",
   "metadata": {},
   "source": [
    "### Example data"
   ]
  },
  {
   "cell_type": "markdown",
   "id": "ccf3e685",
   "metadata": {},
   "source": [
    "Code is run with non-preprocessed data"
   ]
  },
  {
   "cell_type": "code",
   "execution_count": 24,
   "id": "c01fe7ae",
   "metadata": {},
   "outputs": [],
   "source": [
    "train_data = np.genfromtxt('example_dataset.csv',dtype='U')"
   ]
  },
  {
   "cell_type": "code",
   "execution_count": 25,
   "id": "8a99f534",
   "metadata": {},
   "outputs": [
    {
     "data": {
      "text/plain": [
       "array(['Cc1cc(-c2csc(N=C(N)N)n2)cn1C',\n",
       "       'CC[C@H](C)[C@H](NC(=O)[C@H](CC(C)C)NC(=O)[C@@H](NC(=O)[C@@H](N)CCSC)[C@@H](C)O)C(=O)NCC(=O)N[C@@H](C)C(=O)N[C@@H](C)C(=O)N[C@@H](Cc1c[nH]cn1)C(=O)N[C@@H](CC(N)=O)C(=O)NCC(=O)N[C@@H](C)C(=O)N[C@@H](C)C(=O)N[C@@H](CCC(N)=O)C(=O)N[C@@H](CC(C)C)C(=O)N[C@@H](CC(C)C)C(=O)N[C@@H](CCCN=C(N)N)C(=O)N[C@@H](CCC(N)=O)C(=O)N[C@@H](CC(C)C)C(=O)N[C@@H](CCCN=C(N)N)C(=O)NCC(=O)N[C@@H](CCC(N)=O)C(=O)N[C@@H](CC(C)C)C(=O)NCC(=O)N1CCC[C@H]1C(=O)N1CCC[C@H]1C(=O)NCC(=O)N[C@@H](CO)C(=O)N[C@@H](CCCN=C(N)N)C(N)=O',\n",
       "       'CCCC[C@@H]1NC(=O)[C@@H](NC(=O)[C@H](CC(C)C)NC(=O)[C@@H](NC(=O)[C@H](CCC(=O)O)NC(=O)[C@H](CCCN=C(N)N)NC(=O)[C@H](CC(C)C)NC(=O)[C@H](CC(C)C)NC(=O)[C@H](Cc2c[nH]cn2)NC(=O)[C@H](N)Cc2ccccc2)C(C)C)CCC(=O)NCCCC[C@@H](C(=O)N[C@@H](CCC(N)=O)C(=O)N[C@@H](CC(C)C)C(=O)N[C@@H](C)C(=O)N[C@@H](CCC(N)=O)C(=O)N[C@@H](CCC(N)=O)C(=O)N[C@@H](C)C(=O)N[C@@H](Cc2c[nH]cn2)C(=O)N[C@@H](CO)C(=O)N[C@@H](CC(N)=O)C(=O)N[C@@H](CCCN=C(N)N)C(=O)N[C@@H](CCCCN)C(=O)N[C@@H](CC(C)C)C(=O)N[C@@H](CCCC)C(=O)N[C@@H](CCC(=O)O)C(=O)N[C@H](C(=O)N[C@H](C(=O)C(N)=O)[C@@H](C)CC)[C@@H](C)CC)NC(=O)[C@H](C)NC(=O)[C@H](CCCN=C(N)N)NC(=O)[C@H](C)NC1=O',\n",
       "       'CC(C)C[C@@H]1NC(=O)CNC(=O)[C@H](c2ccc(O)cc2)NC(=O)[C@@H]([C@@H](C)O)NC(=O)[C@H](c2ccc(O[C@H]3O[C@H](CO)[C@@H](O)[C@H](O)[C@@H]3O[C@H]3O[C@H](CO)[C@@H](O)[C@H](O)[C@@H]3O)cc2)NC(=O)[C@@H](CCCN)NC(=O)[C@H](Cc2ccccc2)NC(=O)[C@H]([C@@H](C)O)NC(=O)[C@@H](c2ccc(O)cc2)NC(=O)[C@H](c2ccc(O)cc2)NC(=O)[C@@H](C(C)C)NC(=O)[C@@H](CCCN)NC(=O)[C@@H](c2ccc(O)cc2)NC(=O)[C@@H](CNC(=O)[C@H](CC(N)=O)NC(=O)Cc2cccc3ccccc23)[C@@H](C(N)=O)OC(=O)[C@H](c2ccc(O)c(Cl)c2)NC(=O)[C@@H](C)NC1=O',\n",
       "       'Brc1cccc(Nc2ncnc3ccncc23)c1NCCN1CCOCC1'], dtype='<U611')"
      ]
     },
     "execution_count": 25,
     "metadata": {},
     "output_type": "execute_result"
    }
   ],
   "source": [
    "train_data[:5]"
   ]
  },
  {
   "cell_type": "code",
   "execution_count": 26,
   "id": "d4dc0a00",
   "metadata": {},
   "outputs": [
    {
     "data": {
      "image/png": "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\n",
      "text/plain": [
       "<rdkit.Chem.rdchem.Mol at 0x1a2d4d1a9e0>"
      ]
     },
     "execution_count": 26,
     "metadata": {},
     "output_type": "execute_result"
    }
   ],
   "source": [
    "Chem.MolFromSmiles(train_data[5])"
   ]
  },
  {
   "cell_type": "markdown",
   "id": "db501cbe",
   "metadata": {},
   "source": [
    "### Creating dictionary"
   ]
  },
  {
   "cell_type": "markdown",
   "id": "c825f5d7",
   "metadata": {},
   "source": [
    "In this part a dictionary is made that maps each unique character to an unique integer. "
   ]
  },
  {
   "cell_type": "code",
   "execution_count": 29,
   "id": "022bf3d0",
   "metadata": {},
   "outputs": [],
   "source": [
    "unique_chars = sorted(list(OrderedDict.fromkeys(chain.from_iterable(train_data)))) #list of all unique characters\n",
    "\n",
    "char_to_int = dict((c, i) for i, c in enumerate(unique_chars)) #dict from character to int. \n",
    "int_to_char = dict((i, c) for i, c in enumerate(unique_chars)) #dict from int to character.\n",
    "\n",
    "\n",
    "#add E character to indicate end of SMILES\n",
    "char_to_int.update({\"E\" : len(char_to_int)})\n",
    "int_to_char.update({len(int_to_char) : \"E\"})"
   ]
  },
  {
   "cell_type": "markdown",
   "id": "82c50f90",
   "metadata": {},
   "source": [
    "### One-hot encoding"
   ]
  },
  {
   "cell_type": "markdown",
   "id": "62e77a9b",
   "metadata": {},
   "source": [
    "Makes a 3D Numpy array for each sequence. This representation encodes each character in one-hot representation and adds 'endchar' symbol. It then returns two arrays; one for input sequence and the other for corresponding output."
   ]
  },
  {
   "cell_type": "code",
   "execution_count": 30,
   "id": "937e33b2",
   "metadata": {},
   "outputs": [],
   "source": [
    "def gen_data(data, int_to_char, char_to_int, embed):\n",
    "    \n",
    "    one_hot =  np.zeros((data.shape[0], embed+1, len(char_to_int)),dtype=np.int8)\n",
    "    for i,smile in enumerate(data):\n",
    "        for j,c in enumerate(smile):\n",
    "            one_hot[i,j,char_to_int[c]] = 1\n",
    "        one_hot[i,len(smile):,char_to_int[\"E\"]] = 1 #addition of endchar\n",
    "    return one_hot[:,0:-1,:], one_hot[:,1:,:] #input and output arrays"
   ]
  },
  {
   "cell_type": "code",
   "execution_count": 31,
   "id": "6246ed8f",
   "metadata": {},
   "outputs": [],
   "source": [
    "embed = max([len(seq) for seq in train_data]) #length of longest seq in dataset, so you know how much padding needs to be done."
   ]
  },
  {
   "cell_type": "code",
   "execution_count": 32,
   "id": "95e57632",
   "metadata": {},
   "outputs": [],
   "source": [
    "#X: contains all characters except last of sequences\n",
    "#Y: contains all characters except first of sequences\n",
    "X, Y = gen_data(train_data, int_to_char, char_to_int, embed)\n",
    "X, Y = shuffle(X, Y) #for randomization"
   ]
  },
  {
   "cell_type": "markdown",
   "id": "148fb64b",
   "metadata": {},
   "source": [
    "### RNN model with LSTM cells"
   ]
  },
  {
   "cell_type": "markdown",
   "id": "4c9c539f",
   "metadata": {},
   "source": [
    "Model is built with two LSTM layers with dropout for sequence processing. Batch normalization is applied to input and intermediate layers to enhance training stability. We also use a softmax activation function in the output layer. The model structure is mimicked to be like that of the MORET PAPER. STILL NEEDS TO BE OPTIMIZED."
   ]
  },
  {
   "cell_type": "code",
   "execution_count": 33,
   "id": "66f24802",
   "metadata": {},
   "outputs": [
    {
     "name": "stdout",
     "output_type": "stream",
     "text": [
      "Model: \"sequential\"\n",
      "_________________________________________________________________\n",
      "Layer (type)                 Output Shape              Param #   \n",
      "=================================================================\n",
      "batch_normalization (BatchNo (None, None, 34)          136       \n",
      "_________________________________________________________________\n",
      "lstm (LSTM)                  (None, None, 512)         1120256   \n",
      "_________________________________________________________________\n",
      "dropout (Dropout)            (None, None, 512)         0         \n",
      "_________________________________________________________________\n",
      "lstm_1 (LSTM)                (None, None, 256)         787456    \n",
      "_________________________________________________________________\n",
      "dropout_1 (Dropout)          (None, None, 256)         0         \n",
      "_________________________________________________________________\n",
      "batch_normalization_1 (Batch (None, None, 256)         1024      \n",
      "_________________________________________________________________\n",
      "dense (Dense)                (None, None, 34)          8738      \n",
      "=================================================================\n",
      "Total params: 1,917,610\n",
      "Trainable params: 1,917,030\n",
      "Non-trainable params: 580\n",
      "_________________________________________________________________\n",
      "None\n"
     ]
    }
   ],
   "source": [
    "from tensorflow.keras.models import Sequential, Model\n",
    "from tensorflow.keras.layers import Dense, BatchNormalization\n",
    "from tensorflow.keras.layers import Dropout\n",
    "from tensorflow.keras.layers import LSTM\n",
    "\n",
    "model = Sequential()\n",
    "\n",
    "model.add(BatchNormalization(input_shape=(None, X.shape[2])))\n",
    "\n",
    "model.add(LSTM(512, return_sequences = True))\n",
    "model.add(Dropout(0.25))\n",
    "\n",
    "model.add(LSTM(256, return_sequences = True))\n",
    "model.add(Dropout(0.25))\n",
    "\n",
    "model.add(BatchNormalization())\n",
    "model.add(Dense(Y.shape[-1], activation='softmax'))\n",
    "\n",
    "print (model.summary())"
   ]
  },
  {
   "cell_type": "markdown",
   "id": "ac86b8c0",
   "metadata": {},
   "source": [
    "We then compile model using cross-entropy as loss function with Adam optimizer with learning rate of 0.001. and accuracy as the evaluation metric. STILL NEED TO SEE HOW ACCURACY WILL BE TAKEN INTO ACCOUNT. "
   ]
  },
  {
   "cell_type": "code",
   "execution_count": 34,
   "id": "1836aa41",
   "metadata": {},
   "outputs": [],
   "source": [
    "from tensorflow.keras.losses import categorical_crossentropy\n",
    "from tensorflow.keras.optimizers import Adam\n",
    "\n",
    "model.compile(loss=categorical_crossentropy, optimizer=Adam(learning_rate=0.001), metrics=['accuracy'])"
   ]
  },
  {
   "cell_type": "markdown",
   "id": "20e78898",
   "metadata": {},
   "source": [
    "We then train the model and employ Early stopping to monitor trainin loss and minimize overfitting. The training is performed for a maximum of x epochs with a batch size of 256."
   ]
  },
  {
   "cell_type": "code",
   "execution_count": 35,
   "id": "7e7a6775",
   "metadata": {},
   "outputs": [
    {
     "name": "stdout",
     "output_type": "stream",
     "text": [
      "Epoch 1/100\n",
      "1/1 [==============================] - 11s 11s/step - loss: 4.1491 - accuracy: 0.0146\n",
      "Epoch 2/100\n",
      "1/1 [==============================] - 9s 9s/step - loss: 1.6349 - accuracy: 0.7636\n",
      "Epoch 3/100\n",
      "1/1 [==============================] - 8s 8s/step - loss: 1.1468 - accuracy: 0.7811\n",
      "Epoch 4/100\n",
      "1/1 [==============================] - 9s 9s/step - loss: 1.0274 - accuracy: 0.7929\n",
      "Epoch 5/100\n",
      "1/1 [==============================] - 9s 9s/step - loss: 0.9372 - accuracy: 0.8004\n",
      "Epoch 6/100\n",
      "1/1 [==============================] - 9s 9s/step - loss: 0.8669 - accuracy: 0.8127\n",
      "Epoch 7/100\n",
      "1/1 [==============================] - 9s 9s/step - loss: 0.8034 - accuracy: 0.8170\n",
      "Epoch 8/100\n",
      "1/1 [==============================] - 9s 9s/step - loss: 0.7565 - accuracy: 0.8226\n",
      "Epoch 9/100\n",
      "1/1 [==============================] - 9s 9s/step - loss: 0.7147 - accuracy: 0.8315\n",
      "Epoch 10/100\n",
      "1/1 [==============================] - 9s 9s/step - loss: 0.6748 - accuracy: 0.8380\n",
      "Epoch 11/100\n",
      "1/1 [==============================] - 9s 9s/step - loss: 0.6413 - accuracy: 0.8428\n",
      "Epoch 12/100\n",
      "1/1 [==============================] - 10s 10s/step - loss: 0.6174 - accuracy: 0.8441\n",
      "Epoch 13/100\n",
      "1/1 [==============================] - 11s 11s/step - loss: 0.5897 - accuracy: 0.8500\n",
      "Epoch 14/100\n",
      "1/1 [==============================] - 12s 12s/step - loss: 0.5681 - accuracy: 0.8557\n",
      "Epoch 15/100\n",
      "1/1 [==============================] - 11s 11s/step - loss: 0.5447 - accuracy: 0.8612\n",
      "Epoch 16/100\n",
      "1/1 [==============================] - 10s 10s/step - loss: 0.5281 - accuracy: 0.8642\n",
      "Epoch 17/100\n",
      "1/1 [==============================] - 11s 11s/step - loss: 0.5086 - accuracy: 0.8690\n",
      "Epoch 18/100\n",
      "1/1 [==============================] - 13s 13s/step - loss: 0.4946 - accuracy: 0.8725\n",
      "Epoch 19/100\n",
      "1/1 [==============================] - 12s 12s/step - loss: 0.4767 - accuracy: 0.8762\n",
      "Epoch 20/100\n",
      "1/1 [==============================] - 11s 11s/step - loss: 0.4671 - accuracy: 0.8770\n",
      "Epoch 21/100\n",
      "1/1 [==============================] - 10s 10s/step - loss: 0.4557 - accuracy: 0.8791\n",
      "Epoch 22/100\n",
      "1/1 [==============================] - 11s 11s/step - loss: 0.4419 - accuracy: 0.8832\n",
      "Epoch 23/100\n",
      "1/1 [==============================] - 12s 12s/step - loss: 0.4367 - accuracy: 0.8841\n",
      "Epoch 24/100\n",
      "1/1 [==============================] - 13s 13s/step - loss: 0.4238 - accuracy: 0.8871\n",
      "Epoch 25/100\n",
      "1/1 [==============================] - 13s 13s/step - loss: 0.4149 - accuracy: 0.8884\n",
      "Epoch 26/100\n",
      "1/1 [==============================] - 13s 13s/step - loss: 0.4047 - accuracy: 0.8903\n",
      "Epoch 27/100\n",
      "1/1 [==============================] - 14s 14s/step - loss: 0.3998 - accuracy: 0.8921\n",
      "Epoch 28/100\n",
      "1/1 [==============================] - 15s 15s/step - loss: 0.3925 - accuracy: 0.8934\n",
      "Epoch 29/100\n",
      "1/1 [==============================] - 15s 15s/step - loss: 0.3845 - accuracy: 0.8942\n",
      "Epoch 30/100\n",
      "1/1 [==============================] - 14s 14s/step - loss: 0.3785 - accuracy: 0.8952\n",
      "Epoch 31/100\n",
      "1/1 [==============================] - 15s 15s/step - loss: 0.3719 - accuracy: 0.8968\n",
      "Epoch 32/100\n",
      "1/1 [==============================] - 16s 16s/step - loss: 0.3676 - accuracy: 0.8988\n",
      "Epoch 33/100\n",
      "1/1 [==============================] - 16s 16s/step - loss: 0.3591 - accuracy: 0.8994\n",
      "Epoch 34/100\n",
      "1/1 [==============================] - 16s 16s/step - loss: 0.3565 - accuracy: 0.9009\n",
      "Epoch 35/100\n",
      "1/1 [==============================] - 16s 16s/step - loss: 0.3500 - accuracy: 0.9020\n",
      "Epoch 36/100\n",
      "1/1 [==============================] - 17s 17s/step - loss: 0.3455 - accuracy: 0.9030\n",
      "Epoch 37/100\n",
      "1/1 [==============================] - 19s 19s/step - loss: 0.3416 - accuracy: 0.9036\n",
      "Epoch 38/100\n",
      "1/1 [==============================] - 19s 19s/step - loss: 0.3347 - accuracy: 0.9048\n",
      "Epoch 39/100\n",
      "1/1 [==============================] - 21s 21s/step - loss: 0.3292 - accuracy: 0.9055\n",
      "Epoch 40/100\n",
      "1/1 [==============================] - 19s 19s/step - loss: 0.3294 - accuracy: 0.9055\n",
      "Epoch 41/100\n",
      "1/1 [==============================] - 19s 19s/step - loss: 0.3196 - accuracy: 0.9091\n",
      "Epoch 42/100\n",
      "1/1 [==============================] - 17s 17s/step - loss: 0.3202 - accuracy: 0.9081\n",
      "Epoch 43/100\n",
      "1/1 [==============================] - 18s 18s/step - loss: 0.3137 - accuracy: 0.9083\n",
      "Epoch 44/100\n",
      "1/1 [==============================] - 19s 19s/step - loss: 0.3089 - accuracy: 0.9096\n",
      "Epoch 45/100\n",
      "1/1 [==============================] - 19s 19s/step - loss: 0.3075 - accuracy: 0.9094\n",
      "Epoch 46/100\n",
      "1/1 [==============================] - 21s 21s/step - loss: 0.3031 - accuracy: 0.9108\n",
      "Epoch 47/100\n",
      "1/1 [==============================] - 19s 19s/step - loss: 0.3008 - accuracy: 0.9113\n",
      "Epoch 48/100\n",
      "1/1 [==============================] - 19s 19s/step - loss: 0.2976 - accuracy: 0.9123\n",
      "Epoch 49/100\n",
      "1/1 [==============================] - 19s 19s/step - loss: 0.2926 - accuracy: 0.9124\n",
      "Epoch 50/100\n",
      "1/1 [==============================] - 18s 18s/step - loss: 0.2907 - accuracy: 0.9140\n",
      "Epoch 51/100\n",
      "1/1 [==============================] - 21s 21s/step - loss: 0.2891 - accuracy: 0.9145\n",
      "Epoch 52/100\n",
      "1/1 [==============================] - 20s 20s/step - loss: 0.2859 - accuracy: 0.9148\n",
      "Epoch 53/100\n",
      "1/1 [==============================] - 19s 19s/step - loss: 0.2802 - accuracy: 0.9159\n",
      "Epoch 54/100\n",
      "1/1 [==============================] - 20s 20s/step - loss: 0.2813 - accuracy: 0.9152\n",
      "Epoch 55/100\n",
      "1/1 [==============================] - 20s 20s/step - loss: 0.2788 - accuracy: 0.9161\n",
      "Epoch 56/100\n",
      "1/1 [==============================] - 20s 20s/step - loss: 0.2703 - accuracy: 0.9193\n",
      "Epoch 57/100\n",
      "1/1 [==============================] - 18s 18s/step - loss: 0.2710 - accuracy: 0.9190\n",
      "Epoch 58/100\n",
      "1/1 [==============================] - 19s 19s/step - loss: 0.2684 - accuracy: 0.9181\n",
      "Epoch 59/100\n",
      "1/1 [==============================] - 19s 19s/step - loss: 0.2627 - accuracy: 0.9203\n",
      "Epoch 60/100\n",
      "1/1 [==============================] - 21s 21s/step - loss: 0.2624 - accuracy: 0.9193\n",
      "Epoch 61/100\n",
      "1/1 [==============================] - 21s 21s/step - loss: 0.2603 - accuracy: 0.9215\n",
      "Epoch 62/100\n",
      "1/1 [==============================] - 19s 19s/step - loss: 0.2586 - accuracy: 0.9216\n",
      "Epoch 63/100\n",
      "1/1 [==============================] - 20s 20s/step - loss: 0.2531 - accuracy: 0.9219\n",
      "Epoch 64/100\n",
      "1/1 [==============================] - 21s 21s/step - loss: 0.2536 - accuracy: 0.9225\n",
      "Epoch 65/100\n",
      "1/1 [==============================] - 18s 18s/step - loss: 0.2517 - accuracy: 0.9235\n",
      "Epoch 66/100\n",
      "1/1 [==============================] - 18s 18s/step - loss: 0.2490 - accuracy: 0.9233\n",
      "Epoch 67/100\n",
      "1/1 [==============================] - 19s 19s/step - loss: 0.2473 - accuracy: 0.9230\n",
      "Epoch 68/100\n",
      "1/1 [==============================] - 18s 18s/step - loss: 0.2443 - accuracy: 0.9239\n",
      "Epoch 69/100\n",
      "1/1 [==============================] - 18s 18s/step - loss: 0.2406 - accuracy: 0.9256\n",
      "Epoch 70/100\n",
      "1/1 [==============================] - 19s 19s/step - loss: 0.2388 - accuracy: 0.9266\n",
      "Epoch 71/100\n",
      "1/1 [==============================] - 19s 19s/step - loss: 0.2377 - accuracy: 0.9253\n",
      "Epoch 72/100\n",
      "1/1 [==============================] - 19s 19s/step - loss: 0.2364 - accuracy: 0.9258\n",
      "Epoch 73/100\n",
      "1/1 [==============================] - 19s 19s/step - loss: 0.2293 - accuracy: 0.9285\n",
      "Epoch 74/100\n",
      "1/1 [==============================] - 19s 19s/step - loss: 0.2297 - accuracy: 0.9279\n",
      "Epoch 75/100\n",
      "1/1 [==============================] - 19s 19s/step - loss: 0.2322 - accuracy: 0.9271\n",
      "Epoch 76/100\n",
      "1/1 [==============================] - 19s 19s/step - loss: 0.2245 - accuracy: 0.9295\n",
      "Epoch 77/100\n",
      "1/1 [==============================] - 19s 19s/step - loss: 0.2240 - accuracy: 0.9285\n",
      "Epoch 78/100\n",
      "1/1 [==============================] - 19s 19s/step - loss: 0.2250 - accuracy: 0.9283\n",
      "Epoch 79/100\n",
      "1/1 [==============================] - 19s 19s/step - loss: 0.2224 - accuracy: 0.9296\n",
      "Epoch 80/100\n",
      "1/1 [==============================] - 19s 19s/step - loss: 0.2171 - accuracy: 0.9319\n",
      "Epoch 81/100\n",
      "1/1 [==============================] - 19s 19s/step - loss: 0.2180 - accuracy: 0.9301\n",
      "Epoch 82/100\n",
      "1/1 [==============================] - 19s 19s/step - loss: 0.2137 - accuracy: 0.9335\n",
      "Epoch 83/100\n",
      "1/1 [==============================] - 19s 19s/step - loss: 0.2154 - accuracy: 0.9318\n",
      "Epoch 84/100\n"
     ]
    },
    {
     "name": "stdout",
     "output_type": "stream",
     "text": [
      "1/1 [==============================] - 19s 19s/step - loss: 0.2162 - accuracy: 0.9312\n",
      "Epoch 85/100\n",
      "1/1 [==============================] - 19s 19s/step - loss: 0.2079 - accuracy: 0.9332\n",
      "Epoch 86/100\n",
      "1/1 [==============================] - 20s 20s/step - loss: 0.2089 - accuracy: 0.9334\n",
      "Epoch 87/100\n",
      "1/1 [==============================] - 20s 20s/step - loss: 0.2079 - accuracy: 0.9330\n",
      "Epoch 88/100\n",
      "1/1 [==============================] - 19s 19s/step - loss: 0.2040 - accuracy: 0.9342\n",
      "Epoch 89/100\n",
      "1/1 [==============================] - 19s 19s/step - loss: 0.2033 - accuracy: 0.9345\n",
      "Epoch 90/100\n",
      "1/1 [==============================] - 19s 19s/step - loss: 0.2037 - accuracy: 0.9350\n",
      "Epoch 91/100\n",
      "1/1 [==============================] - 19s 19s/step - loss: 0.2010 - accuracy: 0.9357\n",
      "Epoch 92/100\n",
      "1/1 [==============================] - 20s 20s/step - loss: 0.1977 - accuracy: 0.9357\n",
      "Epoch 93/100\n",
      "1/1 [==============================] - 19s 19s/step - loss: 0.2023 - accuracy: 0.9360\n",
      "Epoch 94/100\n",
      "1/1 [==============================] - 19s 19s/step - loss: 0.2028 - accuracy: 0.9357\n",
      "Epoch 95/100\n",
      "1/1 [==============================] - 20s 20s/step - loss: 0.1984 - accuracy: 0.9368\n",
      "Epoch 96/100\n",
      "1/1 [==============================] - 19s 19s/step - loss: 0.1999 - accuracy: 0.9349\n",
      "Epoch 97/100\n",
      "1/1 [==============================] - 20s 20s/step - loss: 0.1939 - accuracy: 0.9370\n",
      "Epoch 98/100\n",
      "1/1 [==============================] - 19s 19s/step - loss: 0.1954 - accuracy: 0.9375\n",
      "Epoch 99/100\n",
      "1/1 [==============================] - 20s 20s/step - loss: 0.1925 - accuracy: 0.9378\n",
      "Epoch 100/100\n",
      "1/1 [==============================] - 20s 20s/step - loss: 0.1918 - accuracy: 0.9367\n"
     ]
    }
   ],
   "source": [
    "from keras.callbacks import EarlyStopping, ModelCheckpoint, ReduceLROnPlateau\n",
    "\n",
    "#You monitor the loss of the model. training will stop if validation loss does not increase for 5 epochs. \n",
    "early_stopping = EarlyStopping(monitor='loss', patience=5, restore_best_weights=True)\n",
    "\n",

   ]
  },
  {
   "cell_type": "markdown",
   "id": "9738697e",
   "metadata": {},
   "source": [
    "### Plot cross-entropy loss"
   ]
  },
  {
   "cell_type": "code",
   "execution_count": 36,
   "id": "2b2e66d9",
   "metadata": {},
   "outputs": [
    {
     "data": {
      "image/png": "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\n",
      "text/plain": [
       "<Figure size 432x288 with 1 Axes>"
      ]
     },
     "metadata": {
      "needs_background": "light"
     },
     "output_type": "display_data"
    }
   ],
   "source": [
    "plt.plot(history.history[\"loss\"], '-o', label=\"Loss\")\n",
    "plt.legend();"
   ]
  },
  {
   "cell_type": "code",
   "execution_count": null,
   "id": "46b1b1b5",
   "metadata": {},
   "outputs": [],
   "source": []
  }
 ],
 "metadata": {
  "kernelspec": {
   "display_name": "Python 3",
   "language": "python",
   "name": "python3"
  },
  "language_info": {
   "codemirror_mode": {
    "name": "ipython",
    "version": 3
   },
   "file_extension": ".py",
   "mimetype": "text/x-python",
   "name": "python",
   "nbconvert_exporter": "python",
   "pygments_lexer": "ipython3",
   "version": "3.6.13"
  }
 },
 "nbformat": 4,
 "nbformat_minor": 5
}
