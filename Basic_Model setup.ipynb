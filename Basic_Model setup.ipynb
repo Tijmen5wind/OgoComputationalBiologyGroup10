{
 "cells": [
  {
   "cell_type": "markdown",
   "id": "e9d8669c",
   "metadata": {},
   "source": [
    "# MODEL CODE - UNIDIRECTIONAL RNN WITH LSTM CELLS"
   ]
  },
  {
   "cell_type": "markdown",
   "id": "b231a6d1",
   "metadata": {},
   "source": [
    "### Importing packages "
   ]
  },
  {
   "cell_type": "code",
   "execution_count": 164,
   "id": "d5a0eef6",
   "metadata": {},
   "outputs": [],
   "source": [
    "import numpy as np\n",
    "from collections import OrderedDict\n",
    "from itertools import chain\n",
    "from rdkit import Chem\n",
    "from sklearn.utils import shuffle\n",
    "from matplotlib import pyplot as plt\n",
    "import tensorflow as tf\n",
    "import pandas as pd"
   ]
  },
  {
   "cell_type": "markdown",
   "id": "26c23a7d",
   "metadata": {},
   "source": [
    "### Example data"
   ]
  },
  {
   "cell_type": "markdown",
   "id": "ccf3e685",
   "metadata": {},
   "source": [
    "Code is run with non-preprocessed data"
   ]
  },
  {
   "cell_type": "code",
   "execution_count": 165,
   "id": "c01fe7ae",
   "metadata": {},
   "outputs": [],
   "source": [
    "train_data = np.genfromtxt('example_dataset.csv',dtype='U')"
   ]
  },
  {
   "cell_type": "code",
   "execution_count": 166,
   "id": "8a99f534",
   "metadata": {},
   "outputs": [
    {
     "data": {
      "text/plain": [
       "67"
      ]
     },
     "execution_count": 166,
     "metadata": {},
     "output_type": "execute_result"
    }
   ],
   "source": [
    "len(train_data)"
   ]
  },
  {
   "cell_type": "code",
   "execution_count": 167,
   "id": "d4dc0a00",
   "metadata": {},
   "outputs": [
    {
     "data": {
      "image/png": "[encoded data removed]",
      "text/plain": [
       "<rdkit.Chem.rdchem.Mol at 0x2a90109f4e0>"
      ]
     },
     "execution_count": 167,
     "metadata": {},
     "output_type": "execute_result"
    }
   ],
   "source": [
    "Chem.MolFromSmiles(train_data[5])"
   ]
  },
  {
   "cell_type": "markdown",
   "id": "db501cbe",
   "metadata": {},
   "source": [
    "### Creating dictionary"
   ]
  },
  {
   "cell_type": "markdown",
   "id": "c825f5d7",
   "metadata": {},
   "source": [
    "In this part a dictionary is made that maps each unique character to an unique integer. "
   ]
  },
  {
   "cell_type": "code",
   "execution_count": 169,
   "id": "022bf3d0",
   "metadata": {},
   "outputs": [],
   "source": [
    "unique_chars = sorted(list(OrderedDict.fromkeys(chain.from_iterable(train_data)))) #list of all unique characters\n",
    "\n",
    "char_to_int = dict((c, i) for i, c in enumerate(unique_chars)) #dict from character to int. \n",
    "int_to_char = dict((i, c) for i, c in enumerate(unique_chars)) #dict from int to character.\n",
    "\n",
    "\n",
    "#add E character to indicate end of SMILES\n",
    "char_to_int.update({\"E\" : len(char_to_int)})\n",
    "char_to_int.update({\"G\" : len(char_to_int)})\n",
    "int_to_char.update({len(int_to_char) : \"E\"})\n",
    "int_to_char.update({len(int_to_char) : \"G\"})"
   ]
  },
  {
   "cell_type": "markdown",
   "id": "82c50f90",
   "metadata": {},
   "source": [
    "### One-hot encoding"
   ]
  },
  {
   "cell_type": "markdown",
   "id": "62e77a9b",
   "metadata": {},
   "source": [
    "Makes a 3D Numpy array for each sequence. This representation encodes each character in one-hot representation and adds 'endchar' symbol. It then returns two arrays; one for input sequence and the other for corresponding output."
   ]
  },
  {
   "cell_type": "code",
   "execution_count": 170,
   "id": "937e33b2",
   "metadata": {},
   "outputs": [],
   "source": [
    "def encoder(data, char_to_int, embed):\n",
    "    '''Van SMILES naar one-hot encoding'''\n",
    "    one_hot =  np.zeros((data.shape[0], embed+2, len(char_to_int)),dtype=np.int8)\n",
    "    for i,smile in enumerate(data):\n",
    "        one_hot[i,0,char_to_int[\"G\"]] = 1 #addition of beginchar\n",
    "        for j,c in enumerate(smile):\n",
    "            one_hot[i,j+1,char_to_int[c]] = 1\n",
    "        one_hot[i,len(smile)+1,char_to_int[\"E\"]] = 1 #addition of endchar\n",
    "    return one_hot[:,0:-1,:], one_hot[:,1:,:] #input and output arrays\n",
    "\n",
    "def decoder(array_data, int_to_char):\n",
    "    ''' van one-hot encoding naar SMILES'''\n",
    "    generated_molecules = []\n",
    "    decoded_sequence = \"\"\n",
    "    for i in range(array_data.shape[0]):\n",
    "        for j in range(array_data.shape[1]):\n",
    "            char_index = np.argmax(one_hot[j,:])\n",
    "            decoded_char = int_to_char[char_index]\n",
    "            if decoded_char != \"E\":\n",
    "                decoded_sequence += decoded_char\n",
    "            else:\n",
    "                break\n",
    "    generated_molecules.append(decoded_sequence)\n",
    "    \n",
    "    return generated_molecules"
   ]
  },
  {
   "cell_type": "code",
   "execution_count": 171,
   "id": "6246ed8f",
   "metadata": {},
   "outputs": [],
   "source": [
    "embed = max([len(seq) for seq in train_data]) #length of longest seq in dataset, so you know how much padding needs to be done."
   ]
  },
  {
   "cell_type": "code",
   "execution_count": 172,
   "id": "95e57632",
   "metadata": {},
   "outputs": [],
   "source": [
    "#X: contains all characters except last of sequences\n",
    "#Y: contains all characters except first of sequences\n",
    "X, Y = encoder(train_data, char_to_int, embed)\n",
    "X, Y = shuffle(X, Y) #for randomization"
   ]
  },
  {
   "cell_type": "markdown",
   "id": "148fb64b",
   "metadata": {},
   "source": [
    "### RNN model with LSTM cells"
   ]
  },
  {
   "cell_type": "markdown",
   "id": "4c9c539f",
   "metadata": {},
   "source": [
    "Model is built with two LSTM layers with dropout for sequence processing. Batch normalization is applied to input and intermediate layers to enhance training stability. We also use a softmax activation function in the output layer. The model structure is mimicked to be like that of the MORET PAPER. STILL NEEDS TO BE OPTIMIZED."
   ]
  },
  {
   "cell_type": "code",
   "execution_count": 173,
   "id": "66f24802",
   "metadata": {},
   "outputs": [
    {
     "name": "stdout",
     "output_type": "stream",
     "text": [
      "Model: \"sequential_1\"\n",
      "_________________________________________________________________\n",
      "Layer (type)                 Output Shape              Param #   \n",
      "=================================================================\n",
      "batch_normalization_2 (Batch (None, None, 35)          140       \n",
      "_________________________________________________________________\n",
      "lstm_2 (LSTM)                (None, None, 512)         1122304   \n",
      "_________________________________________________________________\n",
      "dropout_2 (Dropout)          (None, None, 512)         0         \n",
      "_________________________________________________________________\n",
      "lstm_3 (LSTM)                (None, None, 256)         787456    \n",
      "_________________________________________________________________\n",
      "dropout_3 (Dropout)          (None, None, 256)         0         \n",
      "_________________________________________________________________\n",
      "batch_normalization_3 (Batch (None, None, 256)         1024      \n",
      "_________________________________________________________________\n",
      "dense_1 (Dense)              (None, None, 35)          8995      \n",
      "=================================================================\n",
      "Total params: 1,919,919\n",
      "Trainable params: 1,919,337\n",
      "Non-trainable params: 582\n",
      "_________________________________________________________________\n",
      "None\n"
     ]
    }
   ],
   "source": [
    "from tensorflow.keras.models import Sequential, Model\n",
    "from tensorflow.keras.layers import Dense, BatchNormalization\n",
    "from tensorflow.keras.layers import Dropout\n",
    "from tensorflow.keras.layers import LSTM\n",
    "\n",
    "model = Sequential()\n",
    "\n",
    "model.add(BatchNormalization(input_shape=(None, X.shape[2])))\n",
    "\n",
    "model.add(LSTM(512, return_sequences = True))\n",
    "model.add(Dropout(0.25))\n",
    "\n",
    "model.add(LSTM(256, return_sequences = True))\n",
    "model.add(Dropout(0.25))\n",
    "\n",
    "model.add(BatchNormalization())\n",
    "model.add(Dense(Y.shape[-1], activation='softmax'))\n",
    "\n",
    "print (model.summary())"
   ]
  },
  {
   "cell_type": "markdown",
   "id": "ac86b8c0",
   "metadata": {},
   "source": [
    "We then compile model using cross-entropy as loss function with Adam optimizer with learning rate of 0.001. and accuracy as the evaluation metric. STILL NEED TO SEE HOW ACCURACY WILL BE TAKEN INTO ACCOUNT. "
   ]
  },
  {
   "cell_type": "code",
   "execution_count": 174,
   "id": "1836aa41",
   "metadata": {},
   "outputs": [],
   "source": [
    "from tensorflow.keras.losses import categorical_crossentropy\n",
    "from tensorflow.keras.optimizers import Adam\n",
    "\n",
    "model.compile(loss=categorical_crossentropy, optimizer=Adam(learning_rate=0.001), metrics=['accuracy'])"
   ]
  },
  {
   "cell_type": "markdown",
   "id": "20e78898",
   "metadata": {},
   "source": [
    "We then train the model and employ Early stopping to monitor trainin loss and minimize overfitting. The training is performed for a maximum of x epochs with a batch size of 256."
   ]
  },
  {
   "cell_type": "code",
   "execution_count": 175,
   "id": "7e7a6775",
   "metadata": {},
   "outputs": [
    {
     "name": "stdout",
     "output_type": "stream",
     "text": [
      "Original X Data Set Length: 67\n",
      "Original Y Data Set Length: 67\n",
      "X Training Set Length: 53\n",
      "Y Training Set Length: 53\n",
      "X Validation Set Length: 14\n",
      "Y Validation Set Length: 14\n",
      "Epoch 1/12\n",
      "1/1 [==============================] - 15s 15s/step - loss: 1.3073 - accuracy: 0.0053 - val_loss: 0.7445 - val_accuracy: 0.0483\n",
      "Epoch 2/12\n",
      "1/1 [==============================] - 11s 11s/step - loss: 0.9187 - accuracy: 0.0421 - val_loss: 0.7431 - val_accuracy: 0.0278\n",
      "Epoch 3/12\n",
      "1/1 [==============================] - 11s 11s/step - loss: 0.8699 - accuracy: 0.0338 - val_loss: 0.7415 - val_accuracy: 0.0357\n",
      "Epoch 4/12\n",
      "1/1 [==============================] - 11s 11s/step - loss: 0.7833 - accuracy: 0.0402 - val_loss: 0.7391 - val_accuracy: 0.0451\n",
      "Epoch 5/12\n",
      "1/1 [==============================] - 12s 12s/step - loss: 0.7270 - accuracy: 0.0552 - val_loss: 0.7374 - val_accuracy: 0.0461\n",
      "Epoch 6/12\n",
      "1/1 [==============================] - 12s 12s/step - loss: 0.6868 - accuracy: 0.0560 - val_loss: 0.7354 - val_accuracy: 0.0456\n",
      "Epoch 7/12\n",
      "1/1 [==============================] - 13s 13s/step - loss: 0.6464 - accuracy: 0.0630 - val_loss: 0.7331 - val_accuracy: 0.0470\n",
      "Epoch 8/12\n",
      "1/1 [==============================] - 16s 16s/step - loss: 0.6394 - accuracy: 0.0646 - val_loss: 0.7307 - val_accuracy: 0.0491\n",
      "Epoch 9/12\n",
      "1/1 [==============================] - 14s 14s/step - loss: 0.6157 - accuracy: 0.0701 - val_loss: 0.7288 - val_accuracy: 0.0543\n",
      "Epoch 10/12\n",
      "1/1 [==============================] - 14s 14s/step - loss: 0.5991 - accuracy: 0.0748 - val_loss: 0.7276 - val_accuracy: 0.0666\n",
      "Epoch 11/12\n",
      "1/1 [==============================] - 13s 13s/step - loss: 0.5850 - accuracy: 0.0776 - val_loss: 0.7269 - val_accuracy: 0.0620\n",
      "Epoch 12/12\n",
      "1/1 [==============================] - 13s 13s/step - loss: 0.5630 - accuracy: 0.0839 - val_loss: 0.7262 - val_accuracy: 0.0544\n"
     ]
    }
   ],
   "source": [
    "from keras.callbacks import EarlyStopping, ModelCheckpoint, ReduceLROnPlateau\n",
    "from sklearn.model_selection import train_test_split\n",
    "\n",
    "validation_fraction = 0.2\n",
    "print(f\"Original X Data Set Length: {len(X)}\")\n",
    "print(f\"Original Y Data Set Length: {len(X)}\")\n",
    "\n",
    "#split train and validation data\n",
    "X_train, X_val, Y_train, Y_val = train_test_split(X,Y, test_size=validation_fraction, random_state=42)\n",
    "\n",
    "print(f\"X Training Set Length: {len(X_train)}\")\n",
    "print(f\"Y Training Set Length: {len(Y_train)}\")\n",
    "print(f\"X Validation Set Length: {len(X_val)}\")\n",
    "print(f\"Y Validation Set Length: {len(Y_val)}\")\n",
    "\n",
    "#You monitor the loss of the model. training will stop if validation loss does not increase for 5 epochs. \n",
    "early_stopping = EarlyStopping(monitor='val_loss', patience=5, restore_best_weights=True)\n",
    "\n",
    "#save training history\n",
    "history = model.fit(X_train, Y_train, epochs = 12, batch_size = 256, callbacks=[early_stopping], validation_data=(X_val, Y_val))#epochs in Moret is 40"
   ]
  },
  {
   "cell_type": "markdown",
   "id": "9738697e",
   "metadata": {},
   "source": [
    "### Plot cross-entropy loss"
   ]
  },
  {
   "cell_type": "code",
   "execution_count": 176,
   "id": "2b2e66d9",
   "metadata": {},
   "outputs": [
    {
     "data": {
      "image/png": "[encoded data removed]",
      "text/plain": [
       "<Figure size 432x288 with 1 Axes>"
      ]
     },
     "metadata": {
      "needs_background": "light"
     },
     "output_type": "display_data"
    }
   ],
   "source": [
    "plt.plot(history.history[\"loss\"], '-o', label=\"Loss\")\n",
    "plt.legend();"
   ]
  },
  {
   "cell_type": "code",
   "execution_count": null,
   "id": "133e58e8",
   "metadata": {},
   "outputs": [],
   "source": []
  },
  {
   "cell_type": "code",
   "execution_count": 197,
   "id": "db1b3749",
   "metadata": {},
   "outputs": [
    {
     "ename": "ValueError",
     "evalue": "'a' and 'p' must have same size",
     "output_type": "error",
     "traceback": [
      "\u001b[1;31m---------------------------------------------------------------------------\u001b[0m",
      "\u001b[1;31mValueError\u001b[0m                                Traceback (most recent call last)",
      "\u001b[1;32m<ipython-input-197-867a4b95585a>\u001b[0m in \u001b[0;36m<module>\u001b[1;34m\u001b[0m\n\u001b[0;32m     36\u001b[0m \u001b[1;33m\u001b[0m\u001b[0m\n\u001b[0;32m     37\u001b[0m \u001b[1;31m# Generate SMILES string\u001b[0m\u001b[1;33m\u001b[0m\u001b[1;33m\u001b[0m\u001b[1;33m\u001b[0m\u001b[0m\n\u001b[1;32m---> 38\u001b[1;33m \u001b[0mgenerated_smiles\u001b[0m \u001b[1;33m=\u001b[0m \u001b[0mgenerate_smiles\u001b[0m\u001b[1;33m(\u001b[0m\u001b[0mmodel\u001b[0m\u001b[1;33m,\u001b[0m \u001b[0mstart_char\u001b[0m\u001b[1;33m=\u001b[0m\u001b[1;34m'G'\u001b[0m\u001b[1;33m,\u001b[0m \u001b[0mmax_length\u001b[0m\u001b[1;33m=\u001b[0m\u001b[1;36m30\u001b[0m\u001b[1;33m,\u001b[0m \u001b[0mtemperature\u001b[0m\u001b[1;33m=\u001b[0m\u001b[1;36m0.7\u001b[0m\u001b[1;33m)\u001b[0m\u001b[1;33m\u001b[0m\u001b[1;33m\u001b[0m\u001b[0m\n\u001b[0m\u001b[0;32m     39\u001b[0m \u001b[1;33m\u001b[0m\u001b[0m\n\u001b[0;32m     40\u001b[0m \u001b[1;31m# Print the generated SMILES string\u001b[0m\u001b[1;33m\u001b[0m\u001b[1;33m\u001b[0m\u001b[1;33m\u001b[0m\u001b[0m\n",
      "\u001b[1;32m<ipython-input-197-867a4b95585a>\u001b[0m in \u001b[0;36mgenerate_smiles\u001b[1;34m(model, start_char, max_length, temperature)\u001b[0m\n\u001b[0;32m     17\u001b[0m \u001b[1;33m\u001b[0m\u001b[0m\n\u001b[0;32m     18\u001b[0m         \u001b[1;31m# Sample the next character\u001b[0m\u001b[1;33m\u001b[0m\u001b[1;33m\u001b[0m\u001b[1;33m\u001b[0m\u001b[0m\n\u001b[1;32m---> 19\u001b[1;33m         \u001b[0mpredicted_char_index\u001b[0m \u001b[1;33m=\u001b[0m \u001b[0mnp\u001b[0m\u001b[1;33m.\u001b[0m\u001b[0mrandom\u001b[0m\u001b[1;33m.\u001b[0m\u001b[0mchoice\u001b[0m\u001b[1;33m(\u001b[0m\u001b[0mlen\u001b[0m\u001b[1;33m(\u001b[0m\u001b[0mchar_to_int\u001b[0m\u001b[1;33m)\u001b[0m\u001b[1;33m,\u001b[0m \u001b[0mp\u001b[0m\u001b[1;33m=\u001b[0m\u001b[0mnormalized_predictions\u001b[0m\u001b[1;33m.\u001b[0m\u001b[0mravel\u001b[0m\u001b[1;33m(\u001b[0m\u001b[1;33m)\u001b[0m\u001b[1;33m)\u001b[0m\u001b[1;33m\u001b[0m\u001b[1;33m\u001b[0m\u001b[0m\n\u001b[0m\u001b[0;32m     20\u001b[0m         \u001b[0mpredicted_char\u001b[0m \u001b[1;33m=\u001b[0m \u001b[0mint_to_char\u001b[0m\u001b[1;33m[\u001b[0m\u001b[0mpredicted_char_index\u001b[0m\u001b[1;33m]\u001b[0m\u001b[1;33m\u001b[0m\u001b[1;33m\u001b[0m\u001b[0m\n\u001b[0;32m     21\u001b[0m \u001b[1;33m\u001b[0m\u001b[0m\n",
      "\u001b[1;32mmtrand.pyx\u001b[0m in \u001b[0;36mnumpy.random.mtrand.RandomState.choice\u001b[1;34m()\u001b[0m\n",
      "\u001b[1;31mValueError\u001b[0m: 'a' and 'p' must have same size"
     ]
    }
   ],
   "source": [
    "import numpy as np\n",
    "\n",
    "max_length = 50\n",
    "temperature = 0.7\n",
    "\n",
    "# Define a function to generate SMILES strings\n",
    "def generate_smiles(model, start_char=\"G\", max_length=100, temperature=1.0):\n",
    "    generated_sequence = start_char\n",
    "    input_sequence = np.zeros((1, 1, len(char_to_int)))\n",
    "    input_sequence[0, 0, char_to_int[start_char]] = 1\n",
    "\n",
    "    for _ in range(max_length):\n",
    "        predictions = model.predict(input_sequence)\n",
    "        predictions = np.log(predictions) / temperature\n",
    "        exp_predictions = np.exp(predictions)\n",
    "        normalized_predictions = exp_predictions / np.sum(exp_predictions)\n",
    "\n",
    "        # Sample the next character\n",
    "        predicted_char_index = np.random.choice(len(char_to_int), p=normalized_predictions[0, -1, :])\n",
    "        predicted_char = int_to_char[predicted_char_index]\n",
    "\n",
    "        if predicted_char == \"E\":\n",
    "            break\n",
    "\n",
    "        generated_sequence += predicted_char\n",
    "        input_sequence = np.zeros((1, len(generated_sequence)+1, len(char_to_int)))  # Update the input shape\n",
    "        for j, c in enumerate(generated_sequence):\n",
    "            input_sequence[0, j, char_to_int[c]] = 1\n",
    "\n",
    "    return generated_sequence\n",
    "\n",
    "\n",
    "# Example: Provide a seed SMILES and generate a new SMILES string\n",
    "temperature = 0.7\n",
    "max_length = 30\n",
    "\n",
    "# Generate SMILES string\n",
    "generated_smiles = generate_smiles(model, start_char='G', max_length=30, temperature=0.7)\n",
    "\n",
    "# Print the generated SMILES string\n",
    "print(\"Generated SMILES:\", generated_smiles)\n"
   ]
  },
  {
   "cell_type": "code",
   "execution_count": 163,
   "id": "316f7a22",
   "metadata": {},
   "outputs": [
    {
     "data": {
      "text/plain": [
       "35"
      ]
     },
     "execution_count": 163,
     "metadata": {},
     "output_type": "execute_result"
    }
   ],
   "source": [
    "len(char_to_int)"
   ]
  },
  {
   "cell_type": "code",
   "execution_count": 182,
   "id": "26be1725",
   "metadata": {},
   "outputs": [
    {
     "name": "stdout",
     "output_type": "stream",
     "text": [
      "(1, 1, 35)\n"
     ]
    }
   ],
   "source": [
    "generated_sequence = \"G\"\n",
    "input_sequence = np.zeros((1, 1, len(char_to_int)))\n",
    "\n",
    "input_sequence[0, 0, char_to_int[\"G\"]] = 1\n",
    "\n",
    "for _ in range(max_length):\n",
    "        predictions = model.predict(input_sequence)\n",
    "        predictions = np.log(predictions) / temperature\n",
    "        exp_predictions = np.exp(predictions)\n",
    "        normalized_predictions = exp_predictions / np.sum(exp_predictions)\n",
    "        \n",
    "        # Sample the next character\n",
    "        predicted_char_index = np.random.choice(len(char_to_int), p=normalized_predictions[0, -1, :])\n",
    "        predicted_char = int_to_char[predicted_char_index]\n",
    "\n",
    "        if predicted_char == \"E\":\n",
    "            break\n",
    "        \n",
    "        generated_sequence += predicted_char\n",
    "        input_sequence = np.zeros((1, len(generated_sequence), len(char_to_int)))  # Update the input shape\n"
   ]
  },
  {
   "cell_type": "code",
   "execution_count": 151,
   "id": "8d30334a",
   "metadata": {},
   "outputs": [
    {
     "name": "stdout",
     "output_type": "stream",
     "text": [
      "(None, None, 34)\n"
     ]
    }
   ],
   "source": [
    "print(model.input_shape)"
   ]
  },
  {
   "cell_type": "code",
   "execution_count": null,
   "id": "dd93dc52",
   "metadata": {},
   "outputs": [],
   "source": []
  }
 ],
 "metadata": {
  "kernelspec": {
   "display_name": "Python 3",
   "language": "python",
   "name": "python3"
  },
  "language_info": {
   "codemirror_mode": {
    "name": "ipython",
    "version": 3
   },
   "file_extension": ".py",
   "mimetype": "text/x-python",
   "name": "python",
   "nbconvert_exporter": "python",
   "pygments_lexer": "ipython3",
   "version": "3.6.13"
  }
 },
 "nbformat": 4,
 "nbformat_minor": 5
}
