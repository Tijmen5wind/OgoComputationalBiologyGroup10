{
 "cells": [
  {
   "cell_type": "markdown",
   "id": "e9d8669c",
   "metadata": {},
   "source": [
    "# MODEL CODE - UNIDIRECTIONAL RNN WITH LSTM CELLS"
   ]
  },
  {
   "cell_type": "markdown",
   "id": "9483340b",
   "metadata": {},
   "source": [
    "### Importing packages "
   ]
  },
  {
   "cell_type": "code",
   "execution_count": 9,
   "id": "5b3299ff",
   "metadata": {},
   "outputs": [],
   "source": [
    "import numpy as np\n",
    "from collections import OrderedDict\n",
    "from itertools import chain\n",
    "from rdkit import Chem\n",
    "from sklearn.utils import shuffle\n",
    "from matplotlib import pyplot as plt\n",
    "import tensorflow as tf"
   ]
  },
  {
   "cell_type": "markdown",
   "id": "87d0e5cc",
   "metadata": {},
   "source": [
    "### Example data"
   ]
  },
  {
   "cell_type": "code",
   "execution_count": 17,
   "id": "c01fe7ae",
   "metadata": {},
   "outputs": [],
   "source": [
    "train_data = np.array(['CC1C2CCC(C2)C1CN(CCO)C(=O)c1ccc(Cl)cc1',\n",
    "       'COc1ccc(-c2cc(=O)c3c(O)c(OC)c(OC)cc3o2)cc1O',\n",
    "       'CCOC(=O)c1ncn2c1CN(C)C(=O)c1cc(F)ccc1-2',\n",
    "       'Clc1ccccc1-c1nc(-c2ccncc2)no1',\n",
    "       'CC(C)(Oc1ccc(Cl)cc1)C(=O)OCc1cccc(CO)n1'])"
   ]
  },
  {
   "cell_type": "code",
   "execution_count": 18,
   "id": "8a99f534",
   "metadata": {},
   "outputs": [
    {
     "data": {
      "text/plain": [
       "array(['CC1C2CCC(C2)C1CN(CCO)C(=O)c1ccc(Cl)cc1',\n",
       "       'COc1ccc(-c2cc(=O)c3c(O)c(OC)c(OC)cc3o2)cc1O',\n",
       "       'CCOC(=O)c1ncn2c1CN(C)C(=O)c1cc(F)ccc1-2',\n",
       "       'Clc1ccccc1-c1nc(-c2ccncc2)no1',\n",
       "       'CC(C)(Oc1ccc(Cl)cc1)C(=O)OCc1cccc(CO)n1'], dtype='<U43')"
      ]
     },
     "execution_count": 18,
     "metadata": {},
     "output_type": "execute_result"
    }
   ],
   "source": [
    "train_data[:5]"
   ]
  },
  {
   "cell_type": "code",
   "execution_count": 19,
   "id": "d4dc0a00",
   "metadata": {},
   "outputs": [
    {
     "data": {
      "image/png": "[encoded data removed]",
      "text/plain": [
       "<rdkit.Chem.rdchem.Mol at 0x284e9fa6e90>"
      ]
     },
     "execution_count": 19,
     "metadata": {},
     "output_type": "execute_result"
    }
   ],
   "source": [
    "Chem.MolFromSmiles(train_data[0])"
   ]
  },
  {
   "cell_type": "markdown",
   "id": "5689af4c",
   "metadata": {},
   "source": [
    "### Creating dictionary"
   ]
  },
  {
   "cell_type": "markdown",
   "id": "5947df00",
   "metadata": {},
   "source": [
    "In this part a dictionary is made that maps each unique character to an unique integer. "
   ]
  },
  {
   "cell_type": "code",
   "execution_count": 20,
   "id": "022bf3d0",
   "metadata": {},
   "outputs": [],
   "source": [
    "unique_chars = sorted(list(OrderedDict.fromkeys(chain.from_iterable(train_data)))) #list of all unique characters\n",
    "\n",
    "char_to_int = dict((c, i) for i, c in enumerate(unique_chars)) #dict from character to int. \n",
    "int_to_char = dict((i, c) for i, c in enumerate(unique_chars)) #dict from int to character.\n",
    "\n",
    "\n",
    "#add E character to indicate end of SMILES\n",
    "char_to_int.update({\"E\" : len(char_to_int)})\n",
    "int_to_char.update({len(int_to_char) : \"E\"})"
   ]
  },
  {
   "cell_type": "markdown",
   "id": "07f85168",
   "metadata": {},
   "source": [
    "### One-hot encoding"
   ]
  },
  {
   "cell_type": "markdown",
   "id": "c8560135",
   "metadata": {},
   "source": [
    "Makes a 3D Numpy array for each sequence. This representation encodes each character in one-hot representation and adds 'endchar' symbol. It then returns two arrays; one for input sequence and the other for corresponding output."
   ]
  },
  {
   "cell_type": "code",
   "execution_count": 21,
   "id": "937e33b2",
   "metadata": {},
   "outputs": [],
   "source": [
    "def gen_data(data, int_to_char, char_to_int, embed):\n",
    "    \n",
    "    one_hot =  np.zeros((data.shape[0], embed+1, len(char_to_int)),dtype=np.int8)\n",
    "    for i,smile in enumerate(data):\n",
    "        for j,c in enumerate(smile):\n",
    "            one_hot[i,j,char_to_int[c]] = 1\n",
    "        one_hot[i,len(smile):,char_to_int[\"E\"]] = 1 #addition of endchar\n",
    "    return one_hot[:,0:-1,:], one_hot[:,1:,:] #input and output arrays"
   ]
  },
  {
   "cell_type": "code",
   "execution_count": 22,
   "id": "6246ed8f",
   "metadata": {},
   "outputs": [],
   "source": [
    "embed = max([len(seq) for seq in train_data]) #length of longest seq in dataset, so you know how much padding needs to be done."
   ]
  },
  {
   "cell_type": "code",
   "execution_count": 26,
   "id": "95e57632",
   "metadata": {},
   "outputs": [],
   "source": [
    "#X: contains all characters except last of sequences\n",
    "#Y: contains all characters except first of sequences\n",
    "X, Y = gen_data(train_data, int_to_char, char_to_int, embed)\n",
    "X, Y = shuffle(X, Y) #for randomization"
   ]
  },
  {
   "cell_type": "markdown",
   "id": "3c1dbc3f",
   "metadata": {},
   "source": [
    "### RNN model with LSTM cells"
   ]
  },
  {
   "cell_type": "markdown",
   "id": "c63b1d49",
   "metadata": {},
   "source": [
    "Model is built with two LSTM layers with dropout for sequence processing. Batch normalization is applied to input and intermediate layers to enhance training stability. We also use a softmax activation function in the output layer. The model structure is mimicked to be like that of the MORET PAPER. STILL NEEDS TO BE OPTIMIZED."
   ]
  },
  {
   "cell_type": "code",
   "execution_count": 36,
   "id": "66f24802",
   "metadata": {},
   "outputs": [
    {
     "name": "stdout",
     "output_type": "stream",
     "text": [
      "Model: \"sequential_2\"\n",
      "_________________________________________________________________\n",
      "Layer (type)                 Output Shape              Param #   \n",
      "=================================================================\n",
      "batch_normalization_4 (Batch (None, None, 16)          64        \n",
      "_________________________________________________________________\n",
      "lstm_4 (LSTM)                (None, None, 512)         1083392   \n",
      "_________________________________________________________________\n",
      "dropout_4 (Dropout)          (None, None, 512)         0         \n",
      "_________________________________________________________________\n",
      "lstm_5 (LSTM)                (None, None, 256)         787456    \n",
      "_________________________________________________________________\n",
      "dropout_5 (Dropout)          (None, None, 256)         0         \n",
      "_________________________________________________________________\n",
      "batch_normalization_5 (Batch (None, None, 256)         1024      \n",
      "_________________________________________________________________\n",
      "dense_2 (Dense)              (None, None, 16)          4112      \n",
      "=================================================================\n",
      "Total params: 1,876,048\n",
      "Trainable params: 1,875,504\n",
      "Non-trainable params: 544\n",
      "_________________________________________________________________\n",
      "None\n"
     ]
    }
   ],
   "source": [
    "from tensorflow.keras.models import Sequential, Model\n",
    "from tensorflow.keras.layers import Dense, BatchNormalization\n",
    "from tensorflow.keras.layers import Dropout\n",
    "from tensorflow.keras.layers import LSTM\n",
    "\n",
    "model = Sequential()\n",
    "\n",
    "model.add(BatchNormalization(input_shape=(None, X.shape[2])))\n",
    "\n",
    "model.add(LSTM(512, input_shape=(None, X.shape[2]), return_sequences = True))\n",
    "model.add(Dropout(0.25))\n",
    "\n",
    "model.add(LSTM(256, return_sequences = True))\n",
    "model.add(Dropout(0.25))\n",
    "\n",
    "model.add(BatchNormalization())\n",
    "model.add(Dense(Y.shape[-1], activation='softmax'))\n",
    "\n",
    "print (model.summary())"
   ]
  },
  {
   "cell_type": "markdown",
   "id": "a16e00c0",
   "metadata": {},
   "source": [
    "We then compile model using cross-entropy as loss function with Adam optimizer with learning rate of 0.001. and accuracy as the evaluation metric. STILL NEED TO SEE HOW ACCURACY WILL BE TAKEN INTO ACCOUNT. "
   ]
  },
  {
   "cell_type": "code",
   "execution_count": 37,
   "id": "1836aa41",
   "metadata": {},
   "outputs": [],
   "source": [
    "from tensorflow.keras.losses import categorical_crossentropy\n",
    "from tensorflow.keras.optimizers import Adam\n",
    "\n",
    "model.compile(loss=categorical_crossentropy, optimizer=Adam(learning_rate=0.001), metrics=['accuracy'])"
   ]
  },
  {
   "cell_type": "markdown",
   "id": "3cee664f",
   "metadata": {},
   "source": [
    "We then train the model and employ Early stopping to monitor trainin loss and minimize overfitting. The training is performed for a maximum of x epochs with a batch size of 256. This approach helps prevent overfitting and ensures the model stops when optimal performance is achieved."
   ]
  },
  {
   "cell_type": "code",
   "execution_count": 34,
   "id": "7e7a6775",
   "metadata": {},
   "outputs": [
    {
     "name": "stdout",
     "output_type": "stream",
     "text": [
      "Epoch 1/100\n",
      "1/1 [==============================] - 0s 320ms/step - loss: 0.2045 - accuracy: 0.9488\n",
      "Epoch 2/100\n",
      "1/1 [==============================] - 0s 306ms/step - loss: 0.2156 - accuracy: 0.9442\n",
      "Epoch 3/100\n",
      "1/1 [==============================] - 0s 312ms/step - loss: 0.1984 - accuracy: 0.9442\n",
      "Epoch 4/100\n",
      "1/1 [==============================] - 0s 330ms/step - loss: 0.2049 - accuracy: 0.9395\n",
      "Epoch 5/100\n",
      "1/1 [==============================] - 0s 308ms/step - loss: 0.2008 - accuracy: 0.9442\n",
      "Epoch 6/100\n",
      "1/1 [==============================] - 0s 305ms/step - loss: 0.1982 - accuracy: 0.9442\n",
      "Epoch 7/100\n",
      "1/1 [==============================] - 0s 299ms/step - loss: 0.1902 - accuracy: 0.9488\n",
      "Epoch 8/100\n",
      "1/1 [==============================] - 0s 260ms/step - loss: 0.1800 - accuracy: 0.9535\n",
      "Epoch 9/100\n",
      "1/1 [==============================] - 0s 268ms/step - loss: 0.1720 - accuracy: 0.9442\n",
      "Epoch 10/100\n",
      "1/1 [==============================] - 0s 276ms/step - loss: 0.1600 - accuracy: 0.9581\n",
      "Epoch 11/100\n",
      "1/1 [==============================] - 0s 273ms/step - loss: 0.1712 - accuracy: 0.9581\n",
      "Epoch 12/100\n",
      "1/1 [==============================] - 0s 270ms/step - loss: 0.1665 - accuracy: 0.9628\n",
      "Epoch 13/100\n",
      "1/1 [==============================] - 0s 283ms/step - loss: 0.1591 - accuracy: 0.9767\n",
      "Epoch 14/100\n",
      "1/1 [==============================] - 0s 268ms/step - loss: 0.1753 - accuracy: 0.9581\n",
      "Epoch 15/100\n",
      "1/1 [==============================] - 0s 271ms/step - loss: 0.1744 - accuracy: 0.9488\n",
      "Epoch 16/100\n",
      "1/1 [==============================] - 0s 291ms/step - loss: 0.1534 - accuracy: 0.9628\n",
      "Epoch 17/100\n",
      "1/1 [==============================] - 0s 277ms/step - loss: 0.1679 - accuracy: 0.9488\n",
      "Epoch 18/100\n",
      "1/1 [==============================] - 0s 280ms/step - loss: 0.1672 - accuracy: 0.9581\n",
      "Epoch 19/100\n",
      "1/1 [==============================] - 0s 270ms/step - loss: 0.1341 - accuracy: 0.9674\n",
      "Epoch 20/100\n",
      "1/1 [==============================] - 0s 273ms/step - loss: 0.1764 - accuracy: 0.9302\n",
      "Epoch 21/100\n",
      "1/1 [==============================] - 0s 273ms/step - loss: 0.1367 - accuracy: 0.9721\n",
      "Epoch 22/100\n",
      "1/1 [==============================] - 0s 286ms/step - loss: 0.1561 - accuracy: 0.9628\n",
      "Epoch 23/100\n",
      "1/1 [==============================] - 0s 274ms/step - loss: 0.1507 - accuracy: 0.9628\n",
      "Epoch 24/100\n",
      "1/1 [==============================] - 0s 282ms/step - loss: 0.1260 - accuracy: 0.9674\n",
      "Epoch 25/100\n",
      "1/1 [==============================] - 0s 273ms/step - loss: 0.1497 - accuracy: 0.9535\n",
      "Epoch 26/100\n",
      "1/1 [==============================] - 0s 265ms/step - loss: 0.1315 - accuracy: 0.9674\n",
      "Epoch 27/100\n",
      "1/1 [==============================] - 0s 279ms/step - loss: 0.1241 - accuracy: 0.9628\n",
      "Epoch 28/100\n",
      "1/1 [==============================] - 0s 287ms/step - loss: 0.1274 - accuracy: 0.9628\n",
      "Epoch 29/100\n",
      "1/1 [==============================] - 0s 288ms/step - loss: 0.1341 - accuracy: 0.9535\n",
      "Epoch 30/100\n",
      "1/1 [==============================] - 0s 271ms/step - loss: 0.1214 - accuracy: 0.9721\n",
      "Epoch 31/100\n",
      "1/1 [==============================] - 0s 261ms/step - loss: 0.1318 - accuracy: 0.9721\n",
      "Epoch 32/100\n",
      "1/1 [==============================] - 0s 302ms/step - loss: 0.1355 - accuracy: 0.9674\n",
      "Epoch 33/100\n",
      "1/1 [==============================] - 0s 275ms/step - loss: 0.1212 - accuracy: 0.9581\n",
      "Epoch 34/100\n",
      "1/1 [==============================] - 0s 282ms/step - loss: 0.1193 - accuracy: 0.9767\n",
      "Epoch 35/100\n",
      "1/1 [==============================] - 0s 279ms/step - loss: 0.1224 - accuracy: 0.9674\n",
      "Epoch 36/100\n",
      "1/1 [==============================] - 0s 281ms/step - loss: 0.0957 - accuracy: 0.9814\n",
      "Epoch 37/100\n",
      "1/1 [==============================] - 0s 298ms/step - loss: 0.1042 - accuracy: 0.9767\n",
      "Epoch 38/100\n",
      "1/1 [==============================] - 0s 288ms/step - loss: 0.1078 - accuracy: 0.9674\n",
      "Epoch 39/100\n",
      "1/1 [==============================] - 0s 269ms/step - loss: 0.1084 - accuracy: 0.9721\n",
      "Epoch 40/100\n",
      "1/1 [==============================] - 0s 257ms/step - loss: 0.1102 - accuracy: 0.9628\n",
      "Epoch 41/100\n",
      "1/1 [==============================] - 0s 266ms/step - loss: 0.1154 - accuracy: 0.9628\n"
     ]
    }
   ],
   "source": [
    "from keras.callbacks import EarlyStopping, ModelCheckpoint, ReduceLROnPlateau\n",
    "\n",
    "#You monitor the loss of the model. This will if validation loss does not increase for 3 epochs. \n",
    "early_stopping = EarlyStopping(monitor='loss', patience=5, restore_best_weights=True)\n",
    "\n",
    "history = model.fit(X, Y, epochs = 100, batch_size = 256, callbacks=[early_stopping])"
   ]
  },
  {
   "cell_type": "code",
   "execution_count": 35,
   "id": "2b2e66d9",
   "metadata": {},
   "outputs": [
    {
     "data": {
      "text/plain": [
       "<matplotlib.legend.Legend at 0x284fab26240>"
      ]
     },
     "execution_count": 35,
     "metadata": {},
     "output_type": "execute_result"
    },
    {
     "data": {
      "image/png": "[encoded data removed]",
      "text/plain": [
       "<Figure size 432x288 with 1 Axes>"
      ]
     },
     "metadata": {
      "needs_background": "light"
     },
     "output_type": "display_data"
    }
   ],
   "source": [
    "plt.plot(history.history[\"loss\"], '-o', label=\"Loss\")\n",
    "plt.legend()"
   ]
  },
  {
   "cell_type": "code",
   "execution_count": null,
   "id": "6e273f11",
   "metadata": {},
   "outputs": [],
   "source": []
  }
 ],
 "metadata": {
  "kernelspec": {
   "display_name": "Python 3",
   "language": "python",
   "name": "python3"
  },
  "language_info": {
   "codemirror_mode": {
    "name": "ipython",
    "version": 3
   },
   "file_extension": ".py",
   "mimetype": "text/x-python",
   "name": "python",
   "nbconvert_exporter": "python",
   "pygments_lexer": "ipython3",
   "version": "3.6.13"
  }
 },
 "nbformat": 4,
 "nbformat_minor": 5
}
