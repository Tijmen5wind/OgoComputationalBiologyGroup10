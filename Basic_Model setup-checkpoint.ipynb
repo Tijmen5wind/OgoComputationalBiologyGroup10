{
 "cells": [
  {
   "cell_type": "markdown",
   "id": "e9d8669c",
   "metadata": {},
   "source": [
    "# MODEL CODE - UNIDIRECTIONAL RNN WITH LSTM CELLS"
   ]
  },
  {
   "cell_type": "markdown",
   "id": "b231a6d1",
   "metadata": {},
   "source": [
    "### Importing packages "
   ]
  },
  {
   "cell_type": "code",
   "execution_count": 11,
   "id": "d5a0eef6",
   "metadata": {},
   "outputs": [],
   "source": [
    "import numpy as np\n",
    "from collections import OrderedDict\n",
    "from itertools import chain\n",
    "from rdkit import Chem\n",
    "from sklearn.utils import shuffle\n",
    "from matplotlib import pyplot as plt\n",
    "import tensorflow as tf\n",
    "import pandas as pd"
   ]
  },
  {
   "cell_type": "markdown",
   "id": "26c23a7d",
   "metadata": {},
   "source": [
    "### Example data"
   ]
  },
  {
   "cell_type": "markdown",
   "id": "ccf3e685",
   "metadata": {},
   "source": [
    "Code is run with non-preprocessed data"
   ]
  },
  {
   "cell_type": "code",
   "execution_count": 12,
   "id": "c01fe7ae",
   "metadata": {},
   "outputs": [],
   "source": [
    "train_data = np.genfromtxt('example_dataset.csv',dtype='U')"
   ]
  },
  {
   "cell_type": "code",
   "execution_count": 13,
   "id": "8a99f534",
   "metadata": {},
   "outputs": [
    {
     "data": {
      "text/plain": [
       "array(['Cc1cc(-c2csc(N=C(N)N)n2)cn1C',\n",
       "       'CC[C@H](C)[C@H](NC(=O)[C@H](CC(C)C)NC(=O)[C@@H](NC(=O)[C@@H](N)CCSC)[C@@H](C)O)C(=O)NCC(=O)N[C@@H](C)C(=O)N[C@@H](C)C(=O)N[C@@H](Cc1c[nH]cn1)C(=O)N[C@@H](CC(N)=O)C(=O)NCC(=O)N[C@@H](C)C(=O)N[C@@H](C)C(=O)N[C@@H](CCC(N)=O)C(=O)N[C@@H](CC(C)C)C(=O)N[C@@H](CC(C)C)C(=O)N[C@@H](CCCN=C(N)N)C(=O)N[C@@H](CCC(N)=O)C(=O)N[C@@H](CC(C)C)C(=O)N[C@@H](CCCN=C(N)N)C(=O)NCC(=O)N[C@@H](CCC(N)=O)C(=O)N[C@@H](CC(C)C)C(=O)NCC(=O)N1CCC[C@H]1C(=O)N1CCC[C@H]1C(=O)NCC(=O)N[C@@H](CO)C(=O)N[C@@H](CCCN=C(N)N)C(N)=O',\n",
       "       'CCCC[C@@H]1NC(=O)[C@@H](NC(=O)[C@H](CC(C)C)NC(=O)[C@@H](NC(=O)[C@H](CCC(=O)O)NC(=O)[C@H](CCCN=C(N)N)NC(=O)[C@H](CC(C)C)NC(=O)[C@H](CC(C)C)NC(=O)[C@H](Cc2c[nH]cn2)NC(=O)[C@H](N)Cc2ccccc2)C(C)C)CCC(=O)NCCCC[C@@H](C(=O)N[C@@H](CCC(N)=O)C(=O)N[C@@H](CC(C)C)C(=O)N[C@@H](C)C(=O)N[C@@H](CCC(N)=O)C(=O)N[C@@H](CCC(N)=O)C(=O)N[C@@H](C)C(=O)N[C@@H](Cc2c[nH]cn2)C(=O)N[C@@H](CO)C(=O)N[C@@H](CC(N)=O)C(=O)N[C@@H](CCCN=C(N)N)C(=O)N[C@@H](CCCCN)C(=O)N[C@@H](CC(C)C)C(=O)N[C@@H](CCCC)C(=O)N[C@@H](CCC(=O)O)C(=O)N[C@H](C(=O)N[C@H](C(=O)C(N)=O)[C@@H](C)CC)[C@@H](C)CC)NC(=O)[C@H](C)NC(=O)[C@H](CCCN=C(N)N)NC(=O)[C@H](C)NC1=O',\n",
       "       'CC(C)C[C@@H]1NC(=O)CNC(=O)[C@H](c2ccc(O)cc2)NC(=O)[C@@H]([C@@H](C)O)NC(=O)[C@H](c2ccc(O[C@H]3O[C@H](CO)[C@@H](O)[C@H](O)[C@@H]3O[C@H]3O[C@H](CO)[C@@H](O)[C@H](O)[C@@H]3O)cc2)NC(=O)[C@@H](CCCN)NC(=O)[C@H](Cc2ccccc2)NC(=O)[C@H]([C@@H](C)O)NC(=O)[C@@H](c2ccc(O)cc2)NC(=O)[C@H](c2ccc(O)cc2)NC(=O)[C@@H](C(C)C)NC(=O)[C@@H](CCCN)NC(=O)[C@@H](c2ccc(O)cc2)NC(=O)[C@@H](CNC(=O)[C@H](CC(N)=O)NC(=O)Cc2cccc3ccccc23)[C@@H](C(N)=O)OC(=O)[C@H](c2ccc(O)c(Cl)c2)NC(=O)[C@@H](C)NC1=O',\n",
       "       'Brc1cccc(Nc2ncnc3ccncc23)c1NCCN1CCOCC1'], dtype='<U611')"
      ]
     },
     "execution_count": 13,
     "metadata": {},
     "output_type": "execute_result"
    }
   ],
   "source": [
    "train_data[:5]"
   ]
  },
  {
   "cell_type": "code",
   "execution_count": 14,
   "id": "d4dc0a00",
   "metadata": {},
   "outputs": [
    {
     "data": {
      "image/png": "[encoded data removed]",
      "text/plain": [
       "<rdkit.Chem.rdchem.Mol at 0x145e0c93b70>"
      ]
     },
     "execution_count": 14,
     "metadata": {},
     "output_type": "execute_result"
    }
   ],
   "source": [
    "Chem.MolFromSmiles(train_data[5])"
   ]
  },
  {
   "cell_type": "markdown",
   "id": "db501cbe",
   "metadata": {},
   "source": [
    "### Creating dictionary"
   ]
  },
  {
   "cell_type": "markdown",
   "id": "c825f5d7",
   "metadata": {},
   "source": [
    "In this part a dictionary is made that maps each unique character to an unique integer. "
   ]
  },
  {
   "cell_type": "code",
   "execution_count": 15,
   "id": "022bf3d0",
   "metadata": {},
   "outputs": [],
   "source": [
    "unique_chars = sorted(list(OrderedDict.fromkeys(chain.from_iterable(train_data)))) #list of all unique characters\n",
    "\n",
    "char_to_int = dict((c, i) for i, c in enumerate(unique_chars)) #dict from character to int. \n",
    "int_to_char = dict((i, c) for i, c in enumerate(unique_chars)) #dict from int to character.\n",
    "\n",
    "\n",
    "#add E character to indicate end of SMILES\n",
    "char_to_int.update({\"E\" : len(char_to_int)})\n",
    "int_to_char.update({len(int_to_char) : \"E\"})"
   ]
  },
  {
   "cell_type": "markdown",
   "id": "82c50f90",
   "metadata": {},
   "source": [
    "### One-hot encoding"
   ]
  },
  {
   "cell_type": "markdown",
   "id": "62e77a9b",
   "metadata": {},
   "source": [
    "Makes a 3D Numpy array for each sequence. This representation encodes each character in one-hot representation and adds 'endchar' symbol. It then returns two arrays; one for input sequence and the other for corresponding output."
   ]
  },
  {
   "cell_type": "code",
   "execution_count": 16,
   "id": "937e33b2",
   "metadata": {},
   "outputs": [],
   "source": [
    "def gen_data(data, int_to_char, char_to_int, embed):\n",
    "    \n",
    "    one_hot =  np.zeros((data.shape[0], embed+1, len(char_to_int)),dtype=np.int8)\n",
    "    for i,smile in enumerate(data):\n",
    "        for j,c in enumerate(smile):\n",
    "            one_hot[i,j,char_to_int[c]] = 1\n",
    "        one_hot[i,len(smile):,char_to_int[\"E\"]] = 1 #addition of endchar\n",
    "    return one_hot[:,0:-1,:], one_hot[:,1:,:] #input and output arrays"
   ]
  },
  {
   "cell_type": "code",
   "execution_count": 17,
   "id": "6246ed8f",
   "metadata": {},
   "outputs": [],
   "source": [
    "embed = max([len(seq) for seq in train_data]) #length of longest seq in dataset, so you know how much padding needs to be done."
   ]
  },
  {
   "cell_type": "code",
   "execution_count": 18,
   "id": "95e57632",
   "metadata": {},
   "outputs": [],
   "source": [
    "#X: contains all characters except last of sequences\n",
    "#Y: contains all characters except first of sequences\n",
    "X, Y = gen_data(train_data, int_to_char, char_to_int, embed)\n",
    "X, Y = shuffle(X, Y) #for randomization"
   ]
  },
  {
   "cell_type": "markdown",
   "id": "148fb64b",
   "metadata": {},
   "source": [
    "### RNN model with LSTM cells"
   ]
  },
  {
   "cell_type": "markdown",
   "id": "4c9c539f",
   "metadata": {},
   "source": [
    "Model is built with two LSTM layers with dropout for sequence processing. Batch normalization is applied to input and intermediate layers to enhance training stability. We also use a softmax activation function in the output layer. The model structure is mimicked to be like that of the MORET PAPER. STILL NEEDS TO BE OPTIMIZED."
   ]
  },
  {
   "cell_type": "code",
   "execution_count": 19,
   "id": "66f24802",
   "metadata": {},
   "outputs": [
    {
     "name": "stdout",
     "output_type": "stream",
     "text": [
      "Model: \"sequential\"\n",
      "_________________________________________________________________\n",
      "Layer (type)                 Output Shape              Param #   \n",
      "=================================================================\n",
      "batch_normalization (BatchNo (None, None, 34)          136       \n",
      "_________________________________________________________________\n",
      "lstm (LSTM)                  (None, None, 512)         1120256   \n",
      "_________________________________________________________________\n",
      "dropout (Dropout)            (None, None, 512)         0         \n",
      "_________________________________________________________________\n",
      "lstm_1 (LSTM)                (None, None, 256)         787456    \n",
      "_________________________________________________________________\n",
      "dropout_1 (Dropout)          (None, None, 256)         0         \n",
      "_________________________________________________________________\n",
      "batch_normalization_1 (Batch (None, None, 256)         1024      \n",
      "_________________________________________________________________\n",
      "dense (Dense)                (None, None, 34)          8738      \n",
      "=================================================================\n",
      "Total params: 1,917,610\n",
      "Trainable params: 1,917,030\n",
      "Non-trainable params: 580\n",
      "_________________________________________________________________\n",
      "None\n"
     ]
    }
   ],
   "source": [
    "from tensorflow.keras.models import Sequential, Model\n",
    "from tensorflow.keras.layers import Dense, BatchNormalization\n",
    "from tensorflow.keras.layers import Dropout\n",
    "from tensorflow.keras.layers import LSTM\n",
    "\n",
    "model = Sequential()\n",
    "\n",
    "model.add(BatchNormalization(input_shape=(None, X.shape[2])))\n",
    "\n",
    "model.add(LSTM(512, return_sequences = True))\n",
    "model.add(Dropout(0.25))\n",
    "\n",
    "model.add(LSTM(256, return_sequences = True))\n",
    "model.add(Dropout(0.25))\n",
    "\n",
    "model.add(BatchNormalization())\n",
    "model.add(Dense(Y.shape[-1], activation='softmax'))\n",
    "\n",
    "print (model.summary())"
   ]
  },
  {
   "cell_type": "markdown",
   "id": "ac86b8c0",
   "metadata": {},
   "source": [
    "We then compile model using cross-entropy as loss function with Adam optimizer with learning rate of 0.001. and accuracy as the evaluation metric. STILL NEED TO SEE HOW ACCURACY WILL BE TAKEN INTO ACCOUNT. "
   ]
  },
  {
   "cell_type": "code",
   "execution_count": 20,
   "id": "1836aa41",
   "metadata": {},
   "outputs": [],
   "source": [
    "from tensorflow.keras.losses import categorical_crossentropy\n",
    "from tensorflow.keras.optimizers import Adam\n",
    "\n",
    "model.compile(loss=categorical_crossentropy, optimizer=Adam(learning_rate=0.001), metrics=['accuracy'])"
   ]
  },
  {
   "cell_type": "markdown",
   "id": "20e78898",
   "metadata": {},
   "source": [
    "We then train the model and employ Early stopping to monitor trainin loss and minimize overfitting. The training is performed for a maximum of x epochs with a batch size of 256."
   ]
  },
  {
   "cell_type": "code",
   "execution_count": 21,
   "id": "7e7a6775",
   "metadata": {},
   "outputs": [
    {
     "name": "stdout",
     "output_type": "stream",
     "text": [
      "Epoch 1/12\n",
      "1/1 [==============================] - 22s 22s/step - loss: 4.0666 - accuracy: 0.0075\n",
      "Epoch 2/12\n",
      "1/1 [==============================] - 19s 19s/step - loss: 1.7786 - accuracy: 0.7496\n",
      "Epoch 3/12\n",
      "1/1 [==============================] - 18s 18s/step - loss: 1.2878 - accuracy: 0.7813\n",
      "Epoch 4/12\n",
      "1/1 [==============================] - 18s 18s/step - loss: 1.1646 - accuracy: 0.7760\n",
      "Epoch 5/12\n",
      "1/1 [==============================] - 17s 17s/step - loss: 1.0206 - accuracy: 0.7944\n",
      "Epoch 6/12\n",
      "1/1 [==============================] - 16s 16s/step - loss: 0.9325 - accuracy: 0.8077\n",
      "Epoch 7/12\n",
      "1/1 [==============================] - 17s 17s/step - loss: 0.8581 - accuracy: 0.8129\n",
      "Epoch 8/12\n",
      "1/1 [==============================] - 16s 16s/step - loss: 0.8044 - accuracy: 0.8187\n",
      "Epoch 9/12\n",
      "1/1 [==============================] - 16s 16s/step - loss: 0.7608 - accuracy: 0.8211\n",
      "Epoch 10/12\n",
      "1/1 [==============================] - 19s 19s/step - loss: 0.7200 - accuracy: 0.8296\n",
      "Epoch 11/12\n",
      "1/1 [==============================] - 20s 20s/step - loss: 0.6841 - accuracy: 0.8348\n",
      "Epoch 12/12\n",
      "1/1 [==============================] - 19s 19s/step - loss: 0.6478 - accuracy: 0.8424\n"
     ]
    }
   ],
   "source": [
    "from keras.callbacks import EarlyStopping, ModelCheckpoint, ReduceLROnPlateau\n",
    "\n",
    "#You monitor the loss of the model. training will stop if validation loss does not increase for 5 epochs. \n",
    "early_stopping = EarlyStopping(monitor='loss', patience=5, restore_best_weights=True)\n",
    "\n",
    "#save training history\n",
    "history = model.fit(X, Y, epochs = 12, batch_size = 256, callbacks=[early_stopping])#epochs in Moret is 40"
   ]
  },
  {
   "cell_type": "markdown",
   "id": "9738697e",
   "metadata": {},
   "source": [
    "### Plot cross-entropy loss"
   ]
  },
  {
   "cell_type": "code",
   "execution_count": 22,
   "id": "2b2e66d9",
   "metadata": {},
   "outputs": [
    {
     "data": {
      "image/png": "[encoded data removed]",
      "text/plain": [
       "<Figure size 432x288 with 1 Axes>"
      ]
     },
     "metadata": {
      "needs_background": "light"
     },
     "output_type": "display_data"
    }
   ],
   "source": [
    "plt.plot(history.history[\"loss\"], '-o', label=\"Loss\")\n",
    "plt.legend();"
   ]
  },
  {
   "cell_type": "code",
   "execution_count": null,
   "id": "46b1b1b5",
   "metadata": {},
   "outputs": [],
   "source": [
    " def sample(self, N=100, stor_dir='../evaluation', T=0.7, fold=[1], epoch=[9], valid=True, novel=True, unique=True, write_csv=True):\n",
    "\n",
    "        '''Sample from a model where the number of novel valid unique molecules is fixed\n",
    "        :param stor_dir:    directory where the generated SMILES are saved\n",
    "        :param N:        number of samples\n",
    "        :param T:        Temperature\n",
    "        :param fold:     Folds to use for sampling\n",
    "        :param epoch:    Epochs to use for sampling\n",
    "        :param valid:    If True, only accept valid SMILES\n",
    "        :param novel:    If True, only accept novel SMILES\n",
    "        :param unique:   If True, only accept unique SMILES\n",
    "        :param write_csv If True, the generated SMILES are written in stor_dir\n",
    "        :return: res_molecules: list with all the generated SMILES\n",
    "        '''\n",
    "        \n",
    "        res_molecules = []\n",
    "        print('Sampling: started')\n",
    "        for f in fold:\n",
    "            for e in epoch:\n",
    "                self._model.build(\n",
    "                    stor_dir + '/' + self._experiment_name + '/models/model_fold_' + str(f) + '_epochs_' + str(e))\n",
    "\n",
    "                new_molecules = []\n",
    "                while len(new_molecules) < N:\n",
    "                    new_mol = self._encoder.decode(self._model.sample(self._starting_token, T))\n",
    "\n",
    "                    # Remove remains from generation\n",
    "                    new_mol = clean_molecule(new_mol[0], self._model_type)\n",
    "\n",
    "                    # If not valid, get new molecule\n",
    "                    if valid and not check_valid(new_mol):\n",
    "                        continue\n",
    "\n",
    "                    # If not unique, get new molecule\n",
    "                    if unique and (new_mol in new_molecules):\n",
    "                        continue\n",
    "\n",
    "                    # If not novel, get molecule\n",
    "                    if novel and (new_mol in self._data):\n",
    "                        continue\n",
    "\n",
    "                    # If all conditions checked, add new molecule\n",
    "                    new_molecules.append(new_mol)\n",
    "\n",
    "                # Prepare name for file\n",
    "                name = 'molecules_fold_' + str(f) + '_epochs_' + str(e) + '_T_' + str(T) + '_N_' + str(N) + '.csv'\n",
    "                if unique:\n",
    "                    name = 'unique_' + name\n",
    "                if valid:\n",
    "                    name = 'valid_' + name\n",
    "                if novel:\n",
    "                    name = 'novel_' + name\n",
    "\n",
    "                # Store final molecules\n",
    "                if write_csv:\n",
    "                    if not os.path.exists(stor_dir + '/' + self._experiment_name + '/molecules/'):\n",
    "                        os.makedirs(stor_dir + '/' + self._experiment_name + '/molecules/')\n",
    "                    mol = np.array(new_molecules).reshape(-1)\n",
    "                    pd.DataFrame(mol).to_csv(stor_dir + '/' + self._experiment_name + '/molecules/' + name, header=None)\n",
    "        \n",
    "            res_molecules.append(new_molecules)\n",
    "        \n",
    "        print('Sampling: done')\n",
    "        return res_molecules"
   ]
  },
  {
   "cell_type": "code",
   "execution_count": null,
   "id": "334bc85d",
   "metadata": {},
   "outputs": [],
   "source": []
  }
 ],
 "metadata": {
  "kernelspec": {
   "display_name": "Python 3",
   "language": "python",
   "name": "python3"
  },
  "language_info": {
   "codemirror_mode": {
    "name": "ipython",
    "version": 3
   },
   "file_extension": ".py",
   "mimetype": "text/x-python",
   "name": "python",
   "nbconvert_exporter": "python",
   "pygments_lexer": "ipython3",
   "version": "3.6.13"
  }
 },
 "nbformat": 4,
 "nbformat_minor": 5
}
