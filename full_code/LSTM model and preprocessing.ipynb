{
 "cells": [
  {
   "cell_type": "markdown",
   "id": "e9d8669c",
   "metadata": {},
   "source": [
    "# MODEL CODE - UNIDIRECTIONAL RNN WITH LSTM CELLS"
   ]
  },
  {
   "cell_type": "markdown",
   "id": "42381c6a",
   "metadata": {},
   "source": [
    "### Removing unwanted data"
   ]
  },
  {
   "cell_type": "markdown",
   "id": "6c1b2bd6",
   "metadata": {},
   "source": [
    "Removes all SMILES strings that are unwanted. This includes removing invalid SMILES, duplicates, salts and stereochemistry. Finally, it also canonicalizes the SMILES strings.  "
   ]
  },
  {
   "cell_type": "code",
   "execution_count": null,
   "id": "51677ceb",
   "metadata": {},
   "outputs": [],
   "source": [
    "def remove_unwanted_data(filename_in='', filename_out='',  invalid=True, duplicates=True, salts=True, stereochem=True, canonicalize=True):\n",
    "    \"\"\"Pre-processing of SMILES based on the user-defined parameters\n",
    "            :param filename_in     path to the file containing the SMILES to pretreat (SMILES only) -- default = ChEMBL\n",
    "            :param filename_out    path for file export -- default = ../data/\n",
    "            :param invalid         if True (default), removes invalid SMILES\n",
    "            :param duplicates      if True (default), removes duplicates\n",
    "            :param salts           if True (default), removes salts\n",
    "            :param stereochem      if True (default), removes stereochemistry\n",
    "            :param canonicalize    if True (default), produces canonical SMILES\n",
    "    \"\"\"\n",
    "\n",
    "    from preprocessor import Preprocessor\n",
    "    p = Preprocessor(filename_in)\n",
    "\n",
    "    print(Fore.GREEN + 'Pre-processing of \"' + filename_in + '\" started.')\n",
    "\n",
    "\n",
    "    # user-defined pretreatment\n",
    "    if invalid:\n",
    "        p.remove_not_valid()\n",
    "        print(Fore.GREEN + ' invalid SMILES - removed.')\n",
    "        print(Style.RESET_ALL)\n",
    "\n",
    "    if duplicates:\n",
    "        p.remove_duplicates()\n",
    "        print(Fore.GREEN + ' duplicate SMILES - removed.')\n",
    "        print(Style.RESET_ALL)\n",
    "\n",
    "    if salts:\n",
    "        p.remove_salts()\n",
    "        print(Fore.GREEN + ' salts - removed.')\n",
    "        print(Style.RESET_ALL)\n",
    "\n",
    "    if stereochem:\n",
    "        p.remove_stereochem()\n",
    "        print(Fore.GREEN + ' stereochemistry - removed.')\n",
    "        print(Style.RESET_ALL)\n",
    "\n",
    "    if canonicalize:\n",
    "        p.canonicalize()\n",
    "        print(Fore.GREEN + ' canonicalized SMILES.')\n",
    "        print(Style.RESET_ALL)\n",
    "\n",
    "    #save data to file\n",
    "    p.save_data(filename_out)\n",
    "\n",
    "    data = p.get_data()\n",
    "    print(data[:5])\n",
    "\n",
    "\n",
    "#remove_unwanted_data(filename_in='ChEMBL', filename_out='preprocessed_data.csv')\n",
    "#data_no_descriptors=pd.read_csv('preprocessed_data.csv')"
   ]
  },
  {
   "cell_type": "markdown",
   "id": "b231a6d1",
   "metadata": {},
   "source": [
    "### Importing packages "
   ]
  },
  {
   "cell_type": "code",
   "execution_count": 29,
   "id": "d5a0eef6",
   "metadata": {},
   "outputs": [],
   "source": [
    "import numpy as np\n",
    "import pandas as pd\n",
    "import tensorflow as tf\n",
    "\n",
    "from rdkit import Chem\n",
    "from rdkit.Chem import Descriptors\n",
    "\n",
    "import os\n",
    "\n",
    "from collections import OrderedDict\n",
    "from itertools import chain\n",
    "from sklearn.utils import shuffle\n",
    "\n",
    "\n",
    "from colorama import Fore, Style\n",
    "import matplotlib.pyplot as plt\n",
    "import seaborn as sns"
   ]
  },
  {
   "cell_type": "markdown",
   "id": "11d81f02",
   "metadata": {},
   "source": [
    "### Loading in preprocessed data & removing salts"
   ]
  },
  {
   "cell_type": "markdown",
   "id": "f46d3737",
   "metadata": {},
   "source": [
    "STEP 1: This section of code loads in the seperate preprocessed data sections and makes one panda dataframe. "
   ]
  },
  {
   "cell_type": "code",
   "execution_count": 30,
   "id": "c01fe7ae",
   "metadata": {},
   "outputs": [],
   "source": [
    "#Enter directory to the data \n",
    "csv_directory = 'D:\\School\\OGO Computational Biology\\Data'\n",
    "\n",
    "csv_files = [file for file in os.listdir(csv_directory) if file.endswith('.csv')]\n",
    "\n",
    "dataframes = []\n",
    "\n",
    "#Combines the data sections into a single dataframe\n",
    "for csv_file in csv_files:\n",
    "    file_path = os.path.join(csv_directory, csv_file)\n",
    "    df = pd.read_csv(file_path, header=None)\n",
    "    dataframes.append(df)\n",
    "\n",
    "pp_data = pd.concat(dataframes, ignore_index=True)\n",
    "pp_data.columns = ['canonical_smiles']\n",
    "pp_data.drop_duplicates(subset='canonical_smiles', inplace=True) #removing duplicate SMILES. (as it was not done by Helena, due to error)"
   ]
  },
  {
   "cell_type": "code",
   "execution_count": 31,
   "id": "325176e7",
   "metadata": {},
   "outputs": [
    {
     "name": "stdout",
     "output_type": "stream",
     "text": [
      "                                          canonical_smiles\n",
      "0                             Cc1cc(-c2csc(N=C(N)N)n2)cn1C\n",
      "1        CCC(C)C(NC(=O)C(CC(C)C)NC(=O)C(NC(=O)C(N)CCSC)...\n",
      "2        CCCCC1NC(=O)C(NC(=O)C(CC(C)C)NC(=O)C(NC(=O)C(C...\n",
      "3        CC(C)CC1NC(=O)CNC(=O)C(c2ccc(O)cc2)NC(=O)C(C(C...\n",
      "4                   Brc1cccc(Nc2ncnc3ccncc23)c1NCCN1CCOCC1\n",
      "...                                                    ...\n",
      "2299991           O=S(=O)(CCC(F)(F)F)N1C2CCC1CC(n1cccn1)C2\n",
      "2299992            CCOCC(=O)N1CCC(C(=O)N2CC(c3nccs3)C2)CC1\n",
      "2299993  Cc1ccccc1CN1C(=O)c2ccccc2Sc2ccc(C(=O)NCCN3CCOC...\n",
      "2299994  COc1cccc(N2CCN(C(=O)C3C4C=CC5(CN(Cc6ccccc6Cl)C...\n",
      "2299995     Cc1ccc(S(=O)(=O)Cn2nnnc2CN2CCCC3(CCCCC3)C2)cc1\n",
      "\n",
      "[2107759 rows x 1 columns]\n"
     ]
    }
   ],
   "source": [
    "print(pp_data) #when you want to iterate through SMILES recall as pp_data[\"canonical_smiles\"]"
   ]
  },
  {
   "cell_type": "markdown",
   "id": "25e7d489",
   "metadata": {},
   "source": [
    "STEP 2: We search for all two letter valid chemical elements within the dataset. Br and Cl are replaced with Z character. If another chemically valid element is found, we remove the whole string from the dataset."
   ]
  },
  {
   "cell_type": "code",
   "execution_count": 32,
   "id": "251368cb",
   "metadata": {},
   "outputs": [
    {
     "data": {
      "text/plain": [
       "2107759"
      ]
     },
     "execution_count": 32,
     "metadata": {},
     "output_type": "execute_result"
    }
   ],
   "source": [
    "#Check the number of SMILES strings in the dataframe\n",
    "smiles = pp_data['canonical_smiles'].tolist()\n",
    "len(smiles)"
   ]
  },
  {
   "cell_type": "code",
   "execution_count": 33,
   "id": "a9a392a1",
   "metadata": {},
   "outputs": [],
   "source": [
    "from functions import data_filtering\n",
    "\n",
    "new_smiles = data_filtering(smiles)"
   ]
  },
  {
   "cell_type": "code",
   "execution_count": 34,
   "id": "44a26963",
   "metadata": {},
   "outputs": [
    {
     "data": {
      "text/plain": [
       "2102184"
      ]
     },
     "execution_count": 34,
     "metadata": {},
     "output_type": "execute_result"
    }
   ],
   "source": [
    "len(new_smiles[0])"
   ]
  },
  {
   "cell_type": "code",
   "execution_count": 35,
   "id": "4a0d8f52",
   "metadata": {},
   "outputs": [],
   "source": [
    "filtered_data = new_smiles[0]"
   ]
  },
  {
   "cell_type": "code",
   "execution_count": 36,
   "id": "79663382",
   "metadata": {},
   "outputs": [],
   "source": [
    "deleted_elements = new_smiles[1]"
   ]
  },
  {
   "cell_type": "markdown",
   "id": "cbfd4677",
   "metadata": {},
   "source": [
    "### Visualising random structures in ChEMBL."
   ]
  },
  {
   "cell_type": "code",
   "execution_count": 37,
   "id": "d4dc0a00",
   "metadata": {},
   "outputs": [
    {
     "data": {
      "image/png": "[encoded data removed]",
      "text/plain": [
       "<rdkit.Chem.rdchem.Mol at 0x1667df58c10>"
      ]
     },
     "execution_count": 37,
     "metadata": {},
     "output_type": "execute_result"
    }
   ],
   "source": [
    "Chem.MolFromSmiles(filtered_data[0])"
   ]
  },
  {
   "cell_type": "code",
   "execution_count": 38,
   "id": "871575dc",
   "metadata": {},
   "outputs": [
    {
     "data": {
      "image/png": "[encoded data removed]",
      "text/plain": [
       "<rdkit.Chem.rdchem.Mol at 0x1667df58900>"
      ]
     },
     "execution_count": 38,
     "metadata": {},
     "output_type": "execute_result"
    }
   ],
   "source": [
    "Chem.MolFromSmiles(filtered_data[50000])"
   ]
  },
  {
   "cell_type": "code",
   "execution_count": 39,
   "id": "c361034f",
   "metadata": {},
   "outputs": [
    {
     "data": {
      "image/png": "[encoded data removed]",
      "text/plain": [
       "<rdkit.Chem.rdchem.Mol at 0x1667df58f90>"
      ]
     },
     "execution_count": 39,
     "metadata": {},
     "output_type": "execute_result"
    }
   ],
   "source": [
    "Chem.MolFromSmiles(filtered_data[2102183])"
   ]
  },
  {
   "cell_type": "markdown",
   "id": "db501cbe",
   "metadata": {},
   "source": [
    "### Creating dictionary from preprocessed data"
   ]
  },
  {
   "cell_type": "markdown",
   "id": "9eb04057",
   "metadata": {},
   "source": [
    "_adapted_data = chEMBL data with \"Z\" character._\n",
    "\n",
    "_deleted_elements = valid chemical elements that are replaced in ChEMBL by Z._"
   ]
  },
  {
   "cell_type": "markdown",
   "id": "a42f00d5",
   "metadata": {},
   "source": [
    "STEP 2: dictionaries are made to map every unique character within preprocessed ChEMBL dataset with integer. Every detected unique character is checked on chemical validity. "
   ]
  },
  {
   "cell_type": "code",
   "execution_count": 40,
   "id": "e6f7c751",
   "metadata": {},
   "outputs": [],
   "source": [
    "from functions import create_dictionary\n",
    "\n",
    "dictionaries = create_dictionary(filtered_data)\n",
    "char_to_int = dictionaries[0]\n",
    "int_to_char = dictionaries[1]"
   ]
  },
  {
   "cell_type": "code",
   "execution_count": 41,
   "id": "6697ed6a",
   "metadata": {},
   "outputs": [
    {
     "data": {
      "text/plain": [
       "{'#': 0,\n",
       " '%': 1,\n",
       " 'o': 2,\n",
       " ']': 3,\n",
       " '(': 4,\n",
       " '1': 5,\n",
       " 'S': 6,\n",
       " '[': 7,\n",
       " '+': 8,\n",
       " '4': 9,\n",
       " 'c': 10,\n",
       " 'P': 11,\n",
       " 'O': 12,\n",
       " '6': 13,\n",
       " ')': 14,\n",
       " '5': 15,\n",
       " 'N': 16,\n",
       " 'b': 17,\n",
       " '7': 18,\n",
       " 'F': 19,\n",
       " 'p': 20,\n",
       " '8': 21,\n",
       " 's': 22,\n",
       " 'K': 23,\n",
       " 'H': 24,\n",
       " '2': 25,\n",
       " '0': 26,\n",
       " 'I': 27,\n",
       " 'B': 28,\n",
       " 'C': 29,\n",
       " '=': 30,\n",
       " '-': 31,\n",
       " 'n': 32,\n",
       " '3': 33,\n",
       " '9': 34,\n",
       " 'E': 35,\n",
       " 'G': 36,\n",
       " 'Z': 37}"
      ]
     },
     "execution_count": 41,
     "metadata": {},
     "output_type": "execute_result"
    }
   ],
   "source": [
    "char_to_int"
   ]
  },
  {
   "cell_type": "code",
   "execution_count": 42,
   "id": "b7e30759",
   "metadata": {},
   "outputs": [
    {
     "data": {
      "text/plain": [
       "{0: '#',\n",
       " 1: '%',\n",
       " 2: 'o',\n",
       " 3: ']',\n",
       " 4: '(',\n",
       " 5: '1',\n",
       " 6: 'S',\n",
       " 7: '[',\n",
       " 8: '+',\n",
       " 9: '4',\n",
       " 10: 'c',\n",
       " 11: 'P',\n",
       " 12: 'O',\n",
       " 13: '6',\n",
       " 14: ')',\n",
       " 15: '5',\n",
       " 16: 'N',\n",
       " 17: 'b',\n",
       " 18: '7',\n",
       " 19: 'F',\n",
       " 20: 'p',\n",
       " 21: '8',\n",
       " 22: 's',\n",
       " 23: 'K',\n",
       " 24: 'H',\n",
       " 25: '2',\n",
       " 26: '0',\n",
       " 27: 'I',\n",
       " 28: 'B',\n",
       " 29: 'C',\n",
       " 30: '=',\n",
       " 31: '-',\n",
       " 32: 'n',\n",
       " 33: '3',\n",
       " 34: '9',\n",
       " 35: 'E',\n",
       " 36: 'G',\n",
       " 37: 'Z'}"
      ]
     },
     "execution_count": 42,
     "metadata": {},
     "output_type": "execute_result"
    }
   ],
   "source": [
    "int_to_char"
   ]
  },
  {
   "cell_type": "markdown",
   "id": "74039be1",
   "metadata": {},
   "source": [
    "###  Deviding data into subsets"
   ]
  },
  {
   "cell_type": "markdown",
   "id": "a9c62f39",
   "metadata": {},
   "source": [
    "Method is from Skinnider paper, but adapted.\n",
    "\n",
    "STEP 1: determining how many sample_sizes we want to research"
   ]
  },
  {
   "cell_type": "code",
   "execution_count": null,
   "id": "147b49da-a2e9-429b-9332-9446fbcecc97",
   "metadata": {},
   "outputs": [],
   "source": [
    "sample_sizes=[1000,2500,5000,7500,10000,20000,30000]\n",
    "sample_sizes"
   ]
  },
  {
   "cell_type": "markdown",
   "id": "74dd44fd",
   "metadata": {},
   "source": [
    "STEP 2: dictionary is created with _key_ as subset size and _value_ the subset which is randomly sampled from preprocessed ChEMBL data. "
   ]
  },
  {
   "cell_type": "code",
   "execution_count": 45,
   "id": "0a64f271",
   "metadata": {},
   "outputs": [],
   "source": [
    "from functions import subset_creation\n",
    "subset_dict=subset_creation(smiles_list=filtered_data, sample_sizes=sample_sizes)"
   ]
  },
  {
   "cell_type": "markdown",
   "id": "5c7d904c",
   "metadata": {},
   "source": [
    "### Lipinski descriptor distributions for created subset"
   ]
  },
  {
   "cell_type": "code",
   "execution_count": 47,
   "id": "8be55cde",
   "metadata": {
    "scrolled": true
   },
   "outputs": [],
   "source": [
    "from functions import visualisation_distributions\n",
    "import matplotlib.pyplot as plt\n",
    "visualisation_distributions(subset_dict, 'lipinski_distributions.png')    \n",
    "for key, value in subset_dict.items():\n",
    "    output_filename = f'subset_{key}descr.csv'\n",
    "    visualisation_distributions(data=value, output_filename=output_filename, subset_size=key)"
   ]
  },
  {
   "cell_type": "markdown",
   "id": "82c50f90",
   "metadata": {},
   "source": [
    "### One-hot encoding"
   ]
  },
  {
   "cell_type": "markdown",
   "id": "62e77a9b",
   "metadata": {},
   "source": [
    "The encoder makes a 3D Numpy array which contains 2D one-hot encoded representations of the SMILES. This representation encodes each character in one-hot representation and adds 'endchar' symbol. It then returns two arrays; one for input sequence and the other for corresponding output."
   ]
  },
  {
   "cell_type": "markdown",
   "id": "0a88bda1",
   "metadata": {},
   "source": [
    "*subsets possible = [50000, 75000, 100000, 125000, 150000, 175000, 200000, 225000]*"
   ]
  },
  {
   "cell_type": "code",
   "execution_count": 48,
   "id": "95e57632",
   "metadata": {},
   "outputs": [],
   "source": [
    "from functions import encoder\n",
    "\n",
    "#define which subset you want to train with\n",
    "subset = 1000\n",
    "\n",
    "#generate arrays for training\n",
    "X, Y = encoder(data=subset_dict[subset]['canonical_smiles'], encode=char_to_int)\n",
    "\n",
    "X, Y = shuffle(X, Y) #shuffled for randomization"
   ]
  },
  {
   "cell_type": "markdown",
   "id": "148fb64b",
   "metadata": {},
   "source": [
    "### RNN model with LSTM cells"
   ]
  },
  {
   "cell_type": "markdown",
   "id": "4c9c539f",
   "metadata": {},
   "source": [
    "Model is built with two LSTM layers with dropout for sequence processing. Batch normalization is applied to input and intermediate layers to enhance training stability. We also use a softmax activation function in the output layer. The model structure is mimicked to be like that of the MORET PAPER."
   ]
  },
  {
   "cell_type": "code",
   "execution_count": 49,
   "id": "66f24802",
   "metadata": {},
   "outputs": [
    {
     "name": "stdout",
     "output_type": "stream",
     "text": [
      "Model: \"sequential_1\"\n",
      "_________________________________________________________________\n",
      " Layer (type)                Output Shape              Param #   \n",
      "=================================================================\n",
      " batch_normalization_2 (Batc  (None, None, 38)         152       \n",
      " hNormalization)                                                 \n",
      "                                                                 \n",
      " lstm_2 (LSTM)               (None, None, 1024)        4354048   \n",
      "                                                                 \n",
      " dropout_2 (Dropout)         (None, None, 1024)        0         \n",
      "                                                                 \n",
      " lstm_3 (LSTM)               (None, None, 256)         1311744   \n",
      "                                                                 \n",
      " dropout_3 (Dropout)         (None, None, 256)         0         \n",
      "                                                                 \n",
      " batch_normalization_3 (Batc  (None, None, 256)        1024      \n",
      " hNormalization)                                                 \n",
      "                                                                 \n",
      " dense_1 (Dense)             (None, None, 38)          9766      \n",
      "                                                                 \n",
      "=================================================================\n",
      "Total params: 5,676,734\n",
      "Trainable params: 5,676,146\n",
      "Non-trainable params: 588\n",
      "_________________________________________________________________\n",
      "None\n"
     ]
    }
   ],
   "source": [
    "from tensorflow.keras.models import Sequential, Model\n",
    "from tensorflow.keras.layers import Dense, BatchNormalization\n",
    "from tensorflow.keras.layers import Dropout\n",
    "from tensorflow.keras.layers import LSTM\n",
    "\n",
    "model = Sequential()\n",
    "\n",
    "#batch normalization for input data normalization\n",
    "model.add(BatchNormalization(input_shape=(None, X.shape[2])))\n",
    "\n",
    "model.add(LSTM(1024, return_sequences = True))\n",
    "model.add(Dropout(0.25)) #to prevent overfitting\n",
    "\n",
    "model.add(LSTM(256, return_sequences = True))\n",
    "model.add(Dropout(0.25))\n",
    "\n",
    "#normalization for regularization\n",
    "model.add(BatchNormalization())\n",
    "\n",
    "#Dense layer with softmax activation for output prediction\n",
    "model.add(Dense(Y.shape[-1], activation='softmax'))\n",
    "\n",
    "print (model.summary())"
   ]
  },
  {
   "cell_type": "markdown",
   "id": "ac86b8c0",
   "metadata": {},
   "source": [
    "We then compile model using cross-entropy as loss function with Adam optimizer with learning rate of 0.001. "
   ]
  },
  {
   "cell_type": "code",
   "execution_count": 50,
   "id": "1836aa41",
   "metadata": {},
   "outputs": [],
   "source": [
    "from tensorflow.keras.losses import categorical_crossentropy\n",
    "from tensorflow.keras.optimizers import Adam\n",
    "\n",
    "#set parameters\n",
    "learning_rate = 0.001\n",
    "\n",
    "#Adam optimizer is used as it is popular for optimizing neural networks. \n",
    "model.compile(loss=categorical_crossentropy, optimizer=Adam(learning_rate=learning_rate), metrics=['accuracy'])"
   ]
  },
  {
   "cell_type": "markdown",
   "id": "20e78898",
   "metadata": {},
   "source": [
    "We then train the model and employ Early stopping to monitor trainin loss and minimize overfitting. The training is performed for a maximum of x epochs with a batch size of 256."
   ]
  },
  {
   "cell_type": "code",
   "execution_count": 51,
   "id": "7e7a6775",
   "metadata": {},
   "outputs": [
    {
     "name": "stdout",
     "output_type": "stream",
     "text": [
      "Original X Data Set Length: 1000\n",
      "Original Y Data Set Length: 1000\n",
      "X Training Set Length: 800\n",
      "Y Training Set Length: 800\n",
      "X Validation Set Length: 200\n",
      "Y Validation Set Length: 200\n"
     ]
    }
   ],
   "source": [
    "from keras.callbacks import EarlyStopping #, ModelCheckpoint, ReduceLROnPlateau (willen we dit nog gebruiken?)\n",
    "from sklearn.model_selection import train_test_split\n",
    "\n",
    "#set parameters\n",
    "validation_fraction = 0.2\n",
    "patience = 5\n",
    "epochs = 10 #epochs in Moret is 10. 40 for transfer learning. Helena said the higher the better\n",
    "batch_size = 256\n",
    "\n",
    "\n",
    "print(f\"Original X Data Set Length: {len(X)}\")\n",
    "print(f\"Original Y Data Set Length: {len(X)}\")\n",
    "\n",
    "#split train and validation data\n",
    "X_train, X_val, Y_train, Y_val = train_test_split(X,Y, test_size=validation_fraction, random_state=42)\n",
    "\n",
    "print(f\"X Training Set Length: {len(X_train)}\")\n",
    "print(f\"Y Training Set Length: {len(Y_train)}\")\n",
    "print(f\"X Validation Set Length: {len(X_val)}\")\n",
    "print(f\"Y Validation Set Length: {len(Y_val)}\")\n",
    "\n",
    "#You monitor the loss of the model. Training will stop if validation loss does not increase for 5 epochs. \n",
    "early_stopping = EarlyStopping(monitor='val_loss', patience=patience, restore_best_weights=True, min_delta=0.01)"
   ]
  },
  {
   "cell_type": "code",
   "execution_count": 52,
   "id": "f3185f79",
   "metadata": {},
   "outputs": [
    {
     "name": "stdout",
     "output_type": "stream",
     "text": [
      "Epoch 1/10\n",
      "7/7 [==============================] - 336s 47s/step - loss: 0.6661 - accuracy: 0.0238 - val_loss: 0.4066 - val_accuracy: 0.0248\n",
      "Epoch 2/10\n",
      "7/7 [==============================] - 332s 47s/step - loss: 0.4027 - accuracy: 0.0589 - val_loss: 0.4038 - val_accuracy: 0.0273\n",
      "Epoch 3/10\n",
      "7/7 [==============================] - 330s 46s/step - loss: 0.3709 - accuracy: 0.0574 - val_loss: 0.4007 - val_accuracy: 0.0327\n",
      "Epoch 4/10\n",
      "7/7 [==============================] - 332s 47s/step - loss: 0.3608 - accuracy: 0.0524 - val_loss: 0.3962 - val_accuracy: 0.0342\n",
      "Epoch 5/10\n",
      "7/7 [==============================] - 331s 47s/step - loss: 0.3526 - accuracy: 0.0539 - val_loss: 0.3931 - val_accuracy: 0.0349\n",
      "Epoch 6/10\n",
      "7/7 [==============================] - 331s 47s/step - loss: 0.3474 - accuracy: 0.0598 - val_loss: 0.3903 - val_accuracy: 0.0373\n",
      "Epoch 7/10\n",
      "7/7 [==============================] - 331s 47s/step - loss: 0.3401 - accuracy: 0.0607 - val_loss: 0.3871 - val_accuracy: 0.0390\n",
      "Epoch 8/10\n",
      "7/7 [==============================] - 330s 46s/step - loss: 0.3374 - accuracy: 0.0596 - val_loss: 0.3795 - val_accuracy: 0.0367\n",
      "Epoch 9/10\n",
      "7/7 [==============================] - 330s 46s/step - loss: 0.3370 - accuracy: 0.0598 - val_loss: 0.3778 - val_accuracy: 0.0388\n",
      "Epoch 10/10\n",
      "7/7 [==============================] - 331s 47s/step - loss: 0.3329 - accuracy: 0.0608 - val_loss: 0.3730 - val_accuracy: 0.0371\n"
     ]
    }
   ],
   "source": [
    "#save training history\n",
    "history = model.fit(X_train, Y_train, epochs=epochs, batch_size = 128, callbacks=[early_stopping], validation_data=(X_val, Y_val))"
   ]
  },
  {
   "cell_type": "markdown",
   "id": "9738697e",
   "metadata": {},
   "source": [
    "### Plot cross-entropy loss"
   ]
  },
  {
   "cell_type": "code",
   "execution_count": 53,
   "id": "2b2e66d9",
   "metadata": {},
   "outputs": [
    {
     "data": {
      "image/png": "[encoded data removed]",
      "text/plain": [
       "<Figure size 640x480 with 1 Axes>"
      ]
     },
     "metadata": {},
     "output_type": "display_data"
    }
   ],
   "source": [
    "from matplotlib import pyplot as plt\n",
    "\n",
    "# Plotting the training loss over epochs\n",
    "plt.plot(history.history[\"loss\"], '-o', label=\"Loss\")\n",
    "plt.plot(history.history[\"val_loss\"], '-o', label=\"val_loss\")\n",
    "\n",
    "plt.xlabel('Epochs')\n",
    "plt.ylabel('Loss')\n",
    "plt.title('Training Loss Over Epochs')\n",
    "plt.legend()\n",
    "plt.show()"
   ]
  },
  {
   "cell_type": "markdown",
   "id": "bfb88a41",
   "metadata": {},
   "source": [
    "### Sampling from trained model"
   ]
  },
  {
   "cell_type": "markdown",
   "id": "61dcd66c",
   "metadata": {},
   "source": [
    "Two functions are defined. One does the temperature sampling from the predictions from the trained model. The other function is responsible for actual generating of the sampled SMILES.\n",
    "\n",
    "The decoder is used to convert a 3D numpy array of 2D one-hot encoded sequences, to a list of SMILES."
   ]
  },
  {
   "cell_type": "code",
   "execution_count": 54,
   "id": "db1b3749",
   "metadata": {},
   "outputs": [],
   "source": [
    "from functions import decoder\n",
    "#set parameters\n",
    "subset_list = subset_dict[subset]['canonical_smiles'].tolist()\n",
    "max_length = len(max(subset_list, key=len))\n",
    "\n",
    "temperature = 0.7\n",
    "num_samples = 1000\n",
    "\n",
    "def sampling(model, start_char=\"G\", max_length=50, temperature=1.0, encode=char_to_int, decode=int_to_char):\n",
    "    \"\"\"\n",
    "    Generate SMILES sequences using trained model.\n",
    "\n",
    "    Parameters:\n",
    "        model (keras.Model): The trained model for SMILES generation.\n",
    "        start_char (str): The starting character for SMILES generation.\n",
    "        max_length (int): Maximum length of the generated SMILES sequence.\n",
    "        temperature (float): Controls the randomness of sampling.\n",
    "\n",
    "    Returns:\n",
    "        numpy.ndarray: One-hot encoded array representing the generated SMILES sequence.\n",
    "    \"\"\"\n",
    "    input_sequence = np.zeros((1, 1, len(char_to_int)))\n",
    "    input_sequence[0, 0, char_to_int[start_char]] = 1\n",
    "    \n",
    "    #generate SMILES sequence in one-hot encoding format. \n",
    "    for _ in range(max_length):\n",
    "        #temperature sampling\n",
    "        predictions = model.predict(input_sequence)\n",
    "        predictions = np.log(predictions) / temperature\n",
    "        exp_predictions = np.exp(predictions)\n",
    "        normalized_predictions = exp_predictions / np.sum(exp_predictions)\n",
    "\n",
    "        #Sampling the next char using temperature sampling.\n",
    "        pred_char_index = np.random.choice(len(encode), p=normalized_predictions[0, -1, :] / np.sum(normalized_predictions[0, -1, :]))\n",
    "        pred_char = decode[pred_char_index]\n",
    "        \n",
    "        #if E is predicted, break\n",
    "        if pred_char == \"E\":\n",
    "            break\n",
    "        else:\n",
    "            #add next char to 2D array. \n",
    "            input_vector = np.zeros((1, 1, len(encode)))\n",
    "            input_vector[0, 0, encode[pred_char]] = 1\n",
    "            input_sequence = np.concatenate([input_sequence, input_vector], axis=1)\n",
    "            \n",
    "    return input_sequence\n",
    "\n",
    "\n",
    "def generate_smiles(model, num_samples=1000, max_length=50, temperature=1.0, encode=char_to_int, decode=int_to_char):\n",
    "    \"\"\"\n",
    "    Generate multiple SMILES sequences using sampling function\n",
    "\n",
    "    Parameters:\n",
    "        model (keras.Model): The trained model for SMILES generation.\n",
    "        num_samples (int): Number of SMILES sequences to generate.\n",
    "        max_length (int): Maximum length of each generated SMILES sequence.\n",
    "        temperature (float): Controls the randomness of character sampling.\n",
    "\n",
    "    Returns:\n",
    "        list: List of generated SMILES sequences.\n",
    "    \"\"\"\n",
    "    generated_sequences = []\n",
    "\n",
    "    for _ in range(num_samples):\n",
    "        #sample\n",
    "        one_hot = sampling(model, start_char=\"G\", max_length=max_length, temperature=temperature, encode=encode, decode=decode)\n",
    "        \n",
    "        #decode one-hot sequence into SMILES string\n",
    "        generated_sequence = decoder(one_hot, decode)\n",
    "        \n",
    "        #append generated SMILES string to list\n",
    "        generated_sequences.append(generated_sequence)\n",
    "        \n",
    "    return generated_sequences\n",
    "\n",
    "\n",
    "#generate list of SMILES sampled from trained model. \n",
    "x = generate_smiles(model, num_samples=1000, max_length=max_length, temperature=0.7, encode=char_to_int, decode=int_to_char)"
   ]
  },
  {
   "cell_type": "markdown",
   "id": "7b38a2d8-a12e-4d57-b8a2-d9b6f8b72ae5",
   "metadata": {},
   "source": [
    "### Saving generated SMILES and training data"
   ]
  },
  {
   "cell_type": "code",
   "execution_count": 55,
   "id": "bf853ad6",
   "metadata": {
    "collapsed": false,
    "jupyter": {
     "outputs_hidden": false
    }
   },
   "outputs": [
    {
     "name": "stdout",
     "output_type": "stream",
     "text": [
      "Data has been saved to generated_smiles_1000_10epochs.csv\n"
     ]
    }
   ],
   "source": [
    "x[0:10]\n",
    "import csv\n",
    "csv_file_path = 'generated_smiles_'+str(subset)+'_10epochs.csv'\n",
    "with open(csv_file_path, 'w', newline='') as csv_file:\n",
    "    # Create a CSV writer object\n",
    "    csv_writer = csv.writer(csv_file)\n",
    "\n",
    "    # Write the data to the CSV file\n",
    "    csv_writer.writerows(x)\n",
    "\n",
    "print(f'Data has been saved to {csv_file_path}')"
   ]
  },
  {
   "cell_type": "code",
   "execution_count": 56,
   "id": "526820fd",
   "metadata": {
    "collapsed": false,
    "jupyter": {
     "outputs_hidden": false
    }
   },
   "outputs": [
    {
     "name": "stdout",
     "output_type": "stream",
     "text": [
      "                                          canonical_smiles\n",
      "1692743  COc1ccccc1NN=C(c1cc(OC)c(OC)c(OC)c1)c1nc(-c2cc...\n",
      "110268                           CCc1ccccc1Nc1cc(O)nc(O)n1\n",
      "732180   Cc1oc(-c2ccc(C(=O)NCCN(C)C)cc2)nc1CS(=O)(=O)c1...\n",
      "1570006  CCOC(=O)C1=C(C)OC(N)=C(C#N)C1c1ccc(OCc2ccc(C)c...\n",
      "2003274                 COc1cc(NC(=O)N(C)C(C)Cc2ccsc2)ncn1\n",
      "...                                                    ...\n",
      "1324070  COCCNc1cc(-c2nccc3c(-n4cnc(-c5cnn(C)c5)c4)cccc...\n",
      "1658987                  Fc1cccc(Nc2nnc(-c3cccc(Z)c3)s2)c1\n",
      "1548459          CC(C)c1ccc2c(c1)C(c1ccc(Z)cc1)C(C(=O)O)O2\n",
      "1593445  CCOC(=O)C1CSC(c2ccccc2)N1C(=O)c1cn(CCc2ccc(F)c...\n",
      "1661793    COc1cc(N)c(Z)cc1C(=O)OCCN1CCC(CNC(=O)CC(C)C)CC1\n",
      "\n",
      "[1000 rows x 1 columns]\n"
     ]
    }
   ],
   "source": [
    "# Extract the second subset (2500) from the dictionary\n",
    "subset_1000 = subset_dict[1000]\n",
    "\n",
    "# Print the subset (optional, can be skipped if it's large)\n",
    "print(subset_1000)\n",
    "\n",
    "# Save the subset to a CSV file\n",
    "subset_1000.to_csv(\"traing_subset_1000.csv\", index=False)\n"
   ]
  },
  {
   "cell_type": "code",
   "execution_count": null,
   "id": "169a8ee8-d2e7-4236-9c9c-40beba1342c0",
   "metadata": {},
   "outputs": [],
   "source": []
  }
 ],
 "metadata": {
  "kernelspec": {
   "display_name": "Python 3 (ipykernel)",
   "language": "python",
   "name": "python3"
  },
  "language_info": {
   "codemirror_mode": {
    "name": "ipython",
    "version": 3
   },
   "file_extension": ".py",
   "mimetype": "text/x-python",
   "name": "python",
   "nbconvert_exporter": "python",
   "pygments_lexer": "ipython3",
   "version": "3.8.18"
  }
 },
 "nbformat": 4,
 "nbformat_minor": 5
}
