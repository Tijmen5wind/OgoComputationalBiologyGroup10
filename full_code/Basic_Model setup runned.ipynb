{
 "cells": [
  {
   "cell_type": "markdown",
   "id": "e9d8669c",
   "metadata": {},
   "source": [
    "# MODEL CODE - UNIDIRECTIONAL RNN WITH LSTM CELLS"
   ]
  },
  {
   "cell_type": "markdown",
   "id": "42381c6a",
   "metadata": {},
   "source": [
    "### Removing unwanted data"
   ]
  },
  {
   "cell_type": "markdown",
   "id": "6c1b2bd6",
   "metadata": {},
   "source": [
    "SECTION BELOW IS DONE BY HELENA AND DOES NOT NEED TO BE RUN."
   ]
  },
  {
   "cell_type": "code",
   "execution_count": null,
   "id": "51677ceb",
   "metadata": {},
   "outputs": [],
   "source": [
    "def remove_unwanted_data(filename_in='', filename_out='',  invalid=True, duplicates=True, salts=True, stereochem=True, canonicalize=True):\n",
    "    \"\"\"Pre-processing of SMILES based on the user-defined parameters\n",
    "            :param filename_in     path to the file containing the SMILES to pretreat (SMILES only) -- default = ChEMBL\n",
    "            :param filename_out    path for file export -- default = ../data/\n",
    "            :param invalid         if True (default), removes invalid SMILES\n",
    "            :param duplicates      if True (default), removes duplicates\n",
    "            :param salts           if True (default), removes salts\n",
    "            :param stereochem      if True (default), removes stereochemistry\n",
    "            :param canonicalize    if True (default), produces canonical SMILES\n",
    "    \"\"\"\n",
    "\n",
    "    from preprocessor import Preprocessor\n",
    "    p = Preprocessor(filename_in)\n",
    "\n",
    "    print(Fore.GREEN + 'Pre-processing of \"' + filename_in + '\" started.')\n",
    "\n",
    "\n",
    "    # user-defined pretreatment\n",
    "    if invalid:\n",
    "        p.remove_not_valid()\n",
    "        print(Fore.GREEN + ' invalid SMILES - removed.')\n",
    "        print(Style.RESET_ALL)\n",
    "\n",
    "    if duplicates:\n",
    "        p.remove_duplicates()\n",
    "        print(Fore.GREEN + ' duplicate SMILES - removed.')\n",
    "        print(Style.RESET_ALL)\n",
    "\n",
    "    if salts:\n",
    "        p.remove_salts()\n",
    "        print(Fore.GREEN + ' salts - removed.')\n",
    "        print(Style.RESET_ALL)\n",
    "\n",
    "    if stereochem:\n",
    "        p.remove_stereochem()\n",
    "        print(Fore.GREEN + ' stereochemistry - removed.')\n",
    "        print(Style.RESET_ALL)\n",
    "\n",
    "    if canonicalize:\n",
    "        p.canonicalize()\n",
    "        print(Fore.GREEN + ' canonicalized SMILES.')\n",
    "        print(Style.RESET_ALL)\n",
    "\n",
    "    #save data to file\n",
    "    p.save_data(filename_out)\n",
    "\n",
    "    data = p.get_data()\n",
    "    print(data[:5])\n",
    "\n",
    "\n",
    "#remove_unwanted_data(filename_in='ChEMBL', filename_out='preprocessed_data.csv')\n",
    "#data_no_descriptors=pd.read_csv('preprocessed_data.csv')"
   ]
  },
  {
   "cell_type": "markdown",
   "id": "b231a6d1",
   "metadata": {},
   "source": [
    "### Importing packages "
   ]
  },
  {
   "cell_type": "code",
   "execution_count": 1,
   "id": "d5a0eef6",
   "metadata": {},
   "outputs": [],
   "source": [
    "import numpy as np\n",
    "import pandas as pd\n",
    "import tensorflow as tf\n",
    "\n",
    "from rdkit import Chem\n",
    "from rdkit.Chem import Descriptors\n",
    "\n",
    "import os\n",
    "\n",
    "from collections import OrderedDict\n",
    "from itertools import chain\n",
    "from sklearn.utils import shuffle\n",
    "\n",
    "\n",
    "from colorama import Fore, Style\n",
    "import matplotlib.pyplot as plt\n",
    "import seaborn as sns"
   ]
  },
  {
   "cell_type": "markdown",
   "id": "11d81f02",
   "metadata": {},
   "source": [
    "### Loading in preprocessed data & removing salts"
   ]
  },
  {
   "cell_type": "markdown",
   "id": "f46d3737",
   "metadata": {},
   "source": [
    "STEP 1: This section of code loads in the seperate preprocessed data sections and makes one panda dataframe. "
   ]
  },
  {
   "cell_type": "code",
   "execution_count": 2,
   "id": "c01fe7ae",
   "metadata": {},
   "outputs": [],
   "source": [
    "csv_directory = 'D:\\School\\OGO Computational Biology\\Data'\n",
    "\n",
    "csv_files = [file for file in os.listdir(csv_directory) if file.endswith('.csv')]\n",
    "\n",
    "dataframes = []\n",
    "\n",
    "for csv_file in csv_files:\n",
    "    file_path = os.path.join(csv_directory, csv_file)\n",
    "    df = pd.read_csv(file_path, header=None)\n",
    "    dataframes.append(df)\n",
    "\n",
    "pp_data = pd.concat(dataframes, ignore_index=True)\n",
    "pp_data.columns = ['canonical_smiles']\n",
    "pp_data.drop_duplicates(subset='canonical_smiles', inplace=True) #removing duplicate SMILES. (as it was not done by Helena, due to error)"
   ]
  },
  {
   "cell_type": "code",
   "execution_count": 3,
   "id": "325176e7",
   "metadata": {},
   "outputs": [
    {
     "name": "stdout",
     "output_type": "stream",
     "text": [
      "                                          canonical_smiles\n",
      "0                             Cc1cc(-c2csc(N=C(N)N)n2)cn1C\n",
      "1        CCC(C)C(NC(=O)C(CC(C)C)NC(=O)C(NC(=O)C(N)CCSC)...\n",
      "2        CCCCC1NC(=O)C(NC(=O)C(CC(C)C)NC(=O)C(NC(=O)C(C...\n",
      "3        CC(C)CC1NC(=O)CNC(=O)C(c2ccc(O)cc2)NC(=O)C(C(C...\n",
      "4                   Brc1cccc(Nc2ncnc3ccncc23)c1NCCN1CCOCC1\n",
      "...                                                    ...\n",
      "2299991           O=S(=O)(CCC(F)(F)F)N1C2CCC1CC(n1cccn1)C2\n",
      "2299992            CCOCC(=O)N1CCC(C(=O)N2CC(c3nccs3)C2)CC1\n",
      "2299993  Cc1ccccc1CN1C(=O)c2ccccc2Sc2ccc(C(=O)NCCN3CCOC...\n",
      "2299994  COc1cccc(N2CCN(C(=O)C3C4C=CC5(CN(Cc6ccccc6Cl)C...\n",
      "2299995     Cc1ccc(S(=O)(=O)Cn2nnnc2CN2CCCC3(CCCCC3)C2)cc1\n",
      "\n",
      "[2107759 rows x 1 columns]\n"
     ]
    }
   ],
   "source": [
    "print(pp_data) #when you want to iterate through SMILES recall as pp_data[\"canonical_smiles\"]"
   ]
  },
  {
   "cell_type": "markdown",
   "id": "25e7d489",
   "metadata": {},
   "source": [
    "STEP 2: We search for all two letter valid chemical elements within the dataset. Br and Cl are replaced with Z character. If another chemically valid element is found, we remove the whole string from the dataset."
   ]
  },
  {
   "cell_type": "code",
   "execution_count": 4,
   "id": "251368cb",
   "metadata": {},
   "outputs": [
    {
     "data": {
      "text/plain": [
       "2107759"
      ]
     },
     "execution_count": 4,
     "metadata": {},
     "output_type": "execute_result"
    }
   ],
   "source": [
    "smiles = pp_data['canonical_smiles'].tolist()\n",
    "len(smiles)"
   ]
  },
  {
   "cell_type": "code",
   "execution_count": 5,
   "id": "a9a392a1",
   "metadata": {},
   "outputs": [],
   "source": [
    "from functions import data_filtering\n",
    "\n",
    "new_smiles = data_filtering(smiles)"
   ]
  },
  {
   "cell_type": "code",
   "execution_count": 6,
   "id": "44a26963",
   "metadata": {},
   "outputs": [
    {
     "data": {
      "text/plain": [
       "2102184"
      ]
     },
     "execution_count": 6,
     "metadata": {},
     "output_type": "execute_result"
    }
   ],
   "source": [
    "len(new_smiles[0])"
   ]
  },
  {
   "cell_type": "code",
   "execution_count": 7,
   "id": "4a0d8f52",
   "metadata": {},
   "outputs": [],
   "source": [
    "filtered_data = new_smiles[0]"
   ]
  },
  {
   "cell_type": "code",
   "execution_count": 8,
   "id": "79663382",
   "metadata": {},
   "outputs": [],
   "source": [
    "deleted_elements = new_smiles[1]"
   ]
  },
  {
   "cell_type": "markdown",
   "id": "cbfd4677",
   "metadata": {},
   "source": [
    "### Visualising random structures in ChEMBL."
   ]
  },
  {
   "cell_type": "code",
   "execution_count": 9,
   "id": "d4dc0a00",
   "metadata": {},
   "outputs": [
    {
     "data": {
      "image/png": "[encoded data removed]",
      "text/plain": [
       "<rdkit.Chem.rdchem.Mol at 0x2480e349cf0>"
      ]
     },
     "execution_count": 9,
     "metadata": {},
     "output_type": "execute_result"
    }
   ],
   "source": [
    "Chem.MolFromSmiles(filtered_data[0])"
   ]
  },
  {
   "cell_type": "code",
   "execution_count": 10,
   "id": "871575dc",
   "metadata": {},
   "outputs": [
    {
     "data": {
      "image/png": "[encoded data removed]",
      "text/plain": [
       "<rdkit.Chem.rdchem.Mol at 0x2480e349e40>"
      ]
     },
     "execution_count": 10,
     "metadata": {},
     "output_type": "execute_result"
    }
   ],
   "source": [
    "Chem.MolFromSmiles(filtered_data[50000])"
   ]
  },
  {
   "cell_type": "code",
   "execution_count": 11,
   "id": "c361034f",
   "metadata": {},
   "outputs": [
    {
     "data": {
      "image/png": "[encoded data removed]",
      "text/plain": [
       "<rdkit.Chem.rdchem.Mol at 0x2480e349eb0>"
      ]
     },
     "execution_count": 11,
     "metadata": {},
     "output_type": "execute_result"
    }
   ],
   "source": [
    "Chem.MolFromSmiles(filtered_data[2102183])"
   ]
  },
  {
   "cell_type": "markdown",
   "id": "db501cbe",
   "metadata": {},
   "source": [
    "### Creating dictionary from preprocessed data"
   ]
  },
  {
   "cell_type": "markdown",
   "id": "9eb04057",
   "metadata": {},
   "source": [
    "_adapted_data = chEMBL data with \"Z\" character._\n",
    "\n",
    "_deleted_elements = valid chemical elements that are replaced in ChEMBL by Z._"
   ]
  },
  {
   "cell_type": "markdown",
   "id": "a42f00d5",
   "metadata": {},
   "source": [
    "STEP 2: dictionaries are made to map every unique character within preprocessed ChEMBL dataset with integer. Every detected unique character is checked on chemical validity. "
   ]
  },
  {
   "cell_type": "code",
   "execution_count": 12,
   "id": "e6f7c751",
   "metadata": {},
   "outputs": [],
   "source": [
    "from functions import create_dictionary\n",
    "\n",
    "dictionaries = create_dictionary(filtered_data)\n",
    "char_to_int = dictionaries[0]\n",
    "int_to_char = dictionaries[1]"
   ]
  },
  {
   "cell_type": "code",
   "execution_count": 13,
   "id": "6697ed6a",
   "metadata": {},
   "outputs": [
    {
     "data": {
      "text/plain": [
       "{'S': 0,\n",
       " '7': 1,\n",
       " ']': 2,\n",
       " '(': 3,\n",
       " '2': 4,\n",
       " '5': 5,\n",
       " '3': 6,\n",
       " 'c': 7,\n",
       " '-': 8,\n",
       " 'b': 9,\n",
       " 'I': 10,\n",
       " 'P': 11,\n",
       " 'K': 12,\n",
       " 's': 13,\n",
       " '1': 14,\n",
       " 'C': 15,\n",
       " '+': 16,\n",
       " ')': 17,\n",
       " '#': 18,\n",
       " '=': 19,\n",
       " 'p': 20,\n",
       " '6': 21,\n",
       " 'o': 22,\n",
       " '[': 23,\n",
       " '4': 24,\n",
       " 'O': 25,\n",
       " 'H': 26,\n",
       " 'B': 27,\n",
       " '0': 28,\n",
       " '9': 29,\n",
       " 'n': 30,\n",
       " 'N': 31,\n",
       " '%': 32,\n",
       " '8': 33,\n",
       " 'F': 34,\n",
       " 'E': 35,\n",
       " 'G': 36,\n",
       " 'Z': 37}"
      ]
     },
     "execution_count": 13,
     "metadata": {},
     "output_type": "execute_result"
    }
   ],
   "source": [
    "char_to_int"
   ]
  },
  {
   "cell_type": "code",
   "execution_count": 14,
   "id": "b7e30759",
   "metadata": {},
   "outputs": [
    {
     "data": {
      "text/plain": [
       "{0: 'S',\n",
       " 1: '7',\n",
       " 2: ']',\n",
       " 3: '(',\n",
       " 4: '2',\n",
       " 5: '5',\n",
       " 6: '3',\n",
       " 7: 'c',\n",
       " 8: '-',\n",
       " 9: 'b',\n",
       " 10: 'I',\n",
       " 11: 'P',\n",
       " 12: 'K',\n",
       " 13: 's',\n",
       " 14: '1',\n",
       " 15: 'C',\n",
       " 16: '+',\n",
       " 17: ')',\n",
       " 18: '#',\n",
       " 19: '=',\n",
       " 20: 'p',\n",
       " 21: '6',\n",
       " 22: 'o',\n",
       " 23: '[',\n",
       " 24: '4',\n",
       " 25: 'O',\n",
       " 26: 'H',\n",
       " 27: 'B',\n",
       " 28: '0',\n",
       " 29: '9',\n",
       " 30: 'n',\n",
       " 31: 'N',\n",
       " 32: '%',\n",
       " 33: '8',\n",
       " 34: 'F',\n",
       " 35: 'E',\n",
       " 36: 'G',\n",
       " 37: 'Z'}"
      ]
     },
     "execution_count": 14,
     "metadata": {},
     "output_type": "execute_result"
    }
   ],
   "source": [
    "int_to_char"
   ]
  },
  {
   "cell_type": "markdown",
   "id": "74039be1",
   "metadata": {},
   "source": [
    "###  Deviding data into subsets"
   ]
  },
  {
   "cell_type": "markdown",
   "id": "a9c62f39",
   "metadata": {},
   "source": [
    "Method is from Skinnider paper, but adapted.\n",
    "\n",
    "STEP 1: determining how many sample_sizes we want to research"
   ]
  },
  {
   "cell_type": "code",
   "execution_count": 15,
   "id": "c59a26e8",
   "metadata": {},
   "outputs": [],
   "source": [
    "from functions import subset_splitting\n",
    "sample_sizes= subset_splitting(filtered_data, num_subsets=6, step_size=25000)"
   ]
  },
  {
   "cell_type": "code",
   "execution_count": 16,
   "id": "c431a20a",
   "metadata": {},
   "outputs": [
    {
     "data": {
      "text/plain": [
       "[50000, 75000, 100000, 125000, 150000, 175000]"
      ]
     },
     "execution_count": 16,
     "metadata": {},
     "output_type": "execute_result"
    }
   ],
   "source": [
    "sample_sizes"
   ]
  },
  {
   "cell_type": "markdown",
   "id": "74dd44fd",
   "metadata": {},
   "source": [
    "STEP 2: dictionary is created with _key_ as subset size and _value_ the subset which is randomly sampled from preprocessed ChEMBL data. "
   ]
  },
  {
   "cell_type": "code",
   "execution_count": 17,
   "id": "0a64f271",
   "metadata": {},
   "outputs": [],
   "source": [
    "from functions import subset_creation\n",
    "subset_dict=subset_creation(smiles_list=filtered_data, sample_sizes=sample_sizes)"
   ]
  },
  {
   "cell_type": "markdown",
   "id": "5c7d904c",
   "metadata": {},
   "source": [
    "### Lipinski descriptor distributions for created subset"
   ]
  },
  {
   "cell_type": "code",
   "execution_count": 18,
   "id": "8be55cde",
   "metadata": {},
   "outputs": [],
   "source": [
    "#from functions import visualisation_distributions\n",
    "\n",
    "#loop over dictionary and visualize all subsets. \n",
    "#for key,value in subset_dict.items():\n",
    "#    output_filename = 'subset_'+str(key)+'descr.csv'\n",
    "#    visualisation_distributions(data=value, output_filename=output_filename)"
   ]
  },
  {
   "cell_type": "markdown",
   "id": "82c50f90",
   "metadata": {},
   "source": [
    "### One-hot encoding"
   ]
  },
  {
   "cell_type": "markdown",
   "id": "62e77a9b",
   "metadata": {},
   "source": [
    "The encoder makes a 3D Numpy array which contains 2D one-hot encoded representations of the SMILES. This representation encodes each character in one-hot representation and adds 'endchar' symbol. It then returns two arrays; one for input sequence and the other for corresponding output."
   ]
  },
  {
   "cell_type": "markdown",
   "id": "0a88bda1",
   "metadata": {},
   "source": [
    "*subsets possible = [50000, 75000, 100000, 125000, 150000, 175000, 200000, 225000]*"
   ]
  },
  {
   "cell_type": "code",
   "execution_count": 19,
   "id": "95e57632",
   "metadata": {},
   "outputs": [],
   "source": [
    "from functions import encoder\n",
    "\n",
    "#define which subset you want to train with\n",
    "subset = 50000\n",
    "\n",
    "#generate arrays for training\n",
    "X, Y = encoder(data=subset_dict[subset]['canonical_smiles'], encode=char_to_int)\n",
    "\n",
    "X, Y = shuffle(X, Y) #shuffled for randomization"
   ]
  },
  {
   "cell_type": "markdown",
   "id": "148fb64b",
   "metadata": {},
   "source": [
    "### RNN model with LSTM cells"
   ]
  },
  {
   "cell_type": "markdown",
   "id": "4c9c539f",
   "metadata": {},
   "source": [
    "Model is built with two LSTM layers with dropout for sequence processing. Batch normalization is applied to input and intermediate layers to enhance training stability. We also use a softmax activation function in the output layer. The model structure is mimicked to be like that of the MORET PAPER."
   ]
  },
  {
   "cell_type": "code",
   "execution_count": 20,
   "id": "66f24802",
   "metadata": {},
   "outputs": [
    {
     "name": "stdout",
     "output_type": "stream",
     "text": [
      "Model: \"sequential\"\n",
      "_________________________________________________________________\n",
      " Layer (type)                Output Shape              Param #   \n",
      "=================================================================\n",
      " batch_normalization (BatchN  (None, None, 38)         152       \n",
      " ormalization)                                                   \n",
      "                                                                 \n",
      " lstm (LSTM)                 (None, None, 1024)        4354048   \n",
      "                                                                 \n",
      " dropout (Dropout)           (None, None, 1024)        0         \n",
      "                                                                 \n",
      " lstm_1 (LSTM)               (None, None, 256)         1311744   \n",
      "                                                                 \n",
      " dropout_1 (Dropout)         (None, None, 256)         0         \n",
      "                                                                 \n",
      " batch_normalization_1 (Batc  (None, None, 256)        1024      \n",
      " hNormalization)                                                 \n",
      "                                                                 \n",
      " dense (Dense)               (None, None, 38)          9766      \n",
      "                                                                 \n",
      "=================================================================\n",
      "Total params: 5,676,734\n",
      "Trainable params: 5,676,146\n",
      "Non-trainable params: 588\n",
      "_________________________________________________________________\n",
      "None\n"
     ]
    }
   ],
   "source": [
    "from tensorflow.keras.models import Sequential, Model\n",
    "from tensorflow.keras.layers import Dense, BatchNormalization\n",
    "from tensorflow.keras.layers import Dropout\n",
    "from tensorflow.keras.layers import LSTM\n",
    "\n",
    "model = Sequential()\n",
    "\n",
    "#batch normalization for input data normalization\n",
    "model.add(BatchNormalization(input_shape=(None, X.shape[2])))\n",
    "\n",
    "model.add(LSTM(1024, return_sequences = True))\n",
    "model.add(Dropout(0.25)) #to prevent overfitting\n",
    "\n",
    "model.add(LSTM(256, return_sequences = True))\n",
    "model.add(Dropout(0.25))\n",
    "\n",
    "#normalization for regularization\n",
    "model.add(BatchNormalization())\n",
    "\n",
    "#Dense layer with softmax activation for output prediction\n",
    "model.add(Dense(Y.shape[-1], activation='softmax'))\n",
    "\n",
    "print (model.summary())"
   ]
  },
  {
   "cell_type": "markdown",
   "id": "ac86b8c0",
   "metadata": {},
   "source": [
    "We then compile model using cross-entropy as loss function with Adam optimizer with learning rate of 0.001. "
   ]
  },
  {
   "cell_type": "code",
   "execution_count": 21,
   "id": "1836aa41",
   "metadata": {},
   "outputs": [],
   "source": [
    "from tensorflow.keras.losses import categorical_crossentropy\n",
    "from tensorflow.keras.optimizers import Adam\n",
    "\n",
    "#set parameters\n",
    "learning_rate = 0.001\n",
    "\n",
    "#Adam optimizer is used as it is popular for optimizing neural networks. \n",
    "model.compile(loss=categorical_crossentropy, optimizer=Adam(learning_rate=learning_rate), metrics=['accuracy'])"
   ]
  },
  {
   "cell_type": "markdown",
   "id": "20e78898",
   "metadata": {},
   "source": [
    "We then train the model and employ Early stopping to monitor trainin loss and minimize overfitting. The training is performed for a maximum of x epochs with a batch size of 256."
   ]
  },
  {
   "cell_type": "code",
   "execution_count": 22,
   "id": "7e7a6775",
   "metadata": {},
   "outputs": [
    {
     "name": "stdout",
     "output_type": "stream",
     "text": [
      "Original X Data Set Length: 50000\n",
      "Original Y Data Set Length: 50000\n",
      "X Training Set Length: 40000\n",
      "Y Training Set Length: 40000\n",
      "X Validation Set Length: 10000\n",
      "Y Validation Set Length: 10000\n"
     ]
    }
   ],
   "source": [
    "from keras.callbacks import EarlyStopping #, ModelCheckpoint, ReduceLROnPlateau (willen we dit nog gebruiken?)\n",
    "from sklearn.model_selection import train_test_split\n",
    "\n",
    "#set parameters\n",
    "validation_fraction = 0.2\n",
    "patience = 5\n",
    "epochs = 5 #epochs in Moret is 10. 40 for transfer learning. Helena said the higher the better\n",
    "batch_size = 256\n",
    "\n",
    "\n",
    "print(f\"Original X Data Set Length: {len(X)}\")\n",
    "print(f\"Original Y Data Set Length: {len(X)}\")\n",
    "\n",
    "#split train and validation data\n",
    "X_train, X_val, Y_train, Y_val = train_test_split(X,Y, test_size=validation_fraction, random_state=42)\n",
    "\n",
    "print(f\"X Training Set Length: {len(X_train)}\")\n",
    "print(f\"Y Training Set Length: {len(Y_train)}\")\n",
    "print(f\"X Validation Set Length: {len(X_val)}\")\n",
    "print(f\"Y Validation Set Length: {len(Y_val)}\")\n",
    "\n",
    "#You monitor the loss of the model. Training will stop if validation loss does not increase for 5 epochs. \n",
    "early_stopping = EarlyStopping(monitor='val_loss', patience=patience, restore_best_weights=True, min_delta=0.01)"
   ]
  },
  {
   "cell_type": "code",
   "execution_count": 23,
   "id": "f3185f79",
   "metadata": {},
   "outputs": [
    {
     "name": "stdout",
     "output_type": "stream",
     "text": [
      "Epoch 1/5\n",
      "400/400 [==============================] - 58407s 146s/step - loss: 0.2536 - accuracy: 0.0113 - val_loss: 0.1366 - val_accuracy: 0.0221\n",
      "Epoch 2/5\n",
      "400/400 [==============================] - 77145s 193s/step - loss: 0.4906 - accuracy: 0.0047 - val_loss: 0.1449 - val_accuracy: 0.0191\n",
      "Epoch 3/5\n",
      "400/400 [==============================] - 79572s 199s/step - loss: 0.7431 - accuracy: 0.0037 - val_loss: 0.1843 - val_accuracy: 0.0175\n",
      "Epoch 4/5\n",
      "400/400 [==============================] - 80280s 201s/step - loss: 0.9720 - accuracy: 0.0047 - val_loss: 0.2220 - val_accuracy: 0.0136\n",
      "Epoch 5/5\n",
      "400/400 [==============================] - 80892s 202s/step - loss: 1.1865 - accuracy: 0.0063 - val_loss: 0.2969 - val_accuracy: 6.0606e-06\n"
     ]
    }
   ],
   "source": [
    "#save training history\n",
    "history = model.fit(X_train, Y_train, epochs=epochs, batch_size = 100, callbacks=[early_stopping], validation_data=(X_val, Y_val))"
   ]
  },
  {
   "cell_type": "markdown",
   "id": "9738697e",
   "metadata": {},
   "source": [
    "### Plot cross-entropy loss"
   ]
  },
  {
   "cell_type": "code",
   "execution_count": 24,
   "id": "2b2e66d9",
   "metadata": {},
   "outputs": [
    {
     "data": {
      "image/png": "[encoded data removed]",
      "text/plain": [
       "<Figure size 640x480 with 1 Axes>"
      ]
     },
     "metadata": {},
     "output_type": "display_data"
    }
   ],
   "source": [
    "from matplotlib import pyplot as plt\n",
    "\n",
    "# Plotting the training loss over epochs\n",
    "plt.plot(history.history[\"loss\"], '-o', label=\"Loss\")\n",
    "plt.plot(history.history[\"val_loss\"], '-o', label=\"val_loss\")\n",
    "\n",
    "plt.xlabel('Epochs')\n",
    "plt.ylabel('Loss')\n",
    "plt.title('Training Loss Over Epochs')\n",
    "plt.legend()\n",
    "plt.show()"
   ]
  },
  {
   "cell_type": "markdown",
   "id": "bfb88a41",
   "metadata": {},
   "source": [
    "### Sampling from trained model"
   ]
  },
  {
   "cell_type": "markdown",
   "id": "61dcd66c",
   "metadata": {},
   "source": [
    "Two functions are defined. One does the temperature sampling from the predictions from the trained model. The other function is responsible for actual generating of the sampled SMILES.\n",
    "\n",
    "The decoder is used to convert a 3D numpy array of 2D one-hot encoded sequences, to a list of SMILES."
   ]
  },
  {
   "cell_type": "code",
   "execution_count": 25,
   "id": "db1b3749",
   "metadata": {},
   "outputs": [],
   "source": [
    "from functions import decoder\n",
    "#set parameters\n",
    "subset_list = subset_dict[subset]['canonical_smiles'].tolist()\n",
    "max_length = len(max(subset_list, key=len))\n",
    "\n",
    "temperature = 0.7\n",
    "num_samples = 10000\n",
    "\n",
    "def sampling(model, start_char=\"G\", max_length=50, temperature=1.0, encode=char_to_int, decode=int_to_char):\n",
    "    \"\"\"\n",
    "    Generate SMILES sequences using trained model.\n",
    "\n",
    "    Parameters:\n",
    "        model (keras.Model): The trained model for SMILES generation.\n",
    "        start_char (str): The starting character for SMILES generation.\n",
    "        max_length (int): Maximum length of the generated SMILES sequence.\n",
    "        temperature (float): Controls the randomness of sampling.\n",
    "\n",
    "    Returns:\n",
    "        numpy.ndarray: One-hot encoded array representing the generated SMILES sequence.\n",
    "    \"\"\"\n",
    "    input_sequence = np.zeros((1, 1, len(char_to_int)))\n",
    "    input_sequence[0, 0, char_to_int[start_char]] = 1\n",
    "    \n",
    "    #generate SMILES sequence in one-hot encoding format. \n",
    "    for _ in range(max_length):\n",
    "        #temperature sampling\n",
    "        predictions = model.predict(input_sequence)\n",
    "        predictions = np.log(predictions) / temperature\n",
    "        exp_predictions = np.exp(predictions)\n",
    "        normalized_predictions = exp_predictions / np.sum(exp_predictions)\n",
    "\n",
    "        #Sampling the next char using temperature sampling.\n",
    "        pred_char_index = np.random.choice(len(encode), p=normalized_predictions[0, -1, :] / np.sum(normalized_predictions[0, -1, :]))\n",
    "        pred_char = decode[pred_char_index]\n",
    "        \n",
    "        #if E is predicted, break\n",
    "        if pred_char == \"E\":\n",
    "            break\n",
    "        else:\n",
    "            #add next char to 2D array. \n",
    "            input_vector = np.zeros((1, 1, len(encode)))\n",
    "            input_vector[0, 0, encode[pred_char]] = 1\n",
    "            input_sequence = np.concatenate([input_sequence, input_vector], axis=1)\n",
    "            \n",
    "    return input_sequence\n",
    "\n",
    "\n",
    "def generate_smiles(model, num_samples=1000, max_length=50, temperature=1.0, encode=char_to_int, decode=int_to_char):\n",
    "    \"\"\"\n",
    "    Generate multiple SMILES sequences using sampling function\n",
    "\n",
    "    Parameters:\n",
    "        model (keras.Model): The trained model for SMILES generation.\n",
    "        num_samples (int): Number of SMILES sequences to generate.\n",
    "        max_length (int): Maximum length of each generated SMILES sequence.\n",
    "        temperature (float): Controls the randomness of character sampling.\n",
    "\n",
    "    Returns:\n",
    "        list: List of generated SMILES sequences.\n",
    "    \"\"\"\n",
    "    generated_sequences = []\n",
    "\n",
    "    for _ in range(num_samples):\n",
    "        #sample\n",
    "        one_hot = sampling(model, start_char=\"G\", max_length=max_length, temperature=temperature, encode=encode, decode=decode)\n",
    "        \n",
    "        #decode one-hot sequence into SMILES string\n",
    "        generated_sequence = decoder(one_hot, decode)\n",
    "        \n",
    "        #append generated SMILES string to list\n",
    "        generated_sequences.append(generated_sequence)\n",
    "        \n",
    "    return generated_sequences\n",
    "\n",
    "\n",
    "#generate list of SMILES sampled from trained model. \n",
    "x = generate_smiles(model, num_samples=50, max_length=30, temperature=0.7, encode=char_to_int, decode=int_to_char)"
   ]
  }
 ],
 "metadata": {
  "kernelspec": {
   "display_name": "Python 3 (ipykernel)",
   "language": "python",
   "name": "python3"
  },
  "language_info": {
   "codemirror_mode": {
    "name": "ipython",
    "version": 3
   },
   "file_extension": ".py",
   "mimetype": "text/x-python",
   "name": "python",
   "nbconvert_exporter": "python",
   "pygments_lexer": "ipython3",
   "version": "3.8.18"
  }
 },
 "nbformat": 4,
 "nbformat_minor": 5
}
