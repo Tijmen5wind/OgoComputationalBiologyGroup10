{
 "cells": [
  {
   "cell_type": "markdown",
   "id": "e9d8669c",
   "metadata": {},
   "source": [
    "# MODEL CODE - UNIDIRECTIONAL RNN WITH LSTM CELLS"
   ]
  },
  {
   "cell_type": "markdown",
   "id": "42381c6a",
   "metadata": {},
   "source": [
    "### Removing unwanted data"
   ]
  },
  {
   "cell_type": "markdown",
   "id": "6c1b2bd6",
   "metadata": {},
   "source": [
    "SECTION BELOW IS DONE BY HELENA AND DOES NOT NEED TO BE RUN."
   ]
  },
  {
   "cell_type": "code",
   "execution_count": null,
   "id": "51677ceb",
   "metadata": {},
   "outputs": [],
   "source": [
    "def remove_unwanted_data(filename_in='', filename_out='',  invalid=True, duplicates=True, salts=True, stereochem=True, canonicalize=True):\n",
    "    \"\"\"Pre-processing of SMILES based on the user-defined parameters\n",
    "            :param filename_in     path to the file containing the SMILES to pretreat (SMILES only) -- default = ChEMBL\n",
    "            :param filename_out    path for file export -- default = ../data/\n",
    "            :param invalid         if True (default), removes invalid SMILES\n",
    "            :param duplicates      if True (default), removes duplicates\n",
    "            :param salts           if True (default), removes salts\n",
    "            :param stereochem      if True (default), removes stereochemistry\n",
    "            :param canonicalize    if True (default), produces canonical SMILES\n",
    "    \"\"\"\n",
    "\n",
    "    from preprocessor import Preprocessor\n",
    "    p = Preprocessor(filename_in)\n",
    "\n",
    "    print(Fore.GREEN + 'Pre-processing of \"' + filename_in + '\" started.')\n",
    "\n",
    "\n",
    "    # user-defined pretreatment\n",
    "    if invalid:\n",
    "        p.remove_not_valid()\n",
    "        print(Fore.GREEN + ' invalid SMILES - removed.')\n",
    "        print(Style.RESET_ALL)\n",
    "\n",
    "    if duplicates:\n",
    "        p.remove_duplicates()\n",
    "        print(Fore.GREEN + ' duplicate SMILES - removed.')\n",
    "        print(Style.RESET_ALL)\n",
    "\n",
    "    if salts:\n",
    "        p.remove_salts()\n",
    "        print(Fore.GREEN + ' salts - removed.')\n",
    "        print(Style.RESET_ALL)\n",
    "\n",
    "    if stereochem:\n",
    "        p.remove_stereochem()\n",
    "        print(Fore.GREEN + ' stereochemistry - removed.')\n",
    "        print(Style.RESET_ALL)\n",
    "\n",
    "    if canonicalize:\n",
    "        p.canonicalize()\n",
    "        print(Fore.GREEN + ' canonicalized SMILES.')\n",
    "        print(Style.RESET_ALL)\n",
    "\n",
    "    #save data to file\n",
    "    p.save_data(filename_out)\n",
    "\n",
    "    data = p.get_data()\n",
    "    print(data[:5])\n",
    "\n",
    "\n",
    "#remove_unwanted_data(filename_in='ChEMBL', filename_out='preprocessed_data.csv')\n",
    "#data_no_descriptors=pd.read_csv('preprocessed_data.csv')"
   ]
  },
  {
   "cell_type": "markdown",
   "id": "b231a6d1",
   "metadata": {},
   "source": [
    "### Importing packages "
   ]
  },
  {
   "cell_type": "code",
   "execution_count": 1,
   "id": "d5a0eef6",
   "metadata": {},
   "outputs": [],
   "source": [
    "import numpy as np\n",
    "from collections import OrderedDict\n",
    "from itertools import chain\n",
    "from rdkit import Chem\n",
    "from sklearn.utils import shuffle\n",
    "import tensorflow as tf\n",
    "import pandas as pd\n",
    "import re\n",
    "from colorama import Fore, Style\n",
    "from rdkit import Chem\n",
    "from rdkit.Chem import Descriptors\n",
    "import pandas as pd\n",
    "import matplotlib.pyplot as plt\n",
    "import seaborn as sns\n",
    "import os\n",
    "from Elements import elements, lc_elements"
   ]
  },
  {
   "cell_type": "markdown",
   "id": "11d81f02",
   "metadata": {},
   "source": [
    "### Loading in preprocessed data"
   ]
  },
  {
   "cell_type": "markdown",
   "id": "f46d3737",
   "metadata": {},
   "source": [
    "This section of code loads in the seperate preprocessed data sections and makes one panda dataframe. "
   ]
  },
  {
   "cell_type": "code",
   "execution_count": 2,
   "id": "c01fe7ae",
   "metadata": {},
   "outputs": [],
   "source": [
    "csv_directory = 'C:/Users/20192032/OneDrive - TU Eindhoven/Documents/GitHub/OgoComputationalBiologyGroup10/full_code/preprocessed_data'\n",
    "\n",
    "csv_files = [file for file in os.listdir(csv_directory) if file.endswith('.csv')]\n",
    "\n",
    "dataframes = []\n",
    "\n",
    "for csv_file in csv_files:\n",
    "    file_path = os.path.join(csv_directory, csv_file)\n",
    "    df = pd.read_csv(file_path, header=None)\n",
    "    dataframes.append(df)\n",
    "\n",
    "pp_data = pd.concat(dataframes, ignore_index=True)\n",
    "pp_data.columns = ['canonical_smiles']\n",
    "pp_data.drop_duplicates(subset='canonical_smiles', inplace=True) #removing duplicate SMILES. (as it was not done by Helena, due to error)"
   ]
  },
  {
   "cell_type": "code",
   "execution_count": 3,
   "id": "325176e7",
   "metadata": {},
   "outputs": [
    {
     "name": "stdout",
     "output_type": "stream",
     "text": [
      "                                          canonical_smiles\n",
      "0                             Cc1cc(-c2csc(N=C(N)N)n2)cn1C\n",
      "1        CCC(C)C(NC(=O)C(CC(C)C)NC(=O)C(NC(=O)C(N)CCSC)...\n",
      "2        CCCCC1NC(=O)C(NC(=O)C(CC(C)C)NC(=O)C(NC(=O)C(C...\n",
      "3        CC(C)CC1NC(=O)CNC(=O)C(c2ccc(O)cc2)NC(=O)C(C(C...\n",
      "4                   Brc1cccc(Nc2ncnc3ccncc23)c1NCCN1CCOCC1\n",
      "...                                                    ...\n",
      "2299991           O=S(=O)(CCC(F)(F)F)N1C2CCC1CC(n1cccn1)C2\n",
      "2299992            CCOCC(=O)N1CCC(C(=O)N2CC(c3nccs3)C2)CC1\n",
      "2299993  Cc1ccccc1CN1C(=O)c2ccccc2Sc2ccc(C(=O)NCCN3CCOC...\n",
      "2299994  COc1cccc(N2CCN(C(=O)C3C4C=CC5(CN(Cc6ccccc6Cl)C...\n",
      "2299995     Cc1ccc(S(=O)(=O)Cn2nnnc2CN2CCCC3(CCCCC3)C2)cc1\n",
      "\n",
      "[2107759 rows x 1 columns]\n"
     ]
    }
   ],
   "source": [
    "print(pp_data) #when you want to iterate through SMILES recall as pp_data[\"canonical_smiles\"]"
   ]
  },
  {
   "cell_type": "markdown",
   "id": "cbfd4677",
   "metadata": {},
   "source": [
    "### Visualising random structures in ChEMBL."
   ]
  },
  {
   "cell_type": "code",
   "execution_count": 4,
   "id": "d4dc0a00",
   "metadata": {},
   "outputs": [
    {
     "data": {
      "image/png": "[encoded data removed]",
      "text/plain": [
       "<rdkit.Chem.rdchem.Mol at 0x2864cc4a530>"
      ]
     },
     "execution_count": 4,
     "metadata": {},
     "output_type": "execute_result"
    }
   ],
   "source": [
    "Chem.MolFromSmiles(pp_data['canonical_smiles'].iloc[0])"
   ]
  },
  {
   "cell_type": "code",
   "execution_count": 5,
   "id": "871575dc",
   "metadata": {},
   "outputs": [
    {
     "data": {
      "image/png": "[encoded data removed]",
      "text/plain": [
       "<rdkit.Chem.rdchem.Mol at 0x2864cc4ab20>"
      ]
     },
     "execution_count": 5,
     "metadata": {},
     "output_type": "execute_result"
    }
   ],
   "source": [
    "Chem.MolFromSmiles(pp_data['canonical_smiles'].iloc[60000])"
   ]
  },
  {
   "cell_type": "code",
   "execution_count": 6,
   "id": "c361034f",
   "metadata": {},
   "outputs": [
    {
     "data": {
      "image/png": "[encoded data removed]",
      "text/plain": [
       "<rdkit.Chem.rdchem.Mol at 0x2864cc4ad00>"
      ]
     },
     "execution_count": 6,
     "metadata": {},
     "output_type": "execute_result"
    }
   ],
   "source": [
    "Chem.MolFromSmiles(pp_data['canonical_smiles'].iloc[230000])"
   ]
  },
  {
   "cell_type": "markdown",
   "id": "db501cbe",
   "metadata": {},
   "source": [
    "### Creating dictionary from preprocessed data"
   ]
  },
  {
   "cell_type": "markdown",
   "id": "c825f5d7",
   "metadata": {},
   "source": [
    "In this part a dictionary is made that maps each unique character to an unique integer. "
   ]
  },
  {
   "cell_type": "code",
   "execution_count": 16,
   "id": "e6f7c751",
   "metadata": {},
   "outputs": [],
   "source": [
    "def create_dictionary(smiles_dataset):\n",
    "    \"\"\"\n",
    "    Create dictionaries for tokenizing SMILES strings.\n",
    "\n",
    "    This function takes a dataset of SMILES strings and creates dictionaries\n",
    "    for tokenizing the strings into integer sequences. It extracts symbols, one-letter\n",
    "    and two-letter chemical element tokens from the SMILES strings, checks if they are chemically valid\n",
    "    and assigns unique integer indices to each token.\n",
    "\n",
    "    Parameters:\n",
    "    - smiles_dataset (list): A list of SMILES strings.\n",
    "\n",
    "    Returns:\n",
    "    tuple: A tuple of dictionaries.\n",
    "        - char_to_int (dict): A dictionary mapping characters to integer indices.\n",
    "        - int_to_char (dict): A dictionary mapping integer indices to characters.\n",
    "    \n",
    "    imports from Elements module:\n",
    "    - `elements`: list of chemical valid two-letter chemical elements.\n",
    "    - `lc_elements`: list of one-letter chemical elements (both lower and uppercase) and valid SMILES symbols. \n",
    "    \"\"\"\n",
    "    one_letter_tokens = set()\n",
    "    two_letter_tokens = set()\n",
    "    \n",
    "    pattern_one = re.compile('[A-Za-z0-9%\\-+=#\\(\\)\\[\\]]')\n",
    "    pattern_two = re.compile('[A-Z][a-z]')\n",
    "\n",
    "    for smiles in smiles_dataset:\n",
    "        matches_one = pattern_one.findall(smiles)\n",
    "        matches_two = pattern_two.findall(smiles)\n",
    "\n",
    "        one_letter_tokens.update(matches_one)\n",
    "        two_letter_tokens.update(matches_two)\n",
    "    \n",
    "    two_letter_tokens = two_letter_tokens.intersection(elements) #removes all tokens not found in elements\n",
    "    #one_letter_tokens = one_letter_tokens.intersection(lc_elements) #removes all tokens not found in lc_elements\n",
    "    \n",
    "    unique_char = one_letter_tokens | two_letter_tokens #combining sets to one set.\n",
    "    \n",
    "    char_list = list(unique_char)\n",
    "    \n",
    "    char_to_int = {char: index for index, char in enumerate(char_list)}\n",
    "    int_to_char = {index: char for index, char in enumerate(char_list)}\n",
    "    \n",
    "    char_to_int.update({\"E\" : len(char_to_int)}) #adding End character\n",
    "    char_to_int.update({\"G\" : len(char_to_int)}) #adding starting character\n",
    "    \n",
    "    int_to_char.update({len(int_to_char) : \"E\"})\n",
    "    int_to_char.update({len(int_to_char) : \"G\"})\n",
    "    \n",
    "    return char_to_int, int_to_char\n",
    "\n",
    "smiles_list = pp_data['canonical_smiles'].tolist()\n",
    "dictionaries = create_dictionary(smiles_list)\n",
    "char_to_int = dictionaries[0]\n",
    "int_to_char = dictionaries[1]"
   ]
  },
  {
   "cell_type": "code",
   "execution_count": 17,
   "id": "6697ed6a",
   "metadata": {},
   "outputs": [
    {
     "data": {
      "text/plain": [
       "{'Rb': 0,\n",
       " 'M': 1,\n",
       " 'Kr': 2,\n",
       " '%': 3,\n",
       " 'o': 4,\n",
       " '#': 5,\n",
       " '0': 6,\n",
       " 'e': 7,\n",
       " 't': 8,\n",
       " 'g': 9,\n",
       " 'r': 10,\n",
       " 'B': 11,\n",
       " 'p': 12,\n",
       " 'L': 13,\n",
       " 'T': 14,\n",
       " 'Ba': 15,\n",
       " '8': 16,\n",
       " 'R': 17,\n",
       " 'I': 18,\n",
       " 'Al': 19,\n",
       " 'Te': 20,\n",
       " 'Si': 21,\n",
       " '-': 22,\n",
       " 'Ra': 23,\n",
       " 'Sn': 24,\n",
       " '2': 25,\n",
       " 'a': 26,\n",
       " ')': 27,\n",
       " '1': 28,\n",
       " 'A': 29,\n",
       " '+': 30,\n",
       " 'Zn': 31,\n",
       " '7': 32,\n",
       " '4': 33,\n",
       " 'S': 34,\n",
       " 'Z': 35,\n",
       " 's': 36,\n",
       " 'Ag': 37,\n",
       " 'Xe': 38,\n",
       " 'Na': 39,\n",
       " 'Sc': 40,\n",
       " 'F': 41,\n",
       " 'Cs': 42,\n",
       " 'Mg': 43,\n",
       " 'c': 44,\n",
       " 'n': 45,\n",
       " ']': 46,\n",
       " 'At': 47,\n",
       " 'H': 48,\n",
       " 'b': 49,\n",
       " 'Br': 50,\n",
       " '(': 51,\n",
       " '=': 52,\n",
       " 'l': 53,\n",
       " 'C': 54,\n",
       " 'X': 55,\n",
       " '9': 56,\n",
       " 'Cl': 57,\n",
       " 'He': 58,\n",
       " '5': 59,\n",
       " 'Sr': 60,\n",
       " 'Se': 61,\n",
       " 'K': 62,\n",
       " 'i': 63,\n",
       " 'P': 64,\n",
       " 'O': 65,\n",
       " '6': 66,\n",
       " 'As': 67,\n",
       " 'N': 68,\n",
       " '[': 69,\n",
       " '3': 70,\n",
       " 'Ca': 71,\n",
       " 'Li': 72,\n",
       " 'E': 73,\n",
       " 'G': 74}"
      ]
     },
     "execution_count": 17,
     "metadata": {},
     "output_type": "execute_result"
    }
   ],
   "source": [
    "char_to_int"
   ]
  },
  {
   "cell_type": "code",
   "execution_count": 18,
   "id": "b7e30759",
   "metadata": {},
   "outputs": [
    {
     "data": {
      "text/plain": [
       "{0: 'Rb',\n",
       " 1: 'M',\n",
       " 2: 'Kr',\n",
       " 3: '%',\n",
       " 4: 'o',\n",
       " 5: '#',\n",
       " 6: '0',\n",
       " 7: 'e',\n",
       " 8: 't',\n",
       " 9: 'g',\n",
       " 10: 'r',\n",
       " 11: 'B',\n",
       " 12: 'p',\n",
       " 13: 'L',\n",
       " 14: 'T',\n",
       " 15: 'Ba',\n",
       " 16: '8',\n",
       " 17: 'R',\n",
       " 18: 'I',\n",
       " 19: 'Al',\n",
       " 20: 'Te',\n",
       " 21: 'Si',\n",
       " 22: '-',\n",
       " 23: 'Ra',\n",
       " 24: 'Sn',\n",
       " 25: '2',\n",
       " 26: 'a',\n",
       " 27: ')',\n",
       " 28: '1',\n",
       " 29: 'A',\n",
       " 30: '+',\n",
       " 31: 'Zn',\n",
       " 32: '7',\n",
       " 33: '4',\n",
       " 34: 'S',\n",
       " 35: 'Z',\n",
       " 36: 's',\n",
       " 37: 'Ag',\n",
       " 38: 'Xe',\n",
       " 39: 'Na',\n",
       " 40: 'Sc',\n",
       " 41: 'F',\n",
       " 42: 'Cs',\n",
       " 43: 'Mg',\n",
       " 44: 'c',\n",
       " 45: 'n',\n",
       " 46: ']',\n",
       " 47: 'At',\n",
       " 48: 'H',\n",
       " 49: 'b',\n",
       " 50: 'Br',\n",
       " 51: '(',\n",
       " 52: '=',\n",
       " 53: 'l',\n",
       " 54: 'C',\n",
       " 55: 'X',\n",
       " 56: '9',\n",
       " 57: 'Cl',\n",
       " 58: 'He',\n",
       " 59: '5',\n",
       " 60: 'Sr',\n",
       " 61: 'Se',\n",
       " 62: 'K',\n",
       " 63: 'i',\n",
       " 64: 'P',\n",
       " 65: 'O',\n",
       " 66: '6',\n",
       " 67: 'As',\n",
       " 68: 'N',\n",
       " 69: '[',\n",
       " 70: '3',\n",
       " 71: 'Ca',\n",
       " 72: 'Li',\n",
       " 73: 'E',\n",
       " 74: 'G'}"
      ]
     },
     "execution_count": 18,
     "metadata": {},
     "output_type": "execute_result"
    }
   ],
   "source": [
    "int_to_char"
   ]
  },
  {
   "cell_type": "markdown",
   "id": "74039be1",
   "metadata": {},
   "source": [
    "###  Deviding data into subsets"
   ]
  },
  {
   "cell_type": "markdown",
   "id": "a9c62f39",
   "metadata": {},
   "source": [
    "Method is from Skinnider paper, but adapted."
   ]
  },
  {
   "cell_type": "code",
   "execution_count": 10,
   "id": "c59a26e8",
   "metadata": {},
   "outputs": [],
   "source": [
    "def subset_splitting(datafile, num_subsets=6, step_size=25000):\n",
    "    \"\"\"\n",
    "    Generate subset sizes for splitting a dataset into multiple subsets.\n",
    "\n",
    "    This function calculates a list of subset sizes for splitting a dataset\n",
    "    into a specified number of subsets with increasing sample sizes. The sample\n",
    "    sizes are determined based on an initial size (50000) plus multiples of a\n",
    "    specified step size. The function excludes subset sizes that exceed the\n",
    "    total size of the dataset.\n",
    "\n",
    "    Parameters:\n",
    "    - datafile (list or array-like): The dataset to be split.\n",
    "    - num_subsets (int, optional): The number of subsets to generate. Default is 6.\n",
    "    - step_size (int, optional): The step size to increment the sample sizes. Default is 25000.\n",
    "\n",
    "    Returns:\n",
    "    list: A list of subset sizes.\n",
    "    \"\"\"\n",
    "    sample_sizes = [50000 + (i * step_size) for i in range(num_subsets)]\n",
    "    sample_sizes = [size for size in sample_sizes if size < len(datafile)]\n",
    "    return sample_sizes\n",
    "\n",
    "sample_sizes= subset_splitting(pp_data, num_subsets=6, step_size=25000)"
   ]
  },
  {
   "cell_type": "code",
   "execution_count": 11,
   "id": "0a64f271",
   "metadata": {},
   "outputs": [
    {
     "data": {
      "text/plain": [
       "[50000, 75000, 100000, 125000, 150000, 175000]"
      ]
     },
     "execution_count": 11,
     "metadata": {},
     "output_type": "execute_result"
    }
   ],
   "source": [
    "sample_sizes"
   ]
  },
  {
   "cell_type": "code",
   "execution_count": 12,
   "id": "0477e2f7",
   "metadata": {},
   "outputs": [],
   "source": [
    "def subset_creation(datafile, sample_sizes):\n",
    "    \"\"\"\n",
    "    Create subsets of a dataset with specified sample sizes.\n",
    "\n",
    "    This function generates subsets of a given dataset by randomly sampling\n",
    "    data points with replacement. The sample sizes are provided as a list,\n",
    "    and subsets are created for each specified group size. The function returns\n",
    "    a dictionary where the keys are the group sizes, and the values are the\n",
    "    corresponding subsets.\n",
    "\n",
    "    Parameters:\n",
    "    - datafile (DataFrame or array-like): The dataset from which to create subsets.\n",
    "    - sample_sizes (list): A list of integers specifying the sample sizes for each subset.\n",
    "\n",
    "    Returns:\n",
    "    dict: A dictionary where keys are group sizes, and values are corresponding subsets.\n",
    "    \"\"\"\n",
    "    subsets = {}  # Dictionary to store subsets with group size as key\n",
    "    for groupsize in sample_sizes:\n",
    "        subgroup = datafile.sample(groupsize, replace=True, random_state=42)\n",
    "        subsets[groupsize] = subgroup\n",
    "    return subsets\n",
    "\n",
    "subset_dict=subset_creation(pp_data,sample_sizes)"
   ]
  },
  {
   "cell_type": "code",
   "execution_count": 13,
   "id": "5abacd52",
   "metadata": {},
   "outputs": [],
   "source": [
    "#hier identificeer je welke groep jij je model mee wilt trainen and sla je op in variable subset\n",
    "subset = subset_dict[50000]"
   ]
  },
  {
   "cell_type": "markdown",
   "id": "5c7d904c",
   "metadata": {},
   "source": [
    "### Lipinski descriptor distributions for created subset"
   ]
  },
  {
   "cell_type": "code",
   "execution_count": null,
   "id": "8be55cde",
   "metadata": {},
   "outputs": [],
   "source": [
    "# Function to calculate Lipinski descriptors\n",
    "def lipinski_descriptors(smiles):\n",
    "    \"\"\"\n",
    "    Calculate Lipinski descriptors for a molecule represented by its SMILES notation.\n",
    "\n",
    "    Lipinski descriptors are a set of rules used in drug discovery to evaluate the drug-likeness\n",
    "    of a molecule. This function takes a SMILES representation of a molecule, computes specific\n",
    "    descriptors, and returns them as a dictionary.\n",
    "\n",
    "    Parameters:\n",
    "    - smiles (str): The SMILES notation of the molecule.\n",
    "\n",
    "    Returns:\n",
    "    dict: A dictionary containing Lipinski descriptors.\n",
    "        - 'Hydrogen Bond Donors': Number of hydrogen bond donors.\n",
    "        - 'Hydrogen Bond Acceptors': Number of hydrogen bond acceptors.\n",
    "        - 'Molecular Weight': Molecular weight of the molecule.\n",
    "        - 'LogP': The logarithm of the partition coefficient between octanol and water.\n",
    "    \"\"\"\n",
    "    mol = Chem.MolFromSmiles(smiles)\n",
    "    hbd = Descriptors.NumHDonors(mol)\n",
    "    hba = Descriptors.NumHAcceptors(mol)\n",
    "    mw = Descriptors.MolWt(mol)\n",
    "    logp = Descriptors.MolLogP(mol)\n",
    "    return {'Hydrogen Bond Donors': hbd, 'Hydrogen Bond Acceptors': hba, 'Molecular Weight': mw, 'LogP': logp}\n",
    "\n",
    "def visualisation_distributions(data, output_filename):\n",
    "    \"\"\"\n",
    "    Visualize density distributions of Lipinski descriptors and save the results to a CSV file.\n",
    "\n",
    "    This function calculates Lipinski descriptors for each molecule in the provided dataset,\n",
    "    creates a DataFrame with the descriptors, and visualizes the density distributions of the descriptors.\n",
    "    The resulting plots are saved to a file, and the DataFrame with descriptors is saved to a CSV file.\n",
    "\n",
    "    Parameters:\n",
    "    - data (DataFrame): The input dataset containing the 'canonical_smiles' column.\n",
    "    - output_filename (str): The filename for saving the visualizations and the DataFrame with descriptors.\n",
    "\n",
    "    Returns:\n",
    "    None\n",
    "\n",
    "    Example:\n",
    "    ```python\n",
    "    data_example = pd.DataFrame({'canonical_smiles': ['CCO', 'CCC', 'CCCC'],\n",
    "                                 'other_column': [1, 2, 3]})\n",
    "    visualisation_distributions(data_example, 'lipinski_distributions.csv')\n",
    "    ```\n",
    "    Output:\n",
    "    - Saved visualizations in the current directory.\n",
    "    - Saved DataFrame with descriptors as 'lipinski_distributions.csv'.\n",
    "    \"\"\"\n",
    "    descriptor_list = []\n",
    "    for smiles in data['canonical_smiles']:\n",
    "        descriptor_list.append(lipinski_descriptors(smiles))\n",
    "    dataframe = pd.DataFrame(descriptor_list)\n",
    "    data = data.reset_index(drop=True)\n",
    "    dataframe = dataframe.reset_index(drop=True)\n",
    "    data_with_descriptors = pd.concat([data, dataframe], axis=1)\n",
    "    \n",
    "    descriptor_columns = list(data_with_descriptors.columns)[1:]\n",
    "    plt.figure(figsize=(15, 8))\n",
    "    plt.suptitle('Density Distributions of Lipinski Descriptors', fontsize=16, fontweight='bold')\n",
    "    for i, descriptor in enumerate(descriptor_columns, 1):\n",
    "        plt.subplot(2, 2, i)\n",
    "        sns.kdeplot(data_with_descriptors[descriptor], fill=True, color=f'C{i}', lw=2)\n",
    "        plt.xlabel(descriptor)\n",
    "        plt.ylabel('Density')\n",
    "    \n",
    "    data_with_descriptors.to_csv(output_filename, index=False)\n",
    "\n",
    "output_filename = 'subset_50000_descr.csv'\n",
    "visualisation_distributions(subset, output_filename)"
   ]
  },
  {
   "cell_type": "markdown",
   "id": "82c50f90",
   "metadata": {},
   "source": [
    "### One-hot encoding"
   ]
  },
  {
   "cell_type": "markdown",
   "id": "62e77a9b",
   "metadata": {},
   "source": [
    "The encoder makes a 3D Numpy array which contains 2D one-hot encoded representations of the SMILES. This representation encodes each character in one-hot representation and adds 'endchar' symbol. It then returns two arrays; one for input sequence and the other for corresponding output.\n",
    "\n",
    "The decoder is used to convert a 3D numpy array of 2D one-hot encoded sequences, to a list of SMILES."
   ]
  },
  {
   "cell_type": "code",
   "execution_count": 14,
   "id": "937e33b2",
   "metadata": {},
   "outputs": [],
   "source": [
    "def encoder(data, char_to_int, max_seq):\n",
    "    \"\"\"\n",
    "    Encodes SMILES sequences into one-hot encoding.\n",
    "\n",
    "    Parameters:\n",
    "        data (numpy.ndarray): Array containing SMILES sequences.\n",
    "        char_to_int (dict): Mapping from characters to integer indices.\n",
    "        max_seq (int): Length of the longest sequence in the dataset for padding.\n",
    "\n",
    "    Returns:\n",
    "        tuple: Tuple containing input and output one-hot encoded arrays.\n",
    "    \"\"\"\n",
    "    #3D array to store one-hot encoded sequences\n",
    "    one_hot =  np.zeros((data.shape[0], embed+2, len(char_to_int)),dtype=np.int8) #embedded+2 to account for begin and end characters\n",
    "    \n",
    "    #loop through each SMILES sequence in data set and convert.\n",
    "    for i,smile in enumerate(data):\n",
    "        one_hot[i,0,char_to_int[\"G\"]] = 1\n",
    "        for j,c in enumerate(smile):\n",
    "            one_hot[i,j+1,char_to_int[c]] = 1\n",
    "        one_hot[i,len(smile)+1,char_to_int[\"E\"]] = 1\n",
    "        \n",
    "    #return input+output arrays\n",
    "    return one_hot[:,0:-1,:], one_hot[:,1:,:]\n",
    "\n",
    "def decoder(array_data, int_to_char):\n",
    "    \"\"\"\n",
    "    Decodes one-hot encoded sequences into SMILES strings.\n",
    "\n",
    "    Parameters:\n",
    "        array_data (numpy.ndarray): 3D array with 2D one-hot encoded array to be decoded.\n",
    "        int_to_char (dict): Mapping from integer indices to characters.\n",
    "\n",
    "    Returns:\n",
    "        list: list of decoded SMILES strings.\n",
    "    \"\"\"\n",
    "    gen_mol = []\n",
    "    \n",
    "    #iterates through each sequence in one-hot encoded array\n",
    "    for i in range(array_data.shape[0]):\n",
    "        decoded_seq = \"\"\n",
    "        for j in range(array_data.shape[1]):\n",
    "            char_index = np.argmax(array_data[i, j, :])\n",
    "            decoded_char = int_to_char[char_index]\n",
    "            \n",
    "            #append char to decoded_seq untill it is end char.\n",
    "            if decoded_char != \"E\":\n",
    "                decoded_seq += decoded_char\n",
    "            else:\n",
    "                break\n",
    "    \n",
    "    #append the fully decoded sequence to the list\n",
    "    gen_mol.append(decoded_seq)\n",
    "    \n",
    "    return gen_mol"
   ]
  },
  {
   "cell_type": "markdown",
   "id": "9b4186d6",
   "metadata": {},
   "source": [
    "*VRAAG VOOR HELENA: IK KAN DICTIONARY WEL AANMAKEN DAT HET REKENING HOUDT MET TWO LETTER CHEMICAL ELEMENTS, MAAR HOE MOET IK DIT DOEN TIJDENS ONE-HOT ENCODING?*"
   ]
  },
  {
   "cell_type": "code",
   "execution_count": 20,
   "id": "95e57632",
   "metadata": {},
   "outputs": [],
   "source": [
    "#set parameters\n",
    "embed = max([len(seq) for seq in subset['canonical_smiles']])\n",
    "\n",
    "#X: contains all characters except last of sequences & Y: contains all characters except first of sequences\n",
    "X, Y = encoder(subset['canonical_smiles'], dictionaries[0], embed) \n",
    "X, Y = shuffle(X, Y) #shuffled for randomization"
   ]
  },
  {
   "cell_type": "markdown",
   "id": "148fb64b",
   "metadata": {},
   "source": [
    "### RNN model with LSTM cells"
   ]
  },
  {
   "cell_type": "markdown",
   "id": "4c9c539f",
   "metadata": {},
   "source": [
    "Model is built with two LSTM layers with dropout for sequence processing. Batch normalization is applied to input and intermediate layers to enhance training stability. We also use a softmax activation function in the output layer. The model structure is mimicked to be like that of the MORET PAPER."
   ]
  },
  {
   "cell_type": "code",
   "execution_count": 21,
   "id": "66f24802",
   "metadata": {},
   "outputs": [
    {
     "name": "stdout",
     "output_type": "stream",
     "text": [
      "Model: \"sequential\"\n",
      "_________________________________________________________________\n",
      "Layer (type)                 Output Shape              Param #   \n",
      "=================================================================\n",
      "batch_normalization (BatchNo (None, None, 75)          300       \n",
      "_________________________________________________________________\n",
      "lstm (LSTM)                  (None, None, 1024)        4505600   \n",
      "_________________________________________________________________\n",
      "dropout (Dropout)            (None, None, 1024)        0         \n",
      "_________________________________________________________________\n",
      "lstm_1 (LSTM)                (None, None, 256)         1311744   \n",
      "_________________________________________________________________\n",
      "dropout_1 (Dropout)          (None, None, 256)         0         \n",
      "_________________________________________________________________\n",
      "batch_normalization_1 (Batch (None, None, 256)         1024      \n",
      "_________________________________________________________________\n",
      "dense (Dense)                (None, None, 75)          19275     \n",
      "=================================================================\n",
      "Total params: 5,837,943\n",
      "Trainable params: 5,837,281\n",
      "Non-trainable params: 662\n",
      "_________________________________________________________________\n",
      "None\n"
     ]
    }
   ],
   "source": [
    "from tensorflow.keras.models import Sequential, Model\n",
    "from tensorflow.keras.layers import Dense, BatchNormalization\n",
    "from tensorflow.keras.layers import Dropout\n",
    "from tensorflow.keras.layers import LSTM\n",
    "\n",
    "model = Sequential()\n",
    "\n",
    "#batch normalization for input data normalization\n",
    "model.add(BatchNormalization(input_shape=(None, X.shape[2])))\n",
    "\n",
    "model.add(LSTM(1024, return_sequences = True))\n",
    "model.add(Dropout(0.25)) #to prevent overfitting\n",
    "\n",
    "model.add(LSTM(256, return_sequences = True))\n",
    "model.add(Dropout(0.25))\n",
    "\n",
    "#normalization for regularization\n",
    "model.add(BatchNormalization())\n",
    "\n",
    "#Dense layer with softmax activation for output prediction\n",
    "model.add(Dense(Y.shape[-1], activation='softmax'))\n",
    "\n",
    "print (model.summary())"
   ]
  },
  {
   "cell_type": "markdown",
   "id": "ac86b8c0",
   "metadata": {},
   "source": [
    "We then compile model using cross-entropy as loss function with Adam optimizer with learning rate of 0.001. "
   ]
  },
  {
   "cell_type": "code",
   "execution_count": 22,
   "id": "1836aa41",
   "metadata": {},
   "outputs": [],
   "source": [
    "from tensorflow.keras.losses import categorical_crossentropy\n",
    "from tensorflow.keras.optimizers import Adam\n",
    "\n",
    "#set parameters\n",
    "learning_rate = 0.001\n",
    "\n",
    "#Adam optimizer is used as it is popular for optimizing neural networks. \n",
    "model.compile(loss=categorical_crossentropy, optimizer=Adam(learning_rate=learning_rate), metrics=['accuracy'])"
   ]
  },
  {
   "cell_type": "markdown",
   "id": "20e78898",
   "metadata": {},
   "source": [
    "We then train the model and employ Early stopping to monitor trainin loss and minimize overfitting. The training is performed for a maximum of x epochs with a batch size of 256."
   ]
  },
  {
   "cell_type": "code",
   "execution_count": null,
   "id": "7e7a6775",
   "metadata": {},
   "outputs": [],
   "source": [
    "from keras.callbacks import EarlyStopping #, ModelCheckpoint, ReduceLROnPlateau (willen we dit nog gebruiken?)\n",
    "from sklearn.model_selection import train_test_split\n",
    "\n",
    "#set parameters\n",
    "validation_fraction = 0.2\n",
    "patience = 5\n",
    "epochs = 5 #epochs in Moret is 10. 40 for transfer learning. Helena said the higher the better\n",
    "batch_size = 256\n",
    "\n",
    "\n",
    "print(f\"Original X Data Set Length: {len(X)}\")\n",
    "print(f\"Original Y Data Set Length: {len(X)}\")\n",
    "\n",
    "#split train and validation data\n",
    "X_train, X_val, Y_train, Y_val = train_test_split(X,Y, test_size=validation_fraction, random_state=42)\n",
    "\n",
    "print(f\"X Training Set Length: {len(X_train)}\")\n",
    "print(f\"Y Training Set Length: {len(Y_train)}\")\n",
    "print(f\"X Validation Set Length: {len(X_val)}\")\n",
    "print(f\"Y Validation Set Length: {len(Y_val)}\")\n",
    "\n",
    "#You monitor the loss of the model. Training will stop if validation loss does not increase for 5 epochs. \n",
    "early_stopping = EarlyStopping(monitor='val_loss', patience=patience, restore_best_weights=True, min_delta=0.01)"
   ]
  },
  {
   "cell_type": "code",
   "execution_count": null,
   "id": "f3185f79",
   "metadata": {},
   "outputs": [],
   "source": [
    "#save training history\n",
    "history = model.fit(X_train, Y_train, epochs=epochs, batch_size = 256, callbacks=[early_stopping], validation_data=(X_val, Y_val))"
   ]
  },
  {
   "cell_type": "markdown",
   "id": "9738697e",
   "metadata": {},
   "source": [
    "### Plot cross-entropy loss"
   ]
  },
  {
   "cell_type": "code",
   "execution_count": null,
   "id": "2b2e66d9",
   "metadata": {},
   "outputs": [],
   "source": [
    "from matplotlib import pyplot as plt\n",
    "\n",
    "# Plotting the training loss over epochs\n",
    "plt.plot(history.history[\"loss\"], '-o', label=\"Loss\")\n",
    "plt.plot(history.history[\"val_loss\"], '-o', label=\"val_loss\")\n",
    "\n",
    "plt.xlabel('Epochs')\n",
    "plt.ylabel('Loss')\n",
    "plt.title('Training Loss Over Epochs')\n",
    "plt.legend()\n",
    "plt.show()"
   ]
  },
  {
   "cell_type": "markdown",
   "id": "bfb88a41",
   "metadata": {},
   "source": [
    "### Sampling from trained model"
   ]
  },
  {
   "cell_type": "markdown",
   "id": "61dcd66c",
   "metadata": {},
   "source": [
    "Two functions are defined. One does the temperature sampling from the predictions from the trained model. The other function is responsible for actual generating of the sampled SMILES."
   ]
  },
  {
   "cell_type": "code",
   "execution_count": null,
   "id": "db1b3749",
   "metadata": {},
   "outputs": [],
   "source": [
    "#set parameters\n",
    "max_length = embed\n",
    "temperature = 0.7\n",
    "num_samples = 10000\n",
    "\n",
    "\n",
    "def sampling(model, start_char=\"G\", max_length=50, temperature=1.0):\n",
    "    \"\"\"\n",
    "    Generate SMILES sequences using trained model.\n",
    "\n",
    "    Parameters:\n",
    "        model (keras.Model): The trained model for SMILES generation.\n",
    "        start_char (str): The starting character for SMILES generation.\n",
    "        max_length (int): Maximum length of the generated SMILES sequence.\n",
    "        temperature (float): Controls the randomness of sampling.\n",
    "\n",
    "    Returns:\n",
    "        numpy.ndarray: One-hot encoded array representing the generated SMILES sequence.\n",
    "    \"\"\"\n",
    "    input_sequence = np.zeros((1, 1, len(char_to_int)))\n",
    "    input_sequence[0, 0, char_to_int[start_char]] = 1\n",
    "    \n",
    "    #generate SMILES sequence in one-hot encoding format. \n",
    "    for _ in range(max_length):\n",
    "        #temperature sampling\n",
    "        predictions = model.predict(input_sequence)\n",
    "        predictions = np.log(predictions) / temperature\n",
    "        exp_predictions = np.exp(predictions)\n",
    "        normalized_predictions = exp_predictions / np.sum(exp_predictions)\n",
    "\n",
    "        #Sampling the next char using temperature sampling.\n",
    "        pred_char_index = np.random.choice(len(char_to_int), p=normalized_predictions[0, -1, :] / np.sum(normalized_predictions[0, -1, :]))\n",
    "        pred_char = int_to_char[pred_char_index]\n",
    "        \n",
    "        #if E is predicted, break\n",
    "        if pred_char == \"E\":\n",
    "            break\n",
    "        else:\n",
    "            #add next char to 2D array. \n",
    "            input_vector = np.zeros((1, 1, len(char_to_int)))\n",
    "            input_vector[0, 0, char_to_int[pred_char]] = 1\n",
    "            input_sequence = np.concatenate([input_sequence, input_vector], axis=1)\n",
    "            \n",
    "    return input_sequence\n",
    "\n",
    "\n",
    "def generate_smiles(model, num_samples=1000, max_length=50, temperature=1.0):\n",
    "    \"\"\"\n",
    "    Generate multiple SMILES sequences using sampling function\n",
    "\n",
    "    Parameters:\n",
    "        model (keras.Model): The trained model for SMILES generation.\n",
    "        num_samples (int): Number of SMILES sequences to generate.\n",
    "        max_length (int): Maximum length of each generated SMILES sequence.\n",
    "        temperature (float): Controls the randomness of character sampling.\n",
    "\n",
    "    Returns:\n",
    "        list: List of generated SMILES sequences.\n",
    "    \"\"\"\n",
    "    generated_sequences = []\n",
    "\n",
    "    for _ in range(num_samples):\n",
    "        #sample\n",
    "        one_hot = sampling(model, start_char=\"G\", max_length=max_length, temperature=temperature)\n",
    "        \n",
    "        #decode one-hot sequence into SMILES string\n",
    "        generated_sequence = decoder(one_hot, int_to_char)\n",
    "        \n",
    "        #append generated SMILES string to list\n",
    "        generated_sequences.append(generated_sequence)\n",
    "        \n",
    "    return generated_sequences"
   ]
  },
  {
   "cell_type": "code",
   "execution_count": null,
   "id": "316f7a22",
   "metadata": {},
   "outputs": [],
   "source": [
    "# Example usage\n",
    "x = generate_smiles(model, num_samples=50, max_length=30, temperature=0.7)"
   ]
  }
 ],
 "metadata": {
  "kernelspec": {
   "display_name": "Python 3",
   "language": "python",
   "name": "python3"
  },
  "language_info": {
   "codemirror_mode": {
    "name": "ipython",
    "version": 3
   },
   "file_extension": ".py",
   "mimetype": "text/x-python",
   "name": "python",
   "nbconvert_exporter": "python",
   "pygments_lexer": "ipython3",
   "version": "3.6.13"
  }
 },
 "nbformat": 4,
 "nbformat_minor": 5
}
